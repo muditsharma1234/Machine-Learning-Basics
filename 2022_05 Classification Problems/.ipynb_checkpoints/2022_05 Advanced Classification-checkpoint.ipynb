{
 "cells": [
  {
   "cell_type": "markdown",
   "id": "1c100f5f",
   "metadata": {},
   "source": [
    "### K-NN algorithm for classification\n",
    "We have discussed solution to the classification problem using logistic regression. Now logistic regression is a kind of parametric model we can also leverage non-parametric models to solve for classification problems. Let us try to understand the difference between Parametric and Non-Parametric models. \n",
    "\n",
    "- Parametric Models: These are kind of models which have a certain set of assumptions about the underlying data and the data is assumed to follow a certain type of probability distribution. \n",
    "- Non Parametric Models: These models do no assume anything about the underlying data as far as distributions are concerned. They try to memorize the train data and make the predictions based on the understanding of the underlying training dataset. "
   ]
  },
  {
   "cell_type": "markdown",
   "id": "53ad1feb",
   "metadata": {},
   "source": [
    "In K-NN model, the model tries to find an observation in the training dataset which is similar to the observation under consideration in Test Dataset. \n",
    "<br>Essentially the model when encountered with a new observation from the test dataset, it compares it with the train dataset and then finds the classification of the closest neighbor and classifies the new observation based on the **Nearest Neighbor**. \n",
    "<br>Coming to N, if N $\\neq$ 1 then instead of finding classification of the nearest neighbor it takes votes from the N nearest neighbors and gives the classification as per the outcome of the 'vote'\n",
    "\n",
    "<br>Let us understand this via a diagram:\n"
   ]
  },
  {
   "cell_type": "markdown",
   "id": "274c81c5",
   "metadata": {},
   "source": [
    "How do you define the 'nearest' here, nearest neighbors are typically defined using distance metrics and the most commonly used distance metrics is Euclidean Distance Metrics given by:\n",
    "\n",
    "$\\sqrt{(X_a - X_b)^2 + (Y_a - Y_b)^2}$\n",
    "\n",
    "is the Euclidean Distance between two points a and b. We are using 2-D plane to demonstrate this. However, this can go into any dimension the formula doesn't change. "
   ]
  },
  {
   "cell_type": "code",
   "execution_count": null,
   "id": "30cc990d",
   "metadata": {},
   "outputs": [],
   "source": []
  }
 ],
 "metadata": {
  "kernelspec": {
   "display_name": "Python 3 (ipykernel)",
   "language": "python",
   "name": "python3"
  },
  "language_info": {
   "codemirror_mode": {
    "name": "ipython",
    "version": 3
   },
   "file_extension": ".py",
   "mimetype": "text/x-python",
   "name": "python",
   "nbconvert_exporter": "python",
   "pygments_lexer": "ipython3",
   "version": "3.9.13"
  }
 },
 "nbformat": 4,
 "nbformat_minor": 5
}
