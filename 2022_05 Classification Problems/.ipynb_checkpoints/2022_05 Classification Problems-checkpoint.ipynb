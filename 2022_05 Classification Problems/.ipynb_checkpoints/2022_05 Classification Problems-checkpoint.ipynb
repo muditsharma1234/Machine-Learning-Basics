{
 "cells": [
  {
   "cell_type": "markdown",
   "id": "f9d232c6",
   "metadata": {},
   "source": [
    "#### Classification Problems in Machine Learning\n",
    "Classification problems are an important category of problems in machine learning. There can be multiple use cases of a classification problems:\n",
    "<br>We would like to predict if a particular new machine (laptop/ desktop) will lead to ask for a repair or not\n",
    "<br>Predict if a customer will default or not on a loan \n",
    "<br>If an employee will stay with the firm for longer than 6 months or not\n",
    "<br>If a new customer who has been acquired will be generating sufficient revenue or not \n",
    "<br>What will be the performance of a new employee on rating scale 1 - 5 who has just joined an organization\n",
    "\n",
    "Out of 5 problems above $1^{st}$ 4 are binary classification problems and last one is a multinomial classification problem. As you would have guessed in a binary classification problem there are only 2 possible outcomes whereas in a multinomial classification problem there is a possibility of more than one output. "
   ]
  },
  {
   "cell_type": "code",
   "execution_count": 15,
   "id": "e585c300",
   "metadata": {},
   "outputs": [
    {
     "data": {
      "text/plain": [
       "[<matplotlib.lines.Line2D at 0x14ed00f40>]"
      ]
     },
     "execution_count": 15,
     "metadata": {},
     "output_type": "execute_result"
    },
    {
     "data": {
      "image/png": "[encoded data removed]",
      "text/plain": [
       "<Figure size 432x288 with 1 Axes>"
      ]
     },
     "metadata": {
      "needs_background": "light"
     },
     "output_type": "display_data"
    }
   ],
   "source": [
    "##Plotting of Sigmoid function\n",
    "import numpy as np\n",
    "import matplotlib.pyplot as plt\n",
    "A = np.arange(-20,20,0.5)\n",
    "B = 1/(1 + np.exp(-A))\n",
    "plt.plot(A, B)"
   ]
  },
  {
   "cell_type": "markdown",
   "id": "d8823ce3",
   "metadata": {},
   "source": [
    "Equation of the Sigmoid Function is given as:\n",
    "$\\large \\frac{1}{(1+e^{-x})}$"
   ]
  },
  {
   "cell_type": "markdown",
   "id": "0e397e0e",
   "metadata": {},
   "source": [
    "Reading the dataset"
   ]
  },
  {
   "cell_type": "code",
   "execution_count": 54,
   "id": "b02608b1",
   "metadata": {},
   "outputs": [
    {
     "data": {
      "text/html": [
       "<div>\n",
       "<style scoped>\n",
       "    .dataframe tbody tr th:only-of-type {\n",
       "        vertical-align: middle;\n",
       "    }\n",
       "\n",
       "    .dataframe tbody tr th {\n",
       "        vertical-align: top;\n",
       "    }\n",
       "\n",
       "    .dataframe thead th {\n",
       "        text-align: right;\n",
       "    }\n",
       "</style>\n",
       "<table border=\"1\" class=\"dataframe\">\n",
       "  <thead>\n",
       "    <tr style=\"text-align: right;\">\n",
       "      <th></th>\n",
       "      <th>checkin_acc</th>\n",
       "      <th>duration</th>\n",
       "      <th>credit_history</th>\n",
       "      <th>amount</th>\n",
       "      <th>savings_acc</th>\n",
       "      <th>present_emp_since</th>\n",
       "      <th>inst_rate</th>\n",
       "      <th>personal_status</th>\n",
       "      <th>residing_since</th>\n",
       "      <th>age</th>\n",
       "      <th>inst_plans</th>\n",
       "      <th>num_credits</th>\n",
       "      <th>job</th>\n",
       "      <th>status</th>\n",
       "    </tr>\n",
       "  </thead>\n",
       "  <tbody>\n",
       "    <tr>\n",
       "      <th>0</th>\n",
       "      <td>A11</td>\n",
       "      <td>6</td>\n",
       "      <td>A34</td>\n",
       "      <td>1169</td>\n",
       "      <td>A65</td>\n",
       "      <td>A75</td>\n",
       "      <td>4</td>\n",
       "      <td>A93</td>\n",
       "      <td>4</td>\n",
       "      <td>67</td>\n",
       "      <td>A143</td>\n",
       "      <td>2</td>\n",
       "      <td>A173</td>\n",
       "      <td>0</td>\n",
       "    </tr>\n",
       "    <tr>\n",
       "      <th>1</th>\n",
       "      <td>A12</td>\n",
       "      <td>48</td>\n",
       "      <td>A32</td>\n",
       "      <td>5951</td>\n",
       "      <td>A61</td>\n",
       "      <td>A73</td>\n",
       "      <td>2</td>\n",
       "      <td>A92</td>\n",
       "      <td>2</td>\n",
       "      <td>22</td>\n",
       "      <td>A143</td>\n",
       "      <td>1</td>\n",
       "      <td>A173</td>\n",
       "      <td>1</td>\n",
       "    </tr>\n",
       "    <tr>\n",
       "      <th>2</th>\n",
       "      <td>A14</td>\n",
       "      <td>12</td>\n",
       "      <td>A34</td>\n",
       "      <td>2096</td>\n",
       "      <td>A61</td>\n",
       "      <td>A74</td>\n",
       "      <td>2</td>\n",
       "      <td>A93</td>\n",
       "      <td>3</td>\n",
       "      <td>49</td>\n",
       "      <td>A143</td>\n",
       "      <td>1</td>\n",
       "      <td>A172</td>\n",
       "      <td>0</td>\n",
       "    </tr>\n",
       "    <tr>\n",
       "      <th>3</th>\n",
       "      <td>A11</td>\n",
       "      <td>42</td>\n",
       "      <td>A32</td>\n",
       "      <td>7882</td>\n",
       "      <td>A61</td>\n",
       "      <td>A74</td>\n",
       "      <td>2</td>\n",
       "      <td>A93</td>\n",
       "      <td>4</td>\n",
       "      <td>45</td>\n",
       "      <td>A143</td>\n",
       "      <td>1</td>\n",
       "      <td>A173</td>\n",
       "      <td>0</td>\n",
       "    </tr>\n",
       "    <tr>\n",
       "      <th>4</th>\n",
       "      <td>A11</td>\n",
       "      <td>24</td>\n",
       "      <td>A33</td>\n",
       "      <td>4870</td>\n",
       "      <td>A61</td>\n",
       "      <td>A73</td>\n",
       "      <td>3</td>\n",
       "      <td>A93</td>\n",
       "      <td>4</td>\n",
       "      <td>53</td>\n",
       "      <td>A143</td>\n",
       "      <td>2</td>\n",
       "      <td>A173</td>\n",
       "      <td>1</td>\n",
       "    </tr>\n",
       "  </tbody>\n",
       "</table>\n",
       "</div>"
      ],
      "text/plain": [
       "  checkin_acc  duration credit_history  amount savings_acc present_emp_since  \\\n",
       "0         A11         6            A34    1169         A65               A75   \n",
       "1         A12        48            A32    5951         A61               A73   \n",
       "2         A14        12            A34    2096         A61               A74   \n",
       "3         A11        42            A32    7882         A61               A74   \n",
       "4         A11        24            A33    4870         A61               A73   \n",
       "\n",
       "   inst_rate personal_status  residing_since  age inst_plans  num_credits  \\\n",
       "0          4             A93               4   67       A143            2   \n",
       "1          2             A92               2   22       A143            1   \n",
       "2          2             A93               3   49       A143            1   \n",
       "3          2             A93               4   45       A143            1   \n",
       "4          3             A93               4   53       A143            2   \n",
       "\n",
       "    job  status  \n",
       "0  A173       0  \n",
       "1  A173       1  \n",
       "2  A172       0  \n",
       "3  A173       0  \n",
       "4  A173       1  "
      ]
     },
     "execution_count": 54,
     "metadata": {},
     "output_type": "execute_result"
    }
   ],
   "source": [
    "import pandas as pd\n",
    "base_data = pd.read_csv(\"Datasets/German Credit Data.csv\")\n",
    "base_data.head()"
   ]
  },
  {
   "cell_type": "markdown",
   "id": "37640658",
   "metadata": {},
   "source": [
    "Let us try to describe the data first to understand what is there in the data as there are a lot of codes in the data like - A11, A12 in ```checckin_acc``` column. \n",
    "\n",
    "***DESCRIPTION OF THE DATA SET***\n",
    "<img src = \"Images/Data_Description.png\" width = 800>"
   ]
  },
  {
   "cell_type": "code",
   "execution_count": 55,
   "id": "d57cf5bc",
   "metadata": {},
   "outputs": [
    {
     "name": "stdout",
     "output_type": "stream",
     "text": [
      "<class 'pandas.core.frame.DataFrame'>\n",
      "RangeIndex: 1000 entries, 0 to 999\n",
      "Data columns (total 14 columns):\n",
      " #   Column             Non-Null Count  Dtype \n",
      "---  ------             --------------  ----- \n",
      " 0   checkin_acc        1000 non-null   object\n",
      " 1   duration           1000 non-null   int64 \n",
      " 2   credit_history     1000 non-null   object\n",
      " 3   amount             1000 non-null   int64 \n",
      " 4   savings_acc        1000 non-null   object\n",
      " 5   present_emp_since  1000 non-null   object\n",
      " 6   inst_rate          1000 non-null   int64 \n",
      " 7   personal_status    1000 non-null   object\n",
      " 8   residing_since     1000 non-null   int64 \n",
      " 9   age                1000 non-null   int64 \n",
      " 10  inst_plans         1000 non-null   object\n",
      " 11  num_credits        1000 non-null   int64 \n",
      " 12  job                1000 non-null   object\n",
      " 13  status             1000 non-null   int64 \n",
      "dtypes: int64(7), object(7)\n",
      "memory usage: 109.5+ KB\n",
      "None\n",
      "\n",
      " \n",
      " Shape of the data set is given by - (1000, 14)\n"
     ]
    }
   ],
   "source": [
    "print(base_data.info())\n",
    "print(\"\\n \\n Shape of the data set is given by -\",base_data.shape)"
   ]
  },
  {
   "cell_type": "markdown",
   "id": "d44f3cd5",
   "metadata": {},
   "source": [
    "As we can see there are 7 categorical variables and 7 numerical variables in the data-set. There are total 1000 data points in the dataset. \n",
    "<br>Our output variable is Status whose value \n",
    "- **1: Bad Credit (Liable to Default)** \n",
    "- **0: Good Credit (Not Liable to Default)**"
   ]
  },
  {
   "cell_type": "code",
   "execution_count": 56,
   "id": "938a4fdc",
   "metadata": {},
   "outputs": [
    {
     "data": {
      "text/plain": [
       "0    700\n",
       "1    300\n",
       "Name: status, dtype: int64"
      ]
     },
     "execution_count": 56,
     "metadata": {},
     "output_type": "execute_result"
    }
   ],
   "source": [
    "base_data.status.value_counts()"
   ]
  },
  {
   "cell_type": "code",
   "execution_count": 57,
   "id": "f0ac55e9",
   "metadata": {},
   "outputs": [
    {
     "data": {
      "text/plain": [
       "['checkin_acc',\n",
       " 'duration',\n",
       " 'credit_history',\n",
       " 'amount',\n",
       " 'savings_acc',\n",
       " 'present_emp_since',\n",
       " 'inst_rate',\n",
       " 'personal_status',\n",
       " 'residing_since',\n",
       " 'age',\n",
       " 'inst_plans',\n",
       " 'num_credits',\n",
       " 'job']"
      ]
     },
     "execution_count": 57,
     "metadata": {},
     "output_type": "execute_result"
    }
   ],
   "source": [
    "X_features = list(base_data.columns)\n",
    "X_features.remove('status')\n",
    "X_features"
   ]
  },
  {
   "cell_type": "markdown",
   "id": "7a5cbd2c",
   "metadata": {},
   "source": [
    "We extract our Dependent and Independent variables using the command set above. We have following result:\n",
    "- Independent Variables: 13 Which will be used to predict the dependent variables\n",
    "- Dependent Variable: There is only 1 dependent variable with 2 levels (0 & 1) therefore this becomes a binary prediction problem"
   ]
  },
  {
   "cell_type": "markdown",
   "id": "7af893cd",
   "metadata": {},
   "source": [
    "Let us start our process of data processing which will have following steps:\n",
    "- Encoding Categorical Variables: "
   ]
  },
  {
   "cell_type": "code",
   "execution_count": 58,
   "id": "774c7bfb",
   "metadata": {},
   "outputs": [
    {
     "data": {
      "text/plain": [
       "['duration',\n",
       " 'amount',\n",
       " 'inst_rate',\n",
       " 'residing_since',\n",
       " 'age',\n",
       " 'num_credits',\n",
       " 'checkin_acc_A12',\n",
       " 'checkin_acc_A13',\n",
       " 'checkin_acc_A14',\n",
       " 'credit_history_A31',\n",
       " 'credit_history_A32',\n",
       " 'credit_history_A33',\n",
       " 'credit_history_A34',\n",
       " 'savings_acc_A62',\n",
       " 'savings_acc_A63',\n",
       " 'savings_acc_A64',\n",
       " 'savings_acc_A65',\n",
       " 'present_emp_since_A72',\n",
       " 'present_emp_since_A73',\n",
       " 'present_emp_since_A74',\n",
       " 'present_emp_since_A75',\n",
       " 'personal_status_A92',\n",
       " 'personal_status_A93',\n",
       " 'personal_status_A94',\n",
       " 'inst_plans_A142',\n",
       " 'inst_plans_A143',\n",
       " 'job_A172',\n",
       " 'job_A173',\n",
       " 'job_A174']"
      ]
     },
     "execution_count": 58,
     "metadata": {},
     "output_type": "execute_result"
    }
   ],
   "source": [
    "encoded_base_data = pd.get_dummies(base_data[X_features],\n",
    "                                  drop_first = True)\n",
    "\n",
    "list(encoded_base_data.columns)"
   ]
  },
  {
   "cell_type": "markdown",
   "id": "81ab12d2",
   "metadata": {},
   "source": [
    "As we know ```get_dummies``` method of pandas will only encode the ```object``` type of data and ```drop_first``` creates K-1 categories from K levels of categorical data. For example as is evident from the data-description table above our ```checkin_acc``` has 4 levels. However, in this case ```get_dummies``` method drops the first level. \n",
    "\n",
    "Remember we could have added the first level also. However, as per our discussion in the linear regression we know that Multicollinearity requires treatment otherwise \n",
    "- Condition Number value becomes too high\n",
    "- VIF parameter also becomes higher than 4 and our model may not be able to fit the data appropriately\n",
    "\n",
    "<br>And if we include all the levels of the categorical variable then by using K-1 levels we can predict the value of $K^{th}$ level and this is a typical case of multicollinearity. "
   ]
  },
  {
   "cell_type": "code",
   "execution_count": 59,
   "id": "808ce34e",
   "metadata": {},
   "outputs": [
    {
     "data": {
      "text/html": [
       "<div>\n",
       "<style scoped>\n",
       "    .dataframe tbody tr th:only-of-type {\n",
       "        vertical-align: middle;\n",
       "    }\n",
       "\n",
       "    .dataframe tbody tr th {\n",
       "        vertical-align: top;\n",
       "    }\n",
       "\n",
       "    .dataframe thead th {\n",
       "        text-align: right;\n",
       "    }\n",
       "</style>\n",
       "<table border=\"1\" class=\"dataframe\">\n",
       "  <thead>\n",
       "    <tr style=\"text-align: right;\">\n",
       "      <th></th>\n",
       "      <th>checkin_acc_A13</th>\n",
       "      <th>checkin_acc_A14</th>\n",
       "      <th>checkin_acc_A12</th>\n",
       "    </tr>\n",
       "  </thead>\n",
       "  <tbody>\n",
       "    <tr>\n",
       "      <th>0</th>\n",
       "      <td>0</td>\n",
       "      <td>0</td>\n",
       "      <td>0</td>\n",
       "    </tr>\n",
       "    <tr>\n",
       "      <th>1</th>\n",
       "      <td>0</td>\n",
       "      <td>0</td>\n",
       "      <td>1</td>\n",
       "    </tr>\n",
       "    <tr>\n",
       "      <th>2</th>\n",
       "      <td>0</td>\n",
       "      <td>1</td>\n",
       "      <td>0</td>\n",
       "    </tr>\n",
       "    <tr>\n",
       "      <th>3</th>\n",
       "      <td>0</td>\n",
       "      <td>0</td>\n",
       "      <td>0</td>\n",
       "    </tr>\n",
       "    <tr>\n",
       "      <th>4</th>\n",
       "      <td>0</td>\n",
       "      <td>0</td>\n",
       "      <td>0</td>\n",
       "    </tr>\n",
       "  </tbody>\n",
       "</table>\n",
       "</div>"
      ],
      "text/plain": [
       "   checkin_acc_A13  checkin_acc_A14  checkin_acc_A12\n",
       "0                0                0                0\n",
       "1                0                0                1\n",
       "2                0                1                0\n",
       "3                0                0                0\n",
       "4                0                0                0"
      ]
     },
     "execution_count": 59,
     "metadata": {},
     "output_type": "execute_result"
    }
   ],
   "source": [
    "encoded_base_data[['checkin_acc_A13','checkin_acc_A14','checkin_acc_A12']].head()"
   ]
  },
  {
   "cell_type": "markdown",
   "id": "2802848e",
   "metadata": {},
   "source": [
    "Let us start building our model now"
   ]
  },
  {
   "cell_type": "code",
   "execution_count": 60,
   "id": "9bfbb00d",
   "metadata": {},
   "outputs": [],
   "source": [
    "import statsmodels.api as sm\n",
    "from sklearn.model_selection import train_test_split\n",
    "Y = base_data['status']\n",
    "X = sm.add_constant(encoded_base_data)\n",
    "\n",
    "##Splitting the data into train and test datasets\n",
    "\n",
    "train_X, test_X, train_y, test_y = train_test_split(X,Y,test_size = 0.30,\n",
    "                                                   random_state = 1)"
   ]
  },
  {
   "cell_type": "code",
   "execution_count": 62,
   "id": "4ac5c79d",
   "metadata": {},
   "outputs": [
    {
     "name": "stdout",
     "output_type": "stream",
     "text": [
      "Optimization terminated successfully.\n",
      "         Current function value: 0.467094\n",
      "         Iterations 7\n"
     ]
    },
    {
     "data": {
      "text/html": [
       "<table class=\"simpletable\">\n",
       "<tr>\n",
       "        <td>Model:</td>              <td>Logit</td>      <td>Pseudo R-squared:</td>    <td>0.241</td>  \n",
       "</tr>\n",
       "<tr>\n",
       "  <td>Dependent Variable:</td>      <td>status</td>            <td>AIC:</td>         <td>713.9312</td> \n",
       "</tr>\n",
       "<tr>\n",
       "         <td>Date:</td>        <td>2022-05-14 18:19</td>       <td>BIC:</td>         <td>850.4636</td> \n",
       "</tr>\n",
       "<tr>\n",
       "   <td>No. Observations:</td>         <td>700</td>        <td>Log-Likelihood:</td>    <td>-326.97</td> \n",
       "</tr>\n",
       "<tr>\n",
       "       <td>Df Model:</td>             <td>29</td>            <td>LL-Null:</td>        <td>-430.94</td> \n",
       "</tr>\n",
       "<tr>\n",
       "     <td>Df Residuals:</td>           <td>670</td>         <td>LLR p-value:</td>    <td>5.8781e-29</td>\n",
       "</tr>\n",
       "<tr>\n",
       "      <td>Converged:</td>           <td>1.0000</td>           <td>Scale:</td>         <td>1.0000</td>  \n",
       "</tr>\n",
       "<tr>\n",
       "    <td>No. Iterations:</td>        <td>7.0000</td>              <td></td>               <td></td>     \n",
       "</tr>\n",
       "</table>\n",
       "<table class=\"simpletable\">\n",
       "<tr>\n",
       "            <td></td>             <th>Coef.</th>  <th>Std.Err.</th>    <th>z</th>     <th>P>|z|</th> <th>[0.025</th>  <th>0.975]</th> \n",
       "</tr>\n",
       "<tr>\n",
       "  <th>const</th>                 <td>-0.2300</td>  <td>1.2040</td>  <td>-0.1910</td> <td>0.8485</td> <td>-2.5899</td> <td>2.1299</td> \n",
       "</tr>\n",
       "<tr>\n",
       "  <th>duration</th>              <td>0.0258</td>   <td>0.0109</td>  <td>2.3733</td>  <td>0.0176</td> <td>0.0045</td>  <td>0.0471</td> \n",
       "</tr>\n",
       "<tr>\n",
       "  <th>amount</th>                <td>0.0001</td>   <td>0.0001</td>  <td>2.5747</td>  <td>0.0100</td> <td>0.0000</td>  <td>0.0002</td> \n",
       "</tr>\n",
       "<tr>\n",
       "  <th>inst_rate</th>             <td>0.4049</td>   <td>0.1006</td>  <td>4.0239</td>  <td>0.0001</td> <td>0.2077</td>  <td>0.6022</td> \n",
       "</tr>\n",
       "<tr>\n",
       "  <th>residing_since</th>        <td>0.0921</td>   <td>0.0959</td>  <td>0.9606</td>  <td>0.3368</td> <td>-0.0958</td> <td>0.2800</td> \n",
       "</tr>\n",
       "<tr>\n",
       "  <th>age</th>                   <td>-0.0223</td>  <td>0.0099</td>  <td>-2.2649</td> <td>0.0235</td> <td>-0.0417</td> <td>-0.0030</td>\n",
       "</tr>\n",
       "<tr>\n",
       "  <th>num_credits</th>           <td>0.5764</td>   <td>0.2322</td>  <td>2.4827</td>  <td>0.0130</td> <td>0.1214</td>  <td>1.0315</td> \n",
       "</tr>\n",
       "<tr>\n",
       "  <th>checkin_acc_A12</th>       <td>-0.5504</td>  <td>0.2447</td>  <td>-2.2496</td> <td>0.0245</td> <td>-1.0299</td> <td>-0.0709</td>\n",
       "</tr>\n",
       "<tr>\n",
       "  <th>checkin_acc_A13</th>       <td>-0.8236</td>  <td>0.4203</td>  <td>-1.9593</td> <td>0.0501</td> <td>-1.6475</td> <td>0.0003</td> \n",
       "</tr>\n",
       "<tr>\n",
       "  <th>checkin_acc_A14</th>       <td>-1.7092</td>  <td>0.2679</td>  <td>-6.3804</td> <td>0.0000</td> <td>-2.2342</td> <td>-1.1841</td>\n",
       "</tr>\n",
       "<tr>\n",
       "  <th>credit_history_A31</th>    <td>-0.6283</td>  <td>0.6359</td>  <td>-0.9881</td> <td>0.3231</td> <td>-1.8746</td> <td>0.6180</td> \n",
       "</tr>\n",
       "<tr>\n",
       "  <th>credit_history_A32</th>    <td>-0.8356</td>  <td>0.5163</td>  <td>-1.6183</td> <td>0.1056</td> <td>-1.8475</td> <td>0.1764</td> \n",
       "</tr>\n",
       "<tr>\n",
       "  <th>credit_history_A33</th>    <td>-1.1568</td>  <td>0.5614</td>  <td>-2.0605</td> <td>0.0393</td> <td>-2.2571</td> <td>-0.0564</td>\n",
       "</tr>\n",
       "<tr>\n",
       "  <th>credit_history_A34</th>    <td>-2.2153</td>  <td>0.5423</td>  <td>-4.0853</td> <td>0.0000</td> <td>-3.2782</td> <td>-1.1525</td>\n",
       "</tr>\n",
       "<tr>\n",
       "  <th>savings_acc_A62</th>       <td>-0.0425</td>  <td>0.3292</td>  <td>-0.1291</td> <td>0.8973</td> <td>-0.6877</td> <td>0.6027</td> \n",
       "</tr>\n",
       "<tr>\n",
       "  <th>savings_acc_A63</th>       <td>-0.1563</td>  <td>0.4679</td>  <td>-0.3340</td> <td>0.7384</td> <td>-1.0734</td> <td>0.7608</td> \n",
       "</tr>\n",
       "<tr>\n",
       "  <th>savings_acc_A64</th>       <td>-1.7350</td>  <td>0.6657</td>  <td>-2.6062</td> <td>0.0092</td> <td>-3.0397</td> <td>-0.4302</td>\n",
       "</tr>\n",
       "<tr>\n",
       "  <th>savings_acc_A65</th>       <td>-0.7814</td>  <td>0.2935</td>  <td>-2.6621</td> <td>0.0078</td> <td>-1.3568</td> <td>-0.2061</td>\n",
       "</tr>\n",
       "<tr>\n",
       "  <th>present_emp_since_A72</th> <td>0.0150</td>   <td>0.4713</td>  <td>0.0319</td>  <td>0.9745</td> <td>-0.9087</td> <td>0.9388</td> \n",
       "</tr>\n",
       "<tr>\n",
       "  <th>present_emp_since_A73</th> <td>-0.1361</td>  <td>0.4476</td>  <td>-0.3040</td> <td>0.7611</td> <td>-1.0134</td> <td>0.7413</td> \n",
       "</tr>\n",
       "<tr>\n",
       "  <th>present_emp_since_A74</th> <td>-0.7676</td>  <td>0.4846</td>  <td>-1.5839</td> <td>0.1132</td> <td>-1.7175</td> <td>0.1822</td> \n",
       "</tr>\n",
       "<tr>\n",
       "  <th>present_emp_since_A75</th> <td>-0.3189</td>  <td>0.4560</td>  <td>-0.6994</td> <td>0.4843</td> <td>-1.2127</td> <td>0.5748</td> \n",
       "</tr>\n",
       "<tr>\n",
       "  <th>personal_status_A92</th>   <td>-0.3978</td>  <td>0.4870</td>  <td>-0.8169</td> <td>0.4140</td> <td>-1.3524</td> <td>0.5567</td> \n",
       "</tr>\n",
       "<tr>\n",
       "  <th>personal_status_A93</th>   <td>-0.9293</td>  <td>0.4754</td>  <td>-1.9551</td> <td>0.0506</td> <td>-1.8610</td> <td>0.0023</td> \n",
       "</tr>\n",
       "<tr>\n",
       "  <th>personal_status_A94</th>   <td>-0.8490</td>  <td>0.5533</td>  <td>-1.5345</td> <td>0.1249</td> <td>-1.9333</td> <td>0.2354</td> \n",
       "</tr>\n",
       "<tr>\n",
       "  <th>inst_plans_A142</th>       <td>-0.2831</td>  <td>0.4810</td>  <td>-0.5884</td> <td>0.5562</td> <td>-1.2258</td> <td>0.6597</td> \n",
       "</tr>\n",
       "<tr>\n",
       "  <th>inst_plans_A143</th>       <td>-0.5198</td>  <td>0.2693</td>  <td>-1.9299</td> <td>0.0536</td> <td>-1.0477</td> <td>0.0081</td> \n",
       "</tr>\n",
       "<tr>\n",
       "  <th>job_A172</th>              <td>0.5035</td>   <td>0.8219</td>  <td>0.6126</td>  <td>0.5401</td> <td>-1.1074</td> <td>2.1144</td> \n",
       "</tr>\n",
       "<tr>\n",
       "  <th>job_A173</th>              <td>0.3228</td>   <td>0.7917</td>  <td>0.4078</td>  <td>0.6835</td> <td>-1.2289</td> <td>1.8745</td> \n",
       "</tr>\n",
       "<tr>\n",
       "  <th>job_A174</th>              <td>0.2335</td>   <td>0.7970</td>  <td>0.2930</td>  <td>0.7696</td> <td>-1.3287</td> <td>1.7957</td> \n",
       "</tr>\n",
       "</table>"
      ],
      "text/plain": [
       "<class 'statsmodels.iolib.summary2.Summary'>\n",
       "\"\"\"\n",
       "                           Results: Logit\n",
       "=====================================================================\n",
       "Model:                Logit             Pseudo R-squared:  0.241     \n",
       "Dependent Variable:   status            AIC:               713.9312  \n",
       "Date:                 2022-05-14 18:19  BIC:               850.4636  \n",
       "No. Observations:     700               Log-Likelihood:    -326.97   \n",
       "Df Model:             29                LL-Null:           -430.94   \n",
       "Df Residuals:         670               LLR p-value:       5.8781e-29\n",
       "Converged:            1.0000            Scale:             1.0000    \n",
       "No. Iterations:       7.0000                                         \n",
       "---------------------------------------------------------------------\n",
       "                       Coef.  Std.Err.    z    P>|z|   [0.025  0.975]\n",
       "---------------------------------------------------------------------\n",
       "const                 -0.2300   1.2040 -0.1910 0.8485 -2.5899  2.1299\n",
       "duration               0.0258   0.0109  2.3733 0.0176  0.0045  0.0471\n",
       "amount                 0.0001   0.0001  2.5747 0.0100  0.0000  0.0002\n",
       "inst_rate              0.4049   0.1006  4.0239 0.0001  0.2077  0.6022\n",
       "residing_since         0.0921   0.0959  0.9606 0.3368 -0.0958  0.2800\n",
       "age                   -0.0223   0.0099 -2.2649 0.0235 -0.0417 -0.0030\n",
       "num_credits            0.5764   0.2322  2.4827 0.0130  0.1214  1.0315\n",
       "checkin_acc_A12       -0.5504   0.2447 -2.2496 0.0245 -1.0299 -0.0709\n",
       "checkin_acc_A13       -0.8236   0.4203 -1.9593 0.0501 -1.6475  0.0003\n",
       "checkin_acc_A14       -1.7092   0.2679 -6.3804 0.0000 -2.2342 -1.1841\n",
       "credit_history_A31    -0.6283   0.6359 -0.9881 0.3231 -1.8746  0.6180\n",
       "credit_history_A32    -0.8356   0.5163 -1.6183 0.1056 -1.8475  0.1764\n",
       "credit_history_A33    -1.1568   0.5614 -2.0605 0.0393 -2.2571 -0.0564\n",
       "credit_history_A34    -2.2153   0.5423 -4.0853 0.0000 -3.2782 -1.1525\n",
       "savings_acc_A62       -0.0425   0.3292 -0.1291 0.8973 -0.6877  0.6027\n",
       "savings_acc_A63       -0.1563   0.4679 -0.3340 0.7384 -1.0734  0.7608\n",
       "savings_acc_A64       -1.7350   0.6657 -2.6062 0.0092 -3.0397 -0.4302\n",
       "savings_acc_A65       -0.7814   0.2935 -2.6621 0.0078 -1.3568 -0.2061\n",
       "present_emp_since_A72  0.0150   0.4713  0.0319 0.9745 -0.9087  0.9388\n",
       "present_emp_since_A73 -0.1361   0.4476 -0.3040 0.7611 -1.0134  0.7413\n",
       "present_emp_since_A74 -0.7676   0.4846 -1.5839 0.1132 -1.7175  0.1822\n",
       "present_emp_since_A75 -0.3189   0.4560 -0.6994 0.4843 -1.2127  0.5748\n",
       "personal_status_A92   -0.3978   0.4870 -0.8169 0.4140 -1.3524  0.5567\n",
       "personal_status_A93   -0.9293   0.4754 -1.9551 0.0506 -1.8610  0.0023\n",
       "personal_status_A94   -0.8490   0.5533 -1.5345 0.1249 -1.9333  0.2354\n",
       "inst_plans_A142       -0.2831   0.4810 -0.5884 0.5562 -1.2258  0.6597\n",
       "inst_plans_A143       -0.5198   0.2693 -1.9299 0.0536 -1.0477  0.0081\n",
       "job_A172               0.5035   0.8219  0.6126 0.5401 -1.1074  2.1144\n",
       "job_A173               0.3228   0.7917  0.4078 0.6835 -1.2289  1.8745\n",
       "job_A174               0.2335   0.7970  0.2930 0.7696 -1.3287  1.7957\n",
       "=====================================================================\n",
       "\n",
       "\"\"\""
      ]
     },
     "execution_count": 62,
     "metadata": {},
     "output_type": "execute_result"
    }
   ],
   "source": [
    "logistic_model = sm.Logit(train_y,train_X)\n",
    "logistic_model_fit = logistic_model.fit()\n",
    "logistic_model_fit.summary2()"
   ]
  },
  {
   "cell_type": "markdown",
   "id": "5ec36292",
   "metadata": {},
   "source": [
    "Default value of number of iterations is 35 beyond which the model fails. \n",
    "<br>Following are the parameters which define the quality of the logistic regression model:\n",
    "- P-Values associated with the parameters (This follows Chi-Square distribution unlike in Linear Regression where the coefficient follows T-Distribution): This test is called *WALD's TEST*\n",
    "- Pseudo-R-Square: Serves the same role as R-Square and Adjusted R-Square serves in the linear regression\n",
    "- Likelihood ratio significance of the overall model similar to F-statistics in the Linear Regression model (here this is a P-value)"
   ]
  },
  {
   "cell_type": "markdown",
   "id": "0d800123",
   "metadata": {},
   "source": [
    "**FILTERING THE MOST SIGNIFICANT VARIABLES**\n",
    "<br>Our P-values are stored in the ```pvalues``` variable in ```logistic_model_fit``` this is a ```pandas.series``` type of variable and the index of this variable is the names of our p-values it can be easily filtered. \n",
    "<br>Remember we are looking for $P-Value \\leq 0.05$. \n",
    "<br>Conversion into list makes it easier to extract the data from the original dataset. \n",
    "<br>We will be saving our significant variables in ```significant_variables```"
   ]
  },
  {
   "cell_type": "code",
   "execution_count": 69,
   "id": "3618e13c",
   "metadata": {},
   "outputs": [
    {
     "name": "stdout",
     "output_type": "stream",
     "text": [
      "['duration', 'amount', 'inst_rate', 'age', 'num_credits', 'checkin_acc_A12', 'checkin_acc_A14', 'credit_history_A33', 'credit_history_A34', 'savings_acc_A64', 'savings_acc_A65']\n",
      "30\n"
     ]
    }
   ],
   "source": [
    "significant_variables = list(logistic_model_fit.pvalues[logistic_model_fit.pvalues <= 0.05].index)\n",
    "print(significant_variables)\n",
    "print(len(logistic_model_fit.pvalues))"
   ]
  },
  {
   "cell_type": "markdown",
   "id": "c04f4f5f",
   "metadata": {},
   "source": [
    "We have 11 variables which are significant out of 30 variables. (Remember our original list of 14 odd variables got inflated due to the Encoding of these variables).\n",
    "<br>Now let us run the model agan with the selected variables."
   ]
  },
  {
   "cell_type": "code",
   "execution_count": 71,
   "id": "09dbd0c7",
   "metadata": {},
   "outputs": [
    {
     "name": "stdout",
     "output_type": "stream",
     "text": [
      "Optimization terminated successfully.\n",
      "         Current function value: 0.488668\n",
      "         Iterations 7\n"
     ]
    },
    {
     "data": {
      "text/html": [
       "<table class=\"simpletable\">\n",
       "<tr>\n",
       "        <td>Model:</td>              <td>Logit</td>      <td>Pseudo R-squared:</td>    <td>0.206</td>  \n",
       "</tr>\n",
       "<tr>\n",
       "  <td>Dependent Variable:</td>      <td>status</td>            <td>AIC:</td>         <td>708.1347</td> \n",
       "</tr>\n",
       "<tr>\n",
       "         <td>Date:</td>        <td>2022-05-14 18:27</td>       <td>BIC:</td>         <td>762.7477</td> \n",
       "</tr>\n",
       "<tr>\n",
       "   <td>No. Observations:</td>         <td>700</td>        <td>Log-Likelihood:</td>    <td>-342.07</td> \n",
       "</tr>\n",
       "<tr>\n",
       "       <td>Df Model:</td>             <td>11</td>            <td>LL-Null:</td>        <td>-430.94</td> \n",
       "</tr>\n",
       "<tr>\n",
       "     <td>Df Residuals:</td>           <td>688</td>         <td>LLR p-value:</td>    <td>2.9923e-32</td>\n",
       "</tr>\n",
       "<tr>\n",
       "      <td>Converged:</td>           <td>1.0000</td>           <td>Scale:</td>         <td>1.0000</td>  \n",
       "</tr>\n",
       "<tr>\n",
       "    <td>No. Iterations:</td>        <td>7.0000</td>              <td></td>               <td></td>     \n",
       "</tr>\n",
       "</table>\n",
       "<table class=\"simpletable\">\n",
       "<tr>\n",
       "           <td></td>           <th>Coef.</th>  <th>Std.Err.</th>    <th>z</th>     <th>P>|z|</th> <th>[0.025</th>  <th>0.975]</th> \n",
       "</tr>\n",
       "<tr>\n",
       "  <th>const</th>              <td>-1.7234</td>  <td>0.4984</td>  <td>-3.4576</td> <td>0.0005</td> <td>-2.7004</td> <td>-0.7465</td>\n",
       "</tr>\n",
       "<tr>\n",
       "  <th>duration</th>           <td>0.0231</td>   <td>0.0104</td>  <td>2.2258</td>  <td>0.0260</td> <td>0.0028</td>  <td>0.0434</td> \n",
       "</tr>\n",
       "<tr>\n",
       "  <th>amount</th>             <td>0.0001</td>   <td>0.0000</td>  <td>2.7975</td>  <td>0.0052</td> <td>0.0000</td>  <td>0.0002</td> \n",
       "</tr>\n",
       "<tr>\n",
       "  <th>inst_rate</th>          <td>0.3623</td>   <td>0.0953</td>  <td>3.8006</td>  <td>0.0001</td> <td>0.1755</td>  <td>0.5492</td> \n",
       "</tr>\n",
       "<tr>\n",
       "  <th>age</th>                <td>-0.0226</td>  <td>0.0086</td>  <td>-2.6412</td> <td>0.0083</td> <td>-0.0393</td> <td>-0.0058</td>\n",
       "</tr>\n",
       "<tr>\n",
       "  <th>num_credits</th>        <td>0.6401</td>   <td>0.2125</td>  <td>3.0116</td>  <td>0.0026</td> <td>0.2235</td>  <td>1.0566</td> \n",
       "</tr>\n",
       "<tr>\n",
       "  <th>checkin_acc_A12</th>    <td>-0.4399</td>  <td>0.2236</td>  <td>-1.9674</td> <td>0.0491</td> <td>-0.8782</td> <td>-0.0017</td>\n",
       "</tr>\n",
       "<tr>\n",
       "  <th>checkin_acc_A14</th>    <td>-1.6611</td>  <td>0.2467</td>  <td>-6.7323</td> <td>0.0000</td> <td>-2.1447</td> <td>-1.1775</td>\n",
       "</tr>\n",
       "<tr>\n",
       "  <th>credit_history_A33</th> <td>-0.5156</td>  <td>0.3287</td>  <td>-1.5686</td> <td>0.1167</td> <td>-1.1599</td> <td>0.1287</td> \n",
       "</tr>\n",
       "<tr>\n",
       "  <th>credit_history_A34</th> <td>-1.5610</td>  <td>0.3047</td>  <td>-5.1238</td> <td>0.0000</td> <td>-2.1581</td> <td>-0.9639</td>\n",
       "</tr>\n",
       "<tr>\n",
       "  <th>savings_acc_A64</th>    <td>-1.6827</td>  <td>0.6503</td>  <td>-2.5876</td> <td>0.0097</td> <td>-2.9573</td> <td>-0.4082</td>\n",
       "</tr>\n",
       "<tr>\n",
       "  <th>savings_acc_A65</th>    <td>-0.7644</td>  <td>0.2743</td>  <td>-2.7867</td> <td>0.0053</td> <td>-1.3020</td> <td>-0.2268</td>\n",
       "</tr>\n",
       "</table>"
      ],
      "text/plain": [
       "<class 'statsmodels.iolib.summary2.Summary'>\n",
       "\"\"\"\n",
       "                          Results: Logit\n",
       "==================================================================\n",
       "Model:               Logit            Pseudo R-squared: 0.206     \n",
       "Dependent Variable:  status           AIC:              708.1347  \n",
       "Date:                2022-05-14 18:27 BIC:              762.7477  \n",
       "No. Observations:    700              Log-Likelihood:   -342.07   \n",
       "Df Model:            11               LL-Null:          -430.94   \n",
       "Df Residuals:        688              LLR p-value:      2.9923e-32\n",
       "Converged:           1.0000           Scale:            1.0000    \n",
       "No. Iterations:      7.0000                                       \n",
       "------------------------------------------------------------------\n",
       "                    Coef.  Std.Err.    z    P>|z|   [0.025  0.975]\n",
       "------------------------------------------------------------------\n",
       "const              -1.7234   0.4984 -3.4576 0.0005 -2.7004 -0.7465\n",
       "duration            0.0231   0.0104  2.2258 0.0260  0.0028  0.0434\n",
       "amount              0.0001   0.0000  2.7975 0.0052  0.0000  0.0002\n",
       "inst_rate           0.3623   0.0953  3.8006 0.0001  0.1755  0.5492\n",
       "age                -0.0226   0.0086 -2.6412 0.0083 -0.0393 -0.0058\n",
       "num_credits         0.6401   0.2125  3.0116 0.0026  0.2235  1.0566\n",
       "checkin_acc_A12    -0.4399   0.2236 -1.9674 0.0491 -0.8782 -0.0017\n",
       "checkin_acc_A14    -1.6611   0.2467 -6.7323 0.0000 -2.1447 -1.1775\n",
       "credit_history_A33 -0.5156   0.3287 -1.5686 0.1167 -1.1599  0.1287\n",
       "credit_history_A34 -1.5610   0.3047 -5.1238 0.0000 -2.1581 -0.9639\n",
       "savings_acc_A64    -1.6827   0.6503 -2.5876 0.0097 -2.9573 -0.4082\n",
       "savings_acc_A65    -0.7644   0.2743 -2.7867 0.0053 -1.3020 -0.2268\n",
       "==================================================================\n",
       "\n",
       "\"\"\""
      ]
     },
     "execution_count": 71,
     "metadata": {},
     "output_type": "execute_result"
    }
   ],
   "source": [
    "logistic_model2 = sm.Logit(train_y,sm.add_constant(train_X[significant_variables]))\n",
    "logistic_model_fit2 = logistic_model2.fit()\n",
    "logistic_model_fit2.summary2()"
   ]
  },
  {
   "cell_type": "code",
   "execution_count": 77,
   "id": "b22c3197",
   "metadata": {},
   "outputs": [],
   "source": [
    "significant_variables2 = list(logistic_model_fit2.pvalues[logistic_model_fit2.pvalues <= 0.05].index)"
   ]
  },
  {
   "cell_type": "code",
   "execution_count": 78,
   "id": "6730c0ce",
   "metadata": {},
   "outputs": [
    {
     "name": "stdout",
     "output_type": "stream",
     "text": [
      "Optimization terminated successfully.\n",
      "         Current function value: 0.490472\n",
      "         Iterations 7\n"
     ]
    },
    {
     "data": {
      "text/html": [
       "<table class=\"simpletable\">\n",
       "<tr>\n",
       "        <td>Model:</td>              <td>Logit</td>      <td>Pseudo R-squared:</td>    <td>0.203</td>  \n",
       "</tr>\n",
       "<tr>\n",
       "  <td>Dependent Variable:</td>      <td>status</td>            <td>AIC:</td>         <td>708.6604</td> \n",
       "</tr>\n",
       "<tr>\n",
       "         <td>Date:</td>        <td>2022-05-14 18:40</td>       <td>BIC:</td>         <td>758.7223</td> \n",
       "</tr>\n",
       "<tr>\n",
       "   <td>No. Observations:</td>         <td>700</td>        <td>Log-Likelihood:</td>    <td>-343.33</td> \n",
       "</tr>\n",
       "<tr>\n",
       "       <td>Df Model:</td>             <td>10</td>            <td>LL-Null:</td>        <td>-430.94</td> \n",
       "</tr>\n",
       "<tr>\n",
       "     <td>Df Residuals:</td>           <td>689</td>         <td>LLR p-value:</td>    <td>2.2994e-32</td>\n",
       "</tr>\n",
       "<tr>\n",
       "      <td>Converged:</td>           <td>1.0000</td>           <td>Scale:</td>         <td>1.0000</td>  \n",
       "</tr>\n",
       "<tr>\n",
       "    <td>No. Iterations:</td>        <td>7.0000</td>              <td></td>               <td></td>     \n",
       "</tr>\n",
       "</table>\n",
       "<table class=\"simpletable\">\n",
       "<tr>\n",
       "           <td></td>           <th>Coef.</th>  <th>Std.Err.</th>    <th>z</th>     <th>P>|z|</th> <th>[0.025</th>  <th>0.975]</th> \n",
       "</tr>\n",
       "<tr>\n",
       "  <th>const</th>              <td>-1.5846</td>  <td>0.4899</td>  <td>-3.2343</td> <td>0.0012</td> <td>-2.5448</td> <td>-0.6243</td>\n",
       "</tr>\n",
       "<tr>\n",
       "  <th>duration</th>           <td>0.0215</td>   <td>0.0103</td>  <td>2.0919</td>  <td>0.0364</td> <td>0.0014</td>  <td>0.0416</td> \n",
       "</tr>\n",
       "<tr>\n",
       "  <th>amount</th>             <td>0.0001</td>   <td>0.0000</td>  <td>2.7755</td>  <td>0.0055</td> <td>0.0000</td>  <td>0.0002</td> \n",
       "</tr>\n",
       "<tr>\n",
       "  <th>inst_rate</th>          <td>0.3647</td>   <td>0.0952</td>  <td>3.8324</td>  <td>0.0001</td> <td>0.1782</td>  <td>0.5512</td> \n",
       "</tr>\n",
       "<tr>\n",
       "  <th>age</th>                <td>-0.0234</td>  <td>0.0085</td>  <td>-2.7341</td> <td>0.0063</td> <td>-0.0401</td> <td>-0.0066</td>\n",
       "</tr>\n",
       "<tr>\n",
       "  <th>num_credits</th>        <td>0.5343</td>   <td>0.2000</td>  <td>2.6714</td>  <td>0.0076</td> <td>0.1423</td>  <td>0.9262</td> \n",
       "</tr>\n",
       "<tr>\n",
       "  <th>checkin_acc_A12</th>    <td>-0.4736</td>  <td>0.2219</td>  <td>-2.1340</td> <td>0.0328</td> <td>-0.9086</td> <td>-0.0386</td>\n",
       "</tr>\n",
       "<tr>\n",
       "  <th>checkin_acc_A14</th>    <td>-1.7017</td>  <td>0.2458</td>  <td>-6.9225</td> <td>0.0000</td> <td>-2.1834</td> <td>-1.2199</td>\n",
       "</tr>\n",
       "<tr>\n",
       "  <th>credit_history_A34</th> <td>-1.4123</td>  <td>0.2872</td>  <td>-4.9182</td> <td>0.0000</td> <td>-1.9751</td> <td>-0.8495</td>\n",
       "</tr>\n",
       "<tr>\n",
       "  <th>savings_acc_A64</th>    <td>-1.6363</td>  <td>0.6444</td>  <td>-2.5392</td> <td>0.0111</td> <td>-2.8994</td> <td>-0.3733</td>\n",
       "</tr>\n",
       "<tr>\n",
       "  <th>savings_acc_A65</th>    <td>-0.7553</td>  <td>0.2748</td>  <td>-2.7484</td> <td>0.0060</td> <td>-1.2939</td> <td>-0.2167</td>\n",
       "</tr>\n",
       "</table>"
      ],
      "text/plain": [
       "<class 'statsmodels.iolib.summary2.Summary'>\n",
       "\"\"\"\n",
       "                          Results: Logit\n",
       "==================================================================\n",
       "Model:               Logit            Pseudo R-squared: 0.203     \n",
       "Dependent Variable:  status           AIC:              708.6604  \n",
       "Date:                2022-05-14 18:40 BIC:              758.7223  \n",
       "No. Observations:    700              Log-Likelihood:   -343.33   \n",
       "Df Model:            10               LL-Null:          -430.94   \n",
       "Df Residuals:        689              LLR p-value:      2.2994e-32\n",
       "Converged:           1.0000           Scale:            1.0000    \n",
       "No. Iterations:      7.0000                                       \n",
       "------------------------------------------------------------------\n",
       "                    Coef.  Std.Err.    z    P>|z|   [0.025  0.975]\n",
       "------------------------------------------------------------------\n",
       "const              -1.5846   0.4899 -3.2343 0.0012 -2.5448 -0.6243\n",
       "duration            0.0215   0.0103  2.0919 0.0364  0.0014  0.0416\n",
       "amount              0.0001   0.0000  2.7755 0.0055  0.0000  0.0002\n",
       "inst_rate           0.3647   0.0952  3.8324 0.0001  0.1782  0.5512\n",
       "age                -0.0234   0.0085 -2.7341 0.0063 -0.0401 -0.0066\n",
       "num_credits         0.5343   0.2000  2.6714 0.0076  0.1423  0.9262\n",
       "checkin_acc_A12    -0.4736   0.2219 -2.1340 0.0328 -0.9086 -0.0386\n",
       "checkin_acc_A14    -1.7017   0.2458 -6.9225 0.0000 -2.1834 -1.2199\n",
       "credit_history_A34 -1.4123   0.2872 -4.9182 0.0000 -1.9751 -0.8495\n",
       "savings_acc_A64    -1.6363   0.6444 -2.5392 0.0111 -2.8994 -0.3733\n",
       "savings_acc_A65    -0.7553   0.2748 -2.7484 0.0060 -1.2939 -0.2167\n",
       "==================================================================\n",
       "\n",
       "\"\"\""
      ]
     },
     "execution_count": 78,
     "metadata": {},
     "output_type": "execute_result"
    }
   ],
   "source": [
    "logistic_model3 = sm.Logit(train_y,sm.add_constant(train_X[significant_variables2]))\n",
    "logistic_model_fit3 = logistic_model3.fit()\n",
    "logistic_model_fit3.summary2()"
   ]
  },
  {
   "cell_type": "markdown",
   "id": "bf554d98",
   "metadata": {},
   "source": [
    "Now we predict the values of our variables basis the ```model3``` we created."
   ]
  },
  {
   "cell_type": "code",
   "execution_count": 83,
   "id": "84e3929e",
   "metadata": {},
   "outputs": [],
   "source": [
    "predicted_dataframe = pd.DataFrame({'Actual': test_y,\n",
    "                                  'Predicted Probability': logistic_model_fit3.predict(\n",
    "                                      sm.add_constant(test_X[significant_variables2]))})"
   ]
  },
  {
   "cell_type": "code",
   "execution_count": 84,
   "id": "d70cbf29",
   "metadata": {},
   "outputs": [
    {
     "data": {
      "text/html": [
       "<div>\n",
       "<style scoped>\n",
       "    .dataframe tbody tr th:only-of-type {\n",
       "        vertical-align: middle;\n",
       "    }\n",
       "\n",
       "    .dataframe tbody tr th {\n",
       "        vertical-align: top;\n",
       "    }\n",
       "\n",
       "    .dataframe thead th {\n",
       "        text-align: right;\n",
       "    }\n",
       "</style>\n",
       "<table border=\"1\" class=\"dataframe\">\n",
       "  <thead>\n",
       "    <tr style=\"text-align: right;\">\n",
       "      <th></th>\n",
       "      <th>Actual</th>\n",
       "      <th>Predicted Probability</th>\n",
       "    </tr>\n",
       "  </thead>\n",
       "  <tbody>\n",
       "    <tr>\n",
       "      <th>507</th>\n",
       "      <td>1</td>\n",
       "      <td>0.316365</td>\n",
       "    </tr>\n",
       "    <tr>\n",
       "      <th>818</th>\n",
       "      <td>0</td>\n",
       "      <td>0.808517</td>\n",
       "    </tr>\n",
       "    <tr>\n",
       "      <th>452</th>\n",
       "      <td>0</td>\n",
       "      <td>0.157357</td>\n",
       "    </tr>\n",
       "    <tr>\n",
       "      <th>368</th>\n",
       "      <td>1</td>\n",
       "      <td>0.653382</td>\n",
       "    </tr>\n",
       "    <tr>\n",
       "      <th>242</th>\n",
       "      <td>1</td>\n",
       "      <td>0.835823</td>\n",
       "    </tr>\n",
       "  </tbody>\n",
       "</table>\n",
       "</div>"
      ],
      "text/plain": [
       "     Actual  Predicted Probability\n",
       "507       1               0.316365\n",
       "818       0               0.808517\n",
       "452       0               0.157357\n",
       "368       1               0.653382\n",
       "242       1               0.835823"
      ]
     },
     "execution_count": 84,
     "metadata": {},
     "output_type": "execute_result"
    }
   ],
   "source": [
    "predicted_dataframe.head()"
   ]
  },
  {
   "cell_type": "markdown",
   "id": "0d5c0b28",
   "metadata": {},
   "source": [
    "We use the cut-off as 0.5 if the value is greater than 0.5 we assume the value to be 1 which is Bad Credit and 0 which is Good Credit Score"
   ]
  },
  {
   "cell_type": "code",
   "execution_count": 87,
   "id": "7ab83313",
   "metadata": {},
   "outputs": [
    {
     "data": {
      "text/html": [
       "<div>\n",
       "<style scoped>\n",
       "    .dataframe tbody tr th:only-of-type {\n",
       "        vertical-align: middle;\n",
       "    }\n",
       "\n",
       "    .dataframe tbody tr th {\n",
       "        vertical-align: top;\n",
       "    }\n",
       "\n",
       "    .dataframe thead th {\n",
       "        text-align: right;\n",
       "    }\n",
       "</style>\n",
       "<table border=\"1\" class=\"dataframe\">\n",
       "  <thead>\n",
       "    <tr style=\"text-align: right;\">\n",
       "      <th></th>\n",
       "      <th>Actual</th>\n",
       "      <th>Predicted Probability</th>\n",
       "      <th>Predicted</th>\n",
       "    </tr>\n",
       "  </thead>\n",
       "  <tbody>\n",
       "    <tr>\n",
       "      <th>507</th>\n",
       "      <td>1</td>\n",
       "      <td>0.316365</td>\n",
       "      <td>0</td>\n",
       "    </tr>\n",
       "    <tr>\n",
       "      <th>818</th>\n",
       "      <td>0</td>\n",
       "      <td>0.808517</td>\n",
       "      <td>1</td>\n",
       "    </tr>\n",
       "    <tr>\n",
       "      <th>452</th>\n",
       "      <td>0</td>\n",
       "      <td>0.157357</td>\n",
       "      <td>0</td>\n",
       "    </tr>\n",
       "    <tr>\n",
       "      <th>368</th>\n",
       "      <td>1</td>\n",
       "      <td>0.653382</td>\n",
       "      <td>1</td>\n",
       "    </tr>\n",
       "    <tr>\n",
       "      <th>242</th>\n",
       "      <td>1</td>\n",
       "      <td>0.835823</td>\n",
       "      <td>1</td>\n",
       "    </tr>\n",
       "    <tr>\n",
       "      <th>929</th>\n",
       "      <td>0</td>\n",
       "      <td>0.590245</td>\n",
       "      <td>1</td>\n",
       "    </tr>\n",
       "    <tr>\n",
       "      <th>262</th>\n",
       "      <td>0</td>\n",
       "      <td>0.388718</td>\n",
       "      <td>0</td>\n",
       "    </tr>\n",
       "    <tr>\n",
       "      <th>810</th>\n",
       "      <td>0</td>\n",
       "      <td>0.320521</td>\n",
       "      <td>0</td>\n",
       "    </tr>\n",
       "    <tr>\n",
       "      <th>318</th>\n",
       "      <td>0</td>\n",
       "      <td>0.070908</td>\n",
       "      <td>0</td>\n",
       "    </tr>\n",
       "    <tr>\n",
       "      <th>49</th>\n",
       "      <td>0</td>\n",
       "      <td>0.193255</td>\n",
       "      <td>0</td>\n",
       "    </tr>\n",
       "  </tbody>\n",
       "</table>\n",
       "</div>"
      ],
      "text/plain": [
       "     Actual  Predicted Probability  Predicted\n",
       "507       1               0.316365          0\n",
       "818       0               0.808517          1\n",
       "452       0               0.157357          0\n",
       "368       1               0.653382          1\n",
       "242       1               0.835823          1\n",
       "929       0               0.590245          1\n",
       "262       0               0.388718          0\n",
       "810       0               0.320521          0\n",
       "318       0               0.070908          0\n",
       "49        0               0.193255          0"
      ]
     },
     "execution_count": 87,
     "metadata": {},
     "output_type": "execute_result"
    }
   ],
   "source": [
    "predicted_dataframe['Predicted'] = predicted_dataframe['Predicted Probability'].map(lambda x: 1 if x > 0.5 else 0)\n",
    "predicted_dataframe.head(10)"
   ]
  },
  {
   "cell_type": "markdown",
   "id": "794d5fdf",
   "metadata": {},
   "source": [
    "As we can see that some of the values are correctly predicted and some are incorrectly predicted. Let us tabulate the values."
   ]
  },
  {
   "cell_type": "code",
   "execution_count": 113,
   "id": "3bd3fe15",
   "metadata": {},
   "outputs": [
    {
     "data": {
      "text/plain": [
       "Actual  Predicted\n",
       "0       0            185\n",
       "        1             29\n",
       "1       0             55\n",
       "        1             31\n",
       "dtype: int64"
      ]
     },
     "execution_count": 113,
     "metadata": {},
     "output_type": "execute_result"
    }
   ],
   "source": [
    "predicted_dataframe[['Actual','Predicted']].value_counts(normalize = False).sort_index()"
   ]
  },
  {
   "cell_type": "markdown",
   "id": "de6b7829",
   "metadata": {},
   "source": [
    "We can see that we have 185 predicted 0 when Actual is 0 and 55 cases where we predicted incorrectly with Good Score\n",
    "<br>Similarly, we have 31 cases where we predicted Bad Credit Score correctly and 29 cases where we predicted incorrectly. \n",
    "\n",
    "Probability of Correctly Predicting Good  = $\\frac{Correct_0}{Incorrect_0 + Correct_0}$ = $\\frac{185}{185+29}$ = 86%\n",
    "<br>Probability of Correctly Predicting Bad = $\\frac{Correct_1}{Incorrect_1 + Correct_1}$ = $\\frac{31}{31+55}$ = 36%\n",
    "\n",
    "While, we have done a good job of predicting Good Score our Probability of predicting Bad score is almost like a chance (36% probability - which is not good enough).\n",
    "<br>And the bank would be more interested in predicting the Bad Credit rather than Good Credit (from Risk Management Perspective)"
   ]
  },
  {
   "cell_type": "code",
   "execution_count": 116,
   "id": "0c37065e",
   "metadata": {},
   "outputs": [
    {
     "data": {
      "text/html": [
       "<div>\n",
       "<style scoped>\n",
       "    .dataframe tbody tr th:only-of-type {\n",
       "        vertical-align: middle;\n",
       "    }\n",
       "\n",
       "    .dataframe tbody tr th {\n",
       "        vertical-align: top;\n",
       "    }\n",
       "\n",
       "    .dataframe thead th {\n",
       "        text-align: right;\n",
       "    }\n",
       "</style>\n",
       "<table border=\"1\" class=\"dataframe\">\n",
       "  <thead>\n",
       "    <tr style=\"text-align: right;\">\n",
       "      <th>Predicted</th>\n",
       "      <th>0</th>\n",
       "      <th>1</th>\n",
       "    </tr>\n",
       "    <tr>\n",
       "      <th>Actual</th>\n",
       "      <th></th>\n",
       "      <th></th>\n",
       "    </tr>\n",
       "  </thead>\n",
       "  <tbody>\n",
       "    <tr>\n",
       "      <th>0</th>\n",
       "      <td>0.864486</td>\n",
       "      <td>0.135514</td>\n",
       "    </tr>\n",
       "    <tr>\n",
       "      <th>1</th>\n",
       "      <td>0.639535</td>\n",
       "      <td>0.360465</td>\n",
       "    </tr>\n",
       "    <tr>\n",
       "      <th>All</th>\n",
       "      <td>0.800000</td>\n",
       "      <td>0.200000</td>\n",
       "    </tr>\n",
       "  </tbody>\n",
       "</table>\n",
       "</div>"
      ],
      "text/plain": [
       "Predicted         0         1\n",
       "Actual                       \n",
       "0          0.864486  0.135514\n",
       "1          0.639535  0.360465\n",
       "All        0.800000  0.200000"
      ]
     },
     "execution_count": 116,
     "metadata": {},
     "output_type": "execute_result"
    }
   ],
   "source": [
    "pd.crosstab(predicted_dataframe.Actual,predicted_dataframe.Predicted,normalize = 'index',margins = True)"
   ]
  },
  {
   "cell_type": "code",
   "execution_count": 120,
   "id": "9f886e11",
   "metadata": {},
   "outputs": [
    {
     "data": {
      "text/html": [
       "<div>\n",
       "<style scoped>\n",
       "    .dataframe tbody tr th:only-of-type {\n",
       "        vertical-align: middle;\n",
       "    }\n",
       "\n",
       "    .dataframe tbody tr th {\n",
       "        vertical-align: top;\n",
       "    }\n",
       "\n",
       "    .dataframe thead th {\n",
       "        text-align: right;\n",
       "    }\n",
       "</style>\n",
       "<table border=\"1\" class=\"dataframe\">\n",
       "  <thead>\n",
       "    <tr style=\"text-align: right;\">\n",
       "      <th>Predicted</th>\n",
       "      <th>0</th>\n",
       "      <th>1</th>\n",
       "      <th>All</th>\n",
       "    </tr>\n",
       "    <tr>\n",
       "      <th>Actual</th>\n",
       "      <th></th>\n",
       "      <th></th>\n",
       "      <th></th>\n",
       "    </tr>\n",
       "  </thead>\n",
       "  <tbody>\n",
       "    <tr>\n",
       "      <th>0</th>\n",
       "      <td>185</td>\n",
       "      <td>29</td>\n",
       "      <td>214</td>\n",
       "    </tr>\n",
       "    <tr>\n",
       "      <th>1</th>\n",
       "      <td>55</td>\n",
       "      <td>31</td>\n",
       "      <td>86</td>\n",
       "    </tr>\n",
       "    <tr>\n",
       "      <th>All</th>\n",
       "      <td>240</td>\n",
       "      <td>60</td>\n",
       "      <td>300</td>\n",
       "    </tr>\n",
       "  </tbody>\n",
       "</table>\n",
       "</div>"
      ],
      "text/plain": [
       "Predicted    0   1  All\n",
       "Actual                 \n",
       "0          185  29  214\n",
       "1           55  31   86\n",
       "All        240  60  300"
      ]
     },
     "execution_count": 120,
     "metadata": {},
     "output_type": "execute_result"
    }
   ],
   "source": [
    "pd.crosstab(predicted_dataframe.Actual,predicted_dataframe.Predicted,normalize = False,margins = True)"
   ]
  },
  {
   "cell_type": "markdown",
   "id": "221f058a",
   "metadata": {},
   "source": [
    "This representation is called the ***CONFUSION MATRIX***. \n",
    "<br>Confusion Matrix has following elements: (Assuming we are trying to predict Bad Credit)\n",
    "- True Positive: Bad Credit which has been predicted as Bad Credit. Will correspond to (1,1) element in our above table\n",
    "- True Negative: Good Credit which has been predicted as Good Credit. Will correspond to (0,0) element in our above table\n",
    "- False Positive: Good Credit which has been predicted to be Bad Credit. Will correspond to (0,1) element in our above table\n",
    "- False Negative: Bad Credit which has been predicted to be Good Credit. Will correspond to (1,0) element in our above table"
   ]
  },
  {
   "cell_type": "markdown",
   "id": "1af6075c",
   "metadata": {},
   "source": [
    "Using the Confusion Matrix we can calculate some of the metrics for the accuracy of the model:\n",
    "- Sensitivity/ Recall: P(Predicted Class +ve | Actual Class +ve) in our case P(Bad Credit Prediction | Bad Credit Actual)\n",
    "- Specificity: P(Predicted Class -ve | Actual Class -ve) in our case P(Good Credit Prediction | Good Credit Actual)\n",
    "\n",
    "This can be specified in terms of True/ False Positive/Negative as follows:\n",
    "<br> Sensitivity/ Recall = $\\large \\frac{TP}{TP + FN}$\n",
    "<br> Specificity = $\\large \\frac{TN}{TN + FP}$\n",
    "\n",
    "These results can be easily obtained using Bayes' Theorem. \n",
    "\n",
    "Now if you try to understand the above results we are essentially how correctly the model is classifying the Bad and Good Credit. There should be one more metric how correctly the model is segregating the data. \n",
    "<br>Which is Probability of Actual Value being Positive given Predicted Value is Positive. \n",
    "<br>This metric is called Precision and Precision = $\\large \\frac{TP}{TP + FP}$\n",
    "\n",
    "<br>In order to Assess our Model we compute F-Score = $\\large\\frac{2\\times Recall \\times Precision}{Recall + Precision}$"
   ]
  },
  {
   "cell_type": "code",
   "execution_count": 122,
   "id": "7275967c",
   "metadata": {},
   "outputs": [
    {
     "name": "stdout",
     "output_type": "stream",
     "text": [
      "              precision    recall  f1-score   support\n",
      "\n",
      "           0       0.77      0.86      0.81       214\n",
      "           1       0.52      0.36      0.42        86\n",
      "\n",
      "    accuracy                           0.72       300\n",
      "   macro avg       0.64      0.61      0.62       300\n",
      "weighted avg       0.70      0.72      0.70       300\n",
      "\n"
     ]
    }
   ],
   "source": [
    "from sklearn import metrics\n",
    "print(metrics.classification_report(predicted_dataframe.Actual,predicted_dataframe.Predicted))"
   ]
  },
  {
   "cell_type": "markdown",
   "id": "12ada6f8",
   "metadata": {},
   "source": [
    "The above table gives two value each for Precision and Recall because it doesn't know what is our Positive is - 0 or 1. Also, it doesn't give Specificity. \n",
    "<br>However, above metrics is sufficient. \n",
    "\n",
    "<br>Also, note the model is very good at predicting ```Good Credit``` see the values against 0. However, pretty bad predicting the ```Bad Credit```. "
   ]
  },
  {
   "cell_type": "code",
   "execution_count": 153,
   "id": "67c7eb51",
   "metadata": {},
   "outputs": [
    {
     "name": "stderr",
     "output_type": "stream",
     "text": [
      "/Users/tool_vicarious/env1/lib/python3.9/site-packages/seaborn/distributions.py:2619: FutureWarning: `distplot` is a deprecated function and will be removed in a future version. Please adapt your code to use either `displot` (a figure-level function with similar flexibility) or `histplot` (an axes-level function for histograms).\n",
      "  warnings.warn(msg, FutureWarning)\n"
     ]
    },
    {
     "data": {
      "image/png": "[encoded data removed]",
      "text/plain": [
       "<Figure size 576x432 with 1 Axes>"
      ]
     },
     "metadata": {
      "needs_background": "light"
     },
     "output_type": "display_data"
    }
   ],
   "source": [
    "import seaborn as sn\n",
    "plt.figure(figsize = (8,6))\n",
    "sn.distplot(predicted_dataframe[predicted_dataframe.Actual == 1]['Predicted Probability'],\n",
    "            kde = True,color = 'b',label = 'Bad Credit')\n",
    "\n",
    "sn.distplot(predicted_dataframe['Predicted Probability'],\n",
    "            kde = True,color = 'g',label = 'Good Credit')\n",
    "plt.legend()\n",
    "plt.show()"
   ]
  },
  {
   "cell_type": "markdown",
   "id": "ea5a62b4",
   "metadata": {},
   "source": [
    "Here intersection region is our problem, we should try to minimize the intersections so our False Positive and False Negatives start reducing. This can be done by adjusting the ```cut-off``` probability which we had defined to be 0.5."
   ]
  },
  {
   "cell_type": "code",
   "execution_count": null,
   "id": "a9ebd853",
   "metadata": {},
   "outputs": [],
   "source": []
  }
 ],
 "metadata": {
  "kernelspec": {
   "display_name": "Python 3 (ipykernel)",
   "language": "python",
   "name": "python3"
  },
  "language_info": {
   "codemirror_mode": {
    "name": "ipython",
    "version": 3
   },
   "file_extension": ".py",
   "mimetype": "text/x-python",
   "name": "python",
   "nbconvert_exporter": "python",
   "pygments_lexer": "ipython3",
   "version": "3.9.12"
  }
 },
 "nbformat": 4,
 "nbformat_minor": 5
}
