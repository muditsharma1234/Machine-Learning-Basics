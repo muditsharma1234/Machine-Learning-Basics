{
 "cells": [
  {
   "cell_type": "markdown",
   "id": "26e2de5e",
   "metadata": {},
   "source": [
    "### Ensemble Models (Random Forest)\n",
    "In our previous approaches for linear regression and logistic regression we used single model and improved the accuracy of the model using that particular model. However, in case of ensemble models we take multiple models and attempt to arrive at an answer (can be a regression outcome or a logistic classification outcome). \n",
    "\n",
    "Subsequently, these models are then combined to provide one final outcome. This is very similar to you taking votes from your friends for some decision you might be taking. **MORE HEADS MORE IDEAS & BETTER RESULTS** is the fundamental thought behind these models.\n",
    "\n",
    "In case of ensemble models we generally take a single training data set and it is divided into sub-models this approach can be done via one (or mix) of the following:\n",
    "- Divide the data set into subsets for each of the sub-models (Horizontal Division)\n",
    "- Divide the features in the training data sets and train on the limited sets of features (Vertical Division)\n",
    "<br>We generally divide the data both horizontally and vertically to train the ensemble models. \n",
    "\n",
    "Ensemble models can be understood via a picture below:\n",
    "\n",
    "<img src=\"Images/Ensemble Model.jpeg\" width=\"800\">"
   ]
  },
  {
   "cell_type": "markdown",
   "id": "af5c4d23",
   "metadata": {},
   "source": [
    "---\n",
    "**Bagging**, you would've heard this term a lot of times. This is basically nothing but combination of Bootstrapping and Aggregating. Bootstrapping means division of data basis features or data-points and aggregating means aggregating results from multiple models. \n",
    "\n",
    "There are a few more technical terms we would want to understand before we actually start implementing one of the most common Ensemble methods, **RANDOM FOREST**. \n",
    "\n",
    "- **BOOT STRAPPING**: Bootstrapping means choosing samples from the data with replacement. Each sample that is chosen is called a BAG and the observations which do not form the part of the BAG are called OUT OF BAG samples.\n",
    "- **HYPER PARAMETERS**: Hyper parameters associated with Random Forest are:\n",
    "    - Number of Decision Trees\n",
    "    - Number of records/ features to be sampled\n",
    "    - Depth and Search Criteria (this is same as classification trees - Gini/ Entropy)\n",
    "- **FEATURE SELECTION**: Unlike bootstrapping (where features are selected with replacement) feature selection in Random Forest is done without replacement. Which means if one of the sub-models has received Feature say checking account then the next sub-models will not get checking account as a feature.\n",
    "    \n",
    "Random forest essentially tries to create multiple decision trees and because the features are selected without replacement the trees are not correlated with each other (this reduces possibility of overfitting). "
   ]
  },
  {
   "cell_type": "markdown",
   "id": "511f8acb",
   "metadata": {},
   "source": [
    "##### Implementation of Random Forest\n",
    "We will use the German Credit Score data for building our Random Forest model you can see the description of the model HERE (insert link for the logistic regression model). "
   ]
  },
  {
   "cell_type": "code",
   "execution_count": 1,
   "id": "1fdde61a",
   "metadata": {},
   "outputs": [
    {
     "data": {
      "text/html": [
       "<div>\n",
       "<style scoped>\n",
       "    .dataframe tbody tr th:only-of-type {\n",
       "        vertical-align: middle;\n",
       "    }\n",
       "\n",
       "    .dataframe tbody tr th {\n",
       "        vertical-align: top;\n",
       "    }\n",
       "\n",
       "    .dataframe thead th {\n",
       "        text-align: right;\n",
       "    }\n",
       "</style>\n",
       "<table border=\"1\" class=\"dataframe\">\n",
       "  <thead>\n",
       "    <tr style=\"text-align: right;\">\n",
       "      <th></th>\n",
       "      <th>checkin_acc</th>\n",
       "      <th>duration</th>\n",
       "      <th>credit_history</th>\n",
       "      <th>amount</th>\n",
       "      <th>savings_acc</th>\n",
       "      <th>present_emp_since</th>\n",
       "      <th>inst_rate</th>\n",
       "      <th>personal_status</th>\n",
       "      <th>residing_since</th>\n",
       "      <th>age</th>\n",
       "      <th>inst_plans</th>\n",
       "      <th>num_credits</th>\n",
       "      <th>job</th>\n",
       "      <th>status</th>\n",
       "    </tr>\n",
       "  </thead>\n",
       "  <tbody>\n",
       "    <tr>\n",
       "      <th>0</th>\n",
       "      <td>A11</td>\n",
       "      <td>6</td>\n",
       "      <td>A34</td>\n",
       "      <td>1169</td>\n",
       "      <td>A65</td>\n",
       "      <td>A75</td>\n",
       "      <td>4</td>\n",
       "      <td>A93</td>\n",
       "      <td>4</td>\n",
       "      <td>67</td>\n",
       "      <td>A143</td>\n",
       "      <td>2</td>\n",
       "      <td>A173</td>\n",
       "      <td>0</td>\n",
       "    </tr>\n",
       "    <tr>\n",
       "      <th>1</th>\n",
       "      <td>A12</td>\n",
       "      <td>48</td>\n",
       "      <td>A32</td>\n",
       "      <td>5951</td>\n",
       "      <td>A61</td>\n",
       "      <td>A73</td>\n",
       "      <td>2</td>\n",
       "      <td>A92</td>\n",
       "      <td>2</td>\n",
       "      <td>22</td>\n",
       "      <td>A143</td>\n",
       "      <td>1</td>\n",
       "      <td>A173</td>\n",
       "      <td>1</td>\n",
       "    </tr>\n",
       "    <tr>\n",
       "      <th>2</th>\n",
       "      <td>A14</td>\n",
       "      <td>12</td>\n",
       "      <td>A34</td>\n",
       "      <td>2096</td>\n",
       "      <td>A61</td>\n",
       "      <td>A74</td>\n",
       "      <td>2</td>\n",
       "      <td>A93</td>\n",
       "      <td>3</td>\n",
       "      <td>49</td>\n",
       "      <td>A143</td>\n",
       "      <td>1</td>\n",
       "      <td>A172</td>\n",
       "      <td>0</td>\n",
       "    </tr>\n",
       "    <tr>\n",
       "      <th>3</th>\n",
       "      <td>A11</td>\n",
       "      <td>42</td>\n",
       "      <td>A32</td>\n",
       "      <td>7882</td>\n",
       "      <td>A61</td>\n",
       "      <td>A74</td>\n",
       "      <td>2</td>\n",
       "      <td>A93</td>\n",
       "      <td>4</td>\n",
       "      <td>45</td>\n",
       "      <td>A143</td>\n",
       "      <td>1</td>\n",
       "      <td>A173</td>\n",
       "      <td>0</td>\n",
       "    </tr>\n",
       "    <tr>\n",
       "      <th>4</th>\n",
       "      <td>A11</td>\n",
       "      <td>24</td>\n",
       "      <td>A33</td>\n",
       "      <td>4870</td>\n",
       "      <td>A61</td>\n",
       "      <td>A73</td>\n",
       "      <td>3</td>\n",
       "      <td>A93</td>\n",
       "      <td>4</td>\n",
       "      <td>53</td>\n",
       "      <td>A143</td>\n",
       "      <td>2</td>\n",
       "      <td>A173</td>\n",
       "      <td>1</td>\n",
       "    </tr>\n",
       "  </tbody>\n",
       "</table>\n",
       "</div>"
      ],
      "text/plain": [
       "  checkin_acc  duration credit_history  amount savings_acc present_emp_since  \\\n",
       "0         A11         6            A34    1169         A65               A75   \n",
       "1         A12        48            A32    5951         A61               A73   \n",
       "2         A14        12            A34    2096         A61               A74   \n",
       "3         A11        42            A32    7882         A61               A74   \n",
       "4         A11        24            A33    4870         A61               A73   \n",
       "\n",
       "   inst_rate personal_status  residing_since  age inst_plans  num_credits  \\\n",
       "0          4             A93               4   67       A143            2   \n",
       "1          2             A92               2   22       A143            1   \n",
       "2          2             A93               3   49       A143            1   \n",
       "3          2             A93               4   45       A143            1   \n",
       "4          3             A93               4   53       A143            2   \n",
       "\n",
       "    job  status  \n",
       "0  A173       0  \n",
       "1  A173       1  \n",
       "2  A172       0  \n",
       "3  A173       0  \n",
       "4  A173       1  "
      ]
     },
     "execution_count": 1,
     "metadata": {},
     "output_type": "execute_result"
    }
   ],
   "source": [
    "import pandas as pd\n",
    "import numpy as np\n",
    "base_data = pd.read_csv(\"Datasets/german.data.csv\",header = None)\n",
    "#print(base_data_2.head())\n",
    "#base_data_2 = pd.read_csv(\"~/Downloads/german.data.csv\",header = None)\n",
    "base_data.columns = ['checkin_acc','duration','credit_history','purpose','amount',\n",
    "                      'savings_acc','present_emp_since','inst_rate',\n",
    "                      'personal_status','other_debters','residing_since','property','age','inst_plans','housing',\n",
    "                      'num_credits','job','dependent_count','telephone','foreign_worker','status']\n",
    "base_data['status'] = np.where(base_data['status']==1,0,1)\n",
    "base_data.head()\n",
    "\n",
    "selected_columns = ['checkin_acc', 'duration', 'credit_history', 'amount', 'savings_acc',\n",
    "       'present_emp_since', 'inst_rate', 'personal_status', 'residing_since',\n",
    "       'age', 'inst_plans', 'num_credits', 'job', 'status']\n",
    "base_data = base_data[selected_columns]\n",
    "\n",
    "base_data.head()"
   ]
  },
  {
   "cell_type": "code",
   "execution_count": 2,
   "id": "873a1adf",
   "metadata": {},
   "outputs": [
    {
     "data": {
      "text/plain": [
       "['checkin_acc',\n",
       " 'duration',\n",
       " 'credit_history',\n",
       " 'amount',\n",
       " 'savings_acc',\n",
       " 'present_emp_since',\n",
       " 'inst_rate',\n",
       " 'personal_status',\n",
       " 'residing_since',\n",
       " 'age',\n",
       " 'inst_plans',\n",
       " 'num_credits',\n",
       " 'job']"
      ]
     },
     "execution_count": 2,
     "metadata": {},
     "output_type": "execute_result"
    }
   ],
   "source": [
    "X_features = list(base_data.columns)\n",
    "X_features.remove('status')\n",
    "X_features"
   ]
  },
  {
   "cell_type": "code",
   "execution_count": 3,
   "id": "7d7516da",
   "metadata": {},
   "outputs": [],
   "source": [
    "#Conversion of data into dummy variables.\n",
    "Y_variable = base_data.status\n",
    "X_variable = pd.get_dummies(base_data[X_features],drop_first = True)\n",
    "X_variable.head()\n",
    "from sklearn.model_selection import train_test_split\n",
    "train_X, test_X, train_Y, test_Y = train_test_split(X_variable,Y_variable, test_size = 0.3, random_state = 1)"
   ]
  },
  {
   "cell_type": "markdown",
   "id": "bad06503",
   "metadata": {},
   "source": [
    "Before we start implementing the classifier let us understand the parameters which are required to create the model. *RandomForestClassifier* is available in *sklearn.ensemble* library and it takes following parameters:\n",
    "1. n_estimators (Integer): Number of trees in the forest (these are essentially our sub-models)\n",
    "2. criterion (String): Is the criteria to measure the accuracy of the split (Gini or Entropy) to read about them you can read it **here (insert link)**\n",
    "3. max_features (Integer/ Float/ String): Number of features to be used for each tree (sub-models).\n",
    "    - Auto/ None: All the features are used for individual trees\n",
    "    - sqrt: Will take square-root of number of features available in the data\n",
    "    - float: Will take % of the number of features in the data"
   ]
  },
  {
   "cell_type": "code",
   "execution_count": 4,
   "id": "9cefa1cb",
   "metadata": {},
   "outputs": [],
   "source": [
    "from sklearn.ensemble import RandomForestClassifier"
   ]
  },
  {
   "cell_type": "code",
   "execution_count": 5,
   "id": "929bf612",
   "metadata": {},
   "outputs": [
    {
     "data": {
      "text/html": [
       "<style>#sk-container-id-1 {color: black;background-color: white;}#sk-container-id-1 pre{padding: 0;}#sk-container-id-1 div.sk-toggleable {background-color: white;}#sk-container-id-1 label.sk-toggleable__label {cursor: pointer;display: block;width: 100%;margin-bottom: 0;padding: 0.3em;box-sizing: border-box;text-align: center;}#sk-container-id-1 label.sk-toggleable__label-arrow:before {content: \"▸\";float: left;margin-right: 0.25em;color: #696969;}#sk-container-id-1 label.sk-toggleable__label-arrow:hover:before {color: black;}#sk-container-id-1 div.sk-estimator:hover label.sk-toggleable__label-arrow:before {color: black;}#sk-container-id-1 div.sk-toggleable__content {max-height: 0;max-width: 0;overflow: hidden;text-align: left;background-color: #f0f8ff;}#sk-container-id-1 div.sk-toggleable__content pre {margin: 0.2em;color: black;border-radius: 0.25em;background-color: #f0f8ff;}#sk-container-id-1 input.sk-toggleable__control:checked~div.sk-toggleable__content {max-height: 200px;max-width: 100%;overflow: auto;}#sk-container-id-1 input.sk-toggleable__control:checked~label.sk-toggleable__label-arrow:before {content: \"▾\";}#sk-container-id-1 div.sk-estimator input.sk-toggleable__control:checked~label.sk-toggleable__label {background-color: #d4ebff;}#sk-container-id-1 div.sk-label input.sk-toggleable__control:checked~label.sk-toggleable__label {background-color: #d4ebff;}#sk-container-id-1 input.sk-hidden--visually {border: 0;clip: rect(1px 1px 1px 1px);clip: rect(1px, 1px, 1px, 1px);height: 1px;margin: -1px;overflow: hidden;padding: 0;position: absolute;width: 1px;}#sk-container-id-1 div.sk-estimator {font-family: monospace;background-color: #f0f8ff;border: 1px dotted black;border-radius: 0.25em;box-sizing: border-box;margin-bottom: 0.5em;}#sk-container-id-1 div.sk-estimator:hover {background-color: #d4ebff;}#sk-container-id-1 div.sk-parallel-item::after {content: \"\";width: 100%;border-bottom: 1px solid gray;flex-grow: 1;}#sk-container-id-1 div.sk-label:hover label.sk-toggleable__label {background-color: #d4ebff;}#sk-container-id-1 div.sk-serial::before {content: \"\";position: absolute;border-left: 1px solid gray;box-sizing: border-box;top: 0;bottom: 0;left: 50%;z-index: 0;}#sk-container-id-1 div.sk-serial {display: flex;flex-direction: column;align-items: center;background-color: white;padding-right: 0.2em;padding-left: 0.2em;position: relative;}#sk-container-id-1 div.sk-item {position: relative;z-index: 1;}#sk-container-id-1 div.sk-parallel {display: flex;align-items: stretch;justify-content: center;background-color: white;position: relative;}#sk-container-id-1 div.sk-item::before, #sk-container-id-1 div.sk-parallel-item::before {content: \"\";position: absolute;border-left: 1px solid gray;box-sizing: border-box;top: 0;bottom: 0;left: 50%;z-index: -1;}#sk-container-id-1 div.sk-parallel-item {display: flex;flex-direction: column;z-index: 1;position: relative;background-color: white;}#sk-container-id-1 div.sk-parallel-item:first-child::after {align-self: flex-end;width: 50%;}#sk-container-id-1 div.sk-parallel-item:last-child::after {align-self: flex-start;width: 50%;}#sk-container-id-1 div.sk-parallel-item:only-child::after {width: 0;}#sk-container-id-1 div.sk-dashed-wrapped {border: 1px dashed gray;margin: 0 0.4em 0.5em 0.4em;box-sizing: border-box;padding-bottom: 0.4em;background-color: white;}#sk-container-id-1 div.sk-label label {font-family: monospace;font-weight: bold;display: inline-block;line-height: 1.2em;}#sk-container-id-1 div.sk-label-container {text-align: center;}#sk-container-id-1 div.sk-container {/* jupyter's `normalize.less` sets `[hidden] { display: none; }` but bootstrap.min.css set `[hidden] { display: none !important; }` so we also need the `!important` here to be able to override the default hidden behavior on the sphinx rendered scikit-learn.org. See: https://github.com/scikit-learn/scikit-learn/issues/21755 */display: inline-block !important;position: relative;}#sk-container-id-1 div.sk-text-repr-fallback {display: none;}</style><div id=\"sk-container-id-1\" class=\"sk-top-container\"><div class=\"sk-text-repr-fallback\"><pre>RandomForestClassifier(max_depth=10, n_estimators=10)</pre><b>In a Jupyter environment, please rerun this cell to show the HTML representation or trust the notebook. <br />On GitHub, the HTML representation is unable to render, please try loading this page with nbviewer.org.</b></div><div class=\"sk-container\" hidden><div class=\"sk-item\"><div class=\"sk-estimator sk-toggleable\"><input class=\"sk-toggleable__control sk-hidden--visually\" id=\"sk-estimator-id-1\" type=\"checkbox\" checked><label for=\"sk-estimator-id-1\" class=\"sk-toggleable__label sk-toggleable__label-arrow\">RandomForestClassifier</label><div class=\"sk-toggleable__content\"><pre>RandomForestClassifier(max_depth=10, n_estimators=10)</pre></div></div></div></div></div>"
      ],
      "text/plain": [
       "RandomForestClassifier(max_depth=10, n_estimators=10)"
      ]
     },
     "execution_count": 5,
     "metadata": {},
     "output_type": "execute_result"
    }
   ],
   "source": [
    "rforest_clf = RandomForestClassifier(max_depth = 10, n_estimators = 10)\n",
    "rforest_clf.fit(train_X,train_Y)"
   ]
  },
  {
   "cell_type": "markdown",
   "id": "e8456e3f",
   "metadata": {},
   "source": [
    "#### Assessing the Model\n",
    "Now we will assess the ```random forest``` model, we will be using ```predict_proba``` parameter of random forest classifier to check for the accuracy of the model on test prediction. \n",
    "\n",
    "```predict_proba``` gives the output in form of pair, if you note the sum total of each row is 1. Each of the numbers in proba table gives probability of getting 0 and 1 respectively. \n",
    "\n",
    "Example in first row we can see probability of getting 0 is 0.853859 and 1 is 0.146141. Now the first record will be categorized as 0 given the probability. "
   ]
  },
  {
   "cell_type": "code",
   "execution_count": 6,
   "id": "9c97d068",
   "metadata": {},
   "outputs": [
    {
     "data": {
      "text/html": [
       "<div>\n",
       "<style scoped>\n",
       "    .dataframe tbody tr th:only-of-type {\n",
       "        vertical-align: middle;\n",
       "    }\n",
       "\n",
       "    .dataframe tbody tr th {\n",
       "        vertical-align: top;\n",
       "    }\n",
       "\n",
       "    .dataframe thead th {\n",
       "        text-align: right;\n",
       "    }\n",
       "</style>\n",
       "<table border=\"1\" class=\"dataframe\">\n",
       "  <thead>\n",
       "    <tr style=\"text-align: right;\">\n",
       "      <th></th>\n",
       "      <th>0</th>\n",
       "      <th>1</th>\n",
       "    </tr>\n",
       "  </thead>\n",
       "  <tbody>\n",
       "    <tr>\n",
       "      <th>0</th>\n",
       "      <td>0.591967</td>\n",
       "      <td>0.408033</td>\n",
       "    </tr>\n",
       "    <tr>\n",
       "      <th>1</th>\n",
       "      <td>0.288889</td>\n",
       "      <td>0.711111</td>\n",
       "    </tr>\n",
       "    <tr>\n",
       "      <th>2</th>\n",
       "      <td>0.940774</td>\n",
       "      <td>0.059226</td>\n",
       "    </tr>\n",
       "    <tr>\n",
       "      <th>3</th>\n",
       "      <td>0.417778</td>\n",
       "      <td>0.582222</td>\n",
       "    </tr>\n",
       "    <tr>\n",
       "      <th>4</th>\n",
       "      <td>0.165222</td>\n",
       "      <td>0.834778</td>\n",
       "    </tr>\n",
       "  </tbody>\n",
       "</table>\n",
       "</div>"
      ],
      "text/plain": [
       "          0         1\n",
       "0  0.591967  0.408033\n",
       "1  0.288889  0.711111\n",
       "2  0.940774  0.059226\n",
       "3  0.417778  0.582222\n",
       "4  0.165222  0.834778"
      ]
     },
     "execution_count": 6,
     "metadata": {},
     "output_type": "execute_result"
    }
   ],
   "source": [
    "pd.DataFrame(rforest_clf.predict_proba(test_X)).head()"
   ]
  },
  {
   "cell_type": "code",
   "execution_count": 7,
   "id": "831ba44a",
   "metadata": {},
   "outputs": [
    {
     "name": "stdout",
     "output_type": "stream",
     "text": [
      "(300, 2)\n",
      "(300, 3)\n"
     ]
    }
   ],
   "source": [
    "from sklearn import metrics\n",
    "predicted_dataframe = pd.DataFrame({'Actual': test_Y}).reset_index()\n",
    "predicted_dataframe['Predicted_Classification'] = rforest_clf.predict(test_X)\n",
    "print(rforest_clf.predict_proba(test_X).shape)\n",
    "print(predicted_dataframe.shape)\n",
    "predicted_dataframe.head()\n",
    "predicted_probability_df = pd.DataFrame(rforest_clf.predict_proba(test_X))\n",
    "predicted_dataframe['Predicted_Probability'] = predicted_probability_df.iloc[:,1]"
   ]
  },
  {
   "cell_type": "code",
   "execution_count": 8,
   "id": "ccf036df",
   "metadata": {},
   "outputs": [
    {
     "data": {
      "text/html": [
       "<div>\n",
       "<style scoped>\n",
       "    .dataframe tbody tr th:only-of-type {\n",
       "        vertical-align: middle;\n",
       "    }\n",
       "\n",
       "    .dataframe tbody tr th {\n",
       "        vertical-align: top;\n",
       "    }\n",
       "\n",
       "    .dataframe thead th {\n",
       "        text-align: right;\n",
       "    }\n",
       "</style>\n",
       "<table border=\"1\" class=\"dataframe\">\n",
       "  <thead>\n",
       "    <tr style=\"text-align: right;\">\n",
       "      <th></th>\n",
       "      <th>Actual</th>\n",
       "      <th>Predicted_Classification</th>\n",
       "      <th>Predicted_Probability</th>\n",
       "    </tr>\n",
       "  </thead>\n",
       "  <tbody>\n",
       "    <tr>\n",
       "      <th>0</th>\n",
       "      <td>1</td>\n",
       "      <td>0</td>\n",
       "      <td>0.408033</td>\n",
       "    </tr>\n",
       "    <tr>\n",
       "      <th>1</th>\n",
       "      <td>0</td>\n",
       "      <td>1</td>\n",
       "      <td>0.711111</td>\n",
       "    </tr>\n",
       "    <tr>\n",
       "      <th>2</th>\n",
       "      <td>0</td>\n",
       "      <td>0</td>\n",
       "      <td>0.059226</td>\n",
       "    </tr>\n",
       "    <tr>\n",
       "      <th>3</th>\n",
       "      <td>1</td>\n",
       "      <td>1</td>\n",
       "      <td>0.582222</td>\n",
       "    </tr>\n",
       "    <tr>\n",
       "      <th>4</th>\n",
       "      <td>1</td>\n",
       "      <td>1</td>\n",
       "      <td>0.834778</td>\n",
       "    </tr>\n",
       "  </tbody>\n",
       "</table>\n",
       "</div>"
      ],
      "text/plain": [
       "   Actual  Predicted_Classification  Predicted_Probability\n",
       "0       1                         0               0.408033\n",
       "1       0                         1               0.711111\n",
       "2       0                         0               0.059226\n",
       "3       1                         1               0.582222\n",
       "4       1                         1               0.834778"
      ]
     },
     "execution_count": 8,
     "metadata": {},
     "output_type": "execute_result"
    }
   ],
   "source": [
    "predicted_dataframe.drop('index',inplace = True,axis=1)\n",
    "predicted_dataframe.head()\n"
   ]
  },
  {
   "cell_type": "code",
   "execution_count": 9,
   "id": "a6dc23ad",
   "metadata": {},
   "outputs": [
    {
     "data": {
      "text/html": [
       "<div>\n",
       "<style scoped>\n",
       "    .dataframe tbody tr th:only-of-type {\n",
       "        vertical-align: middle;\n",
       "    }\n",
       "\n",
       "    .dataframe tbody tr th {\n",
       "        vertical-align: top;\n",
       "    }\n",
       "\n",
       "    .dataframe thead th {\n",
       "        text-align: right;\n",
       "    }\n",
       "</style>\n",
       "<table border=\"1\" class=\"dataframe\">\n",
       "  <thead>\n",
       "    <tr style=\"text-align: right;\">\n",
       "      <th>Predicted_Classification</th>\n",
       "      <th>0</th>\n",
       "      <th>1</th>\n",
       "      <th>All</th>\n",
       "    </tr>\n",
       "    <tr>\n",
       "      <th>Actual</th>\n",
       "      <th></th>\n",
       "      <th></th>\n",
       "      <th></th>\n",
       "    </tr>\n",
       "  </thead>\n",
       "  <tbody>\n",
       "    <tr>\n",
       "      <th>0</th>\n",
       "      <td>189</td>\n",
       "      <td>25</td>\n",
       "      <td>214</td>\n",
       "    </tr>\n",
       "    <tr>\n",
       "      <th>1</th>\n",
       "      <td>56</td>\n",
       "      <td>30</td>\n",
       "      <td>86</td>\n",
       "    </tr>\n",
       "    <tr>\n",
       "      <th>All</th>\n",
       "      <td>245</td>\n",
       "      <td>55</td>\n",
       "      <td>300</td>\n",
       "    </tr>\n",
       "  </tbody>\n",
       "</table>\n",
       "</div>"
      ],
      "text/plain": [
       "Predicted_Classification    0   1  All\n",
       "Actual                                \n",
       "0                         189  25  214\n",
       "1                          56  30   86\n",
       "All                       245  55  300"
      ]
     },
     "execution_count": 9,
     "metadata": {},
     "output_type": "execute_result"
    }
   ],
   "source": [
    "pd.crosstab(predicted_dataframe.Actual,predicted_dataframe.Predicted_Classification,normalize = False,\n",
    "           margins = True)"
   ]
  },
  {
   "cell_type": "markdown",
   "id": "ccfa0ec8",
   "metadata": {},
   "source": [
    "As in case of our logistic regression model [READ HERE], our model predicts the 0 with pretty good accuracy, we can use metrics like ```Youlden's``` Index etc to improve the model further. We can also look at metrics like Precision and Recall using ```classification_report```. "
   ]
  },
  {
   "cell_type": "code",
   "execution_count": 10,
   "id": "d858707a",
   "metadata": {},
   "outputs": [
    {
     "name": "stdout",
     "output_type": "stream",
     "text": [
      "              precision    recall  f1-score   support\n",
      "\n",
      "           0       0.77      0.88      0.82       214\n",
      "           1       0.55      0.35      0.43        86\n",
      "\n",
      "    accuracy                           0.73       300\n",
      "   macro avg       0.66      0.62      0.62       300\n",
      "weighted avg       0.71      0.73      0.71       300\n",
      "\n"
     ]
    }
   ],
   "source": [
    "print(metrics.classification_report(predicted_dataframe.Actual,predicted_dataframe.Predicted_Classification))"
   ]
  },
  {
   "cell_type": "code",
   "execution_count": 11,
   "id": "c74f7214",
   "metadata": {},
   "outputs": [
    {
     "data": {
      "image/png": "[encoded data removed]",
      "text/plain": [
       "<Figure size 432x288 with 1 Axes>"
      ]
     },
     "metadata": {
      "needs_background": "light"
     },
     "output_type": "display_data"
    }
   ],
   "source": [
    "import matplotlib.pyplot as plt\n",
    "FPR, TPR, thresholds = metrics.roc_curve(predicted_dataframe.Actual,predicted_dataframe['Predicted_Probability'],\n",
    "                                        drop_intermediate = False)\n",
    "auc_score = metrics.roc_auc_score(predicted_dataframe.Actual,predicted_dataframe['Predicted_Probability'])\n",
    "plt.plot(FPR,TPR,label = 'ROC Curve Area (area = %0.2f)'%auc_score)\n",
    "plt.plot([0,1],[0,1],'k--')\n",
    "plt.xlim([0.0,1.0])\n",
    "plt.ylim([0.0,1.05])\n",
    "plt.xlabel('False Positive Rate or [1-True Negative Rate]')\n",
    "plt.ylabel('True Positive Rate')\n",
    "plt.legend(loc = 'lower right')\n",
    "plt.show()"
   ]
  },
  {
   "cell_type": "markdown",
   "id": "5de1576d",
   "metadata": {},
   "source": [
    "In this model the cut-off is taken to be 0.5 by default. We can choose the right categorization using the precision and recall curve. "
   ]
  },
  {
   "cell_type": "code",
   "execution_count": 12,
   "id": "8c975ad0",
   "metadata": {},
   "outputs": [],
   "source": [
    "precision, recalls,thresholds1 = metrics.precision_recall_curve(predicted_dataframe.Actual,\n",
    "                                                              predicted_dataframe['Predicted_Probability'])\n",
    "def plot_precision_recall_vs_threshold(precisions,recalls,thresholds):\n",
    "    plt.plot(thresholds,precisions[:-1],\"b--\",label = \"Precision\")\n",
    "    plt.plot(thresholds,recalls[:-1],\"g-\",label = \"Recall\")\n",
    "    plt.xlabel(\"Threshold\")\n",
    "    plt.legend(loc = \"center left\")\n",
    "    plt.ylim([0,1])"
   ]
  },
  {
   "cell_type": "code",
   "execution_count": 13,
   "id": "37f017fb",
   "metadata": {},
   "outputs": [
    {
     "data": {
      "image/png": "[encoded data removed]",
      "text/plain": [
       "<Figure size 432x288 with 1 Axes>"
      ]
     },
     "metadata": {
      "needs_background": "light"
     },
     "output_type": "display_data"
    }
   ],
   "source": [
    "plot_precision_recall_vs_threshold(precision,recalls,thresholds1)\n",
    "plt.show()"
   ]
  },
  {
   "cell_type": "markdown",
   "id": "41dbc965",
   "metadata": {},
   "source": [
    "As we can see from above, the appropriate cut-off value can be taken to be 0.4. Let us change the predicted value based on the new cut-off value of 0.4 and try to see the classification report. "
   ]
  },
  {
   "cell_type": "code",
   "execution_count": 14,
   "id": "e9ffabcb",
   "metadata": {},
   "outputs": [],
   "source": [
    "predicted_dataframe.Predicted_Classification = predicted_dataframe['Predicted_Probability'].map(lambda x: 1\n",
    "                                                                                                if x > 0.4 else 0)"
   ]
  },
  {
   "cell_type": "code",
   "execution_count": 15,
   "id": "d441d17e",
   "metadata": {},
   "outputs": [
    {
     "name": "stdout",
     "output_type": "stream",
     "text": [
      "              precision    recall  f1-score   support\n",
      "\n",
      "           0       0.80      0.79      0.79       214\n",
      "           1       0.49      0.50      0.49        86\n",
      "\n",
      "    accuracy                           0.71       300\n",
      "   macro avg       0.64      0.64      0.64       300\n",
      "weighted avg       0.71      0.71      0.71       300\n",
      "\n"
     ]
    }
   ],
   "source": [
    "print(metrics.classification_report(predicted_dataframe.Actual, predicted_dataframe.Predicted_Classification))"
   ]
  },
  {
   "cell_type": "code",
   "execution_count": 16,
   "id": "e02fc239",
   "metadata": {},
   "outputs": [
    {
     "data": {
      "text/html": [
       "<div>\n",
       "<style scoped>\n",
       "    .dataframe tbody tr th:only-of-type {\n",
       "        vertical-align: middle;\n",
       "    }\n",
       "\n",
       "    .dataframe tbody tr th {\n",
       "        vertical-align: top;\n",
       "    }\n",
       "\n",
       "    .dataframe thead th {\n",
       "        text-align: right;\n",
       "    }\n",
       "</style>\n",
       "<table border=\"1\" class=\"dataframe\">\n",
       "  <thead>\n",
       "    <tr style=\"text-align: right;\">\n",
       "      <th>Predicted_Classification</th>\n",
       "      <th>0</th>\n",
       "      <th>1</th>\n",
       "      <th>All</th>\n",
       "    </tr>\n",
       "    <tr>\n",
       "      <th>Actual</th>\n",
       "      <th></th>\n",
       "      <th></th>\n",
       "      <th></th>\n",
       "    </tr>\n",
       "  </thead>\n",
       "  <tbody>\n",
       "    <tr>\n",
       "      <th>0</th>\n",
       "      <td>169</td>\n",
       "      <td>45</td>\n",
       "      <td>214</td>\n",
       "    </tr>\n",
       "    <tr>\n",
       "      <th>1</th>\n",
       "      <td>43</td>\n",
       "      <td>43</td>\n",
       "      <td>86</td>\n",
       "    </tr>\n",
       "    <tr>\n",
       "      <th>All</th>\n",
       "      <td>212</td>\n",
       "      <td>88</td>\n",
       "      <td>300</td>\n",
       "    </tr>\n",
       "  </tbody>\n",
       "</table>\n",
       "</div>"
      ],
      "text/plain": [
       "Predicted_Classification    0   1  All\n",
       "Actual                                \n",
       "0                         169  45  214\n",
       "1                          43  43   86\n",
       "All                       212  88  300"
      ]
     },
     "execution_count": 16,
     "metadata": {},
     "output_type": "execute_result"
    }
   ],
   "source": [
    "pd.crosstab(predicted_dataframe.Actual,predicted_dataframe.Predicted_Classification,normalize = False,\n",
    "           margins = True)"
   ]
  },
  {
   "cell_type": "markdown",
   "id": "244bdb5e",
   "metadata": {},
   "source": [
    "By using the cut-off of 0.4 we have improved the recall and precision for fraud prediction. However, the gain is not much we might have to use a lower value of cut-off. \n",
    "\n",
    "A general rule-of thumb is if the cost of Type-II Error is high (meaning selecting someone who should not be selected) then the cut-off probability should be kept low. \n",
    "\n",
    "In this case if a customer who has high probability of fraud and is given a loan might lead to a default. Therefore, we would generally keep the cut-off low so most of the customers who have a chance of default should be categorized correctly. \n",
    "\n",
    "Remember, this might mean that you will end up categorizing some customers who have no chance of default being categorized as people who might default. The business users then can take a case to case call on the classification. Some of the approaches business can take are:\n",
    "- Keep a hard probability say 0.3 anyone below this will be categorized as good credit \n",
    "- Keep a soft limit say 0.5, above which is bad credit\n",
    "- Between soft and hard limit business can scrutinize the customer more\n",
    "\n",
    "This can be understood via the diagram below. \n",
    "\n",
    "<img src=\"Images/Categorization.jpeg\" width=\"300\">"
   ]
  },
  {
   "cell_type": "markdown",
   "id": "1892b47e",
   "metadata": {},
   "source": [
    "#### Gridsearch for optimal parameters:\n",
    "We have used the default values for creating our model, we can use the gridsearch to identify the best parameters for getting better accuracy, so as to improve the model further.\n",
    "\n",
    "*NOTE:* The default probability for the computation will still be 0.5 with the hypertuned parameter. We can further optimize the model changing our ```cut-off```\n",
    "\n",
    "We will be optimizing following parameters:\n",
    "1. Max Depth of the tree - 5,10,15,20,30\n",
    "2. n_estimators - 5,10,15,20,30\n",
    "3. max_features - sqrt or 0.2\n",
    "\n",
    "Gridsearch can be a little time consuming for the random forest models on our home machines."
   ]
  },
  {
   "cell_type": "code",
   "execution_count": 17,
   "id": "4c72873b",
   "metadata": {},
   "outputs": [],
   "source": [
    "from sklearn.model_selection import GridSearchCV\n",
    "tuned_parameters = [{'max_depth':[5,10,15,20,30],\n",
    "                   'n_estimators':[5,10,15,20,30],\n",
    "                   'max_features':['sqrt',0.2]}]\n",
    "random_classifier = RandomForestClassifier()\n",
    "clf = GridSearchCV(random_classifier,tuned_parameters,\n",
    "                  cv = 5,\n",
    "                  scoring = 'roc_auc')"
   ]
  },
  {
   "cell_type": "code",
   "execution_count": 18,
   "id": "11d098e1",
   "metadata": {},
   "outputs": [
    {
     "data": {
      "text/html": [
       "<style>#sk-container-id-2 {color: black;background-color: white;}#sk-container-id-2 pre{padding: 0;}#sk-container-id-2 div.sk-toggleable {background-color: white;}#sk-container-id-2 label.sk-toggleable__label {cursor: pointer;display: block;width: 100%;margin-bottom: 0;padding: 0.3em;box-sizing: border-box;text-align: center;}#sk-container-id-2 label.sk-toggleable__label-arrow:before {content: \"▸\";float: left;margin-right: 0.25em;color: #696969;}#sk-container-id-2 label.sk-toggleable__label-arrow:hover:before {color: black;}#sk-container-id-2 div.sk-estimator:hover label.sk-toggleable__label-arrow:before {color: black;}#sk-container-id-2 div.sk-toggleable__content {max-height: 0;max-width: 0;overflow: hidden;text-align: left;background-color: #f0f8ff;}#sk-container-id-2 div.sk-toggleable__content pre {margin: 0.2em;color: black;border-radius: 0.25em;background-color: #f0f8ff;}#sk-container-id-2 input.sk-toggleable__control:checked~div.sk-toggleable__content {max-height: 200px;max-width: 100%;overflow: auto;}#sk-container-id-2 input.sk-toggleable__control:checked~label.sk-toggleable__label-arrow:before {content: \"▾\";}#sk-container-id-2 div.sk-estimator input.sk-toggleable__control:checked~label.sk-toggleable__label {background-color: #d4ebff;}#sk-container-id-2 div.sk-label input.sk-toggleable__control:checked~label.sk-toggleable__label {background-color: #d4ebff;}#sk-container-id-2 input.sk-hidden--visually {border: 0;clip: rect(1px 1px 1px 1px);clip: rect(1px, 1px, 1px, 1px);height: 1px;margin: -1px;overflow: hidden;padding: 0;position: absolute;width: 1px;}#sk-container-id-2 div.sk-estimator {font-family: monospace;background-color: #f0f8ff;border: 1px dotted black;border-radius: 0.25em;box-sizing: border-box;margin-bottom: 0.5em;}#sk-container-id-2 div.sk-estimator:hover {background-color: #d4ebff;}#sk-container-id-2 div.sk-parallel-item::after {content: \"\";width: 100%;border-bottom: 1px solid gray;flex-grow: 1;}#sk-container-id-2 div.sk-label:hover label.sk-toggleable__label {background-color: #d4ebff;}#sk-container-id-2 div.sk-serial::before {content: \"\";position: absolute;border-left: 1px solid gray;box-sizing: border-box;top: 0;bottom: 0;left: 50%;z-index: 0;}#sk-container-id-2 div.sk-serial {display: flex;flex-direction: column;align-items: center;background-color: white;padding-right: 0.2em;padding-left: 0.2em;position: relative;}#sk-container-id-2 div.sk-item {position: relative;z-index: 1;}#sk-container-id-2 div.sk-parallel {display: flex;align-items: stretch;justify-content: center;background-color: white;position: relative;}#sk-container-id-2 div.sk-item::before, #sk-container-id-2 div.sk-parallel-item::before {content: \"\";position: absolute;border-left: 1px solid gray;box-sizing: border-box;top: 0;bottom: 0;left: 50%;z-index: -1;}#sk-container-id-2 div.sk-parallel-item {display: flex;flex-direction: column;z-index: 1;position: relative;background-color: white;}#sk-container-id-2 div.sk-parallel-item:first-child::after {align-self: flex-end;width: 50%;}#sk-container-id-2 div.sk-parallel-item:last-child::after {align-self: flex-start;width: 50%;}#sk-container-id-2 div.sk-parallel-item:only-child::after {width: 0;}#sk-container-id-2 div.sk-dashed-wrapped {border: 1px dashed gray;margin: 0 0.4em 0.5em 0.4em;box-sizing: border-box;padding-bottom: 0.4em;background-color: white;}#sk-container-id-2 div.sk-label label {font-family: monospace;font-weight: bold;display: inline-block;line-height: 1.2em;}#sk-container-id-2 div.sk-label-container {text-align: center;}#sk-container-id-2 div.sk-container {/* jupyter's `normalize.less` sets `[hidden] { display: none; }` but bootstrap.min.css set `[hidden] { display: none !important; }` so we also need the `!important` here to be able to override the default hidden behavior on the sphinx rendered scikit-learn.org. See: https://github.com/scikit-learn/scikit-learn/issues/21755 */display: inline-block !important;position: relative;}#sk-container-id-2 div.sk-text-repr-fallback {display: none;}</style><div id=\"sk-container-id-2\" class=\"sk-top-container\"><div class=\"sk-text-repr-fallback\"><pre>GridSearchCV(cv=5, estimator=RandomForestClassifier(),\n",
       "             param_grid=[{&#x27;max_depth&#x27;: [5, 10, 15, 20, 30],\n",
       "                          &#x27;max_features&#x27;: [&#x27;sqrt&#x27;, 0.2],\n",
       "                          &#x27;n_estimators&#x27;: [5, 10, 15, 20, 30]}],\n",
       "             scoring=&#x27;roc_auc&#x27;)</pre><b>In a Jupyter environment, please rerun this cell to show the HTML representation or trust the notebook. <br />On GitHub, the HTML representation is unable to render, please try loading this page with nbviewer.org.</b></div><div class=\"sk-container\" hidden><div class=\"sk-item sk-dashed-wrapped\"><div class=\"sk-label-container\"><div class=\"sk-label sk-toggleable\"><input class=\"sk-toggleable__control sk-hidden--visually\" id=\"sk-estimator-id-2\" type=\"checkbox\" ><label for=\"sk-estimator-id-2\" class=\"sk-toggleable__label sk-toggleable__label-arrow\">GridSearchCV</label><div class=\"sk-toggleable__content\"><pre>GridSearchCV(cv=5, estimator=RandomForestClassifier(),\n",
       "             param_grid=[{&#x27;max_depth&#x27;: [5, 10, 15, 20, 30],\n",
       "                          &#x27;max_features&#x27;: [&#x27;sqrt&#x27;, 0.2],\n",
       "                          &#x27;n_estimators&#x27;: [5, 10, 15, 20, 30]}],\n",
       "             scoring=&#x27;roc_auc&#x27;)</pre></div></div></div><div class=\"sk-parallel\"><div class=\"sk-parallel-item\"><div class=\"sk-item\"><div class=\"sk-label-container\"><div class=\"sk-label sk-toggleable\"><input class=\"sk-toggleable__control sk-hidden--visually\" id=\"sk-estimator-id-3\" type=\"checkbox\" ><label for=\"sk-estimator-id-3\" class=\"sk-toggleable__label sk-toggleable__label-arrow\">estimator: RandomForestClassifier</label><div class=\"sk-toggleable__content\"><pre>RandomForestClassifier()</pre></div></div></div><div class=\"sk-serial\"><div class=\"sk-item\"><div class=\"sk-estimator sk-toggleable\"><input class=\"sk-toggleable__control sk-hidden--visually\" id=\"sk-estimator-id-4\" type=\"checkbox\" ><label for=\"sk-estimator-id-4\" class=\"sk-toggleable__label sk-toggleable__label-arrow\">RandomForestClassifier</label><div class=\"sk-toggleable__content\"><pre>RandomForestClassifier()</pre></div></div></div></div></div></div></div></div></div></div>"
      ],
      "text/plain": [
       "GridSearchCV(cv=5, estimator=RandomForestClassifier(),\n",
       "             param_grid=[{'max_depth': [5, 10, 15, 20, 30],\n",
       "                          'max_features': ['sqrt', 0.2],\n",
       "                          'n_estimators': [5, 10, 15, 20, 30]}],\n",
       "             scoring='roc_auc')"
      ]
     },
     "execution_count": 18,
     "metadata": {},
     "output_type": "execute_result"
    }
   ],
   "source": [
    "clf.fit(train_X,train_Y)"
   ]
  },
  {
   "cell_type": "code",
   "execution_count": 19,
   "id": "0eb614fc",
   "metadata": {},
   "outputs": [
    {
     "name": "stdout",
     "output_type": "stream",
     "text": [
      "0.7711692842359398\n",
      "{'max_depth': 15, 'max_features': 'sqrt', 'n_estimators': 30}\n"
     ]
    }
   ],
   "source": [
    "print(clf.best_score_)\n",
    "print(clf.best_params_)"
   ]
  },
  {
   "cell_type": "markdown",
   "id": "95e1bbf3",
   "metadata": {},
   "source": [
    "As we can see the best AUC score from the selected parameters is 0.77. Best parameters are:\n",
    "- max_depth: 30\n",
    "- max_features: sqrt\n",
    "- n_estimators: 30\n",
    "\n",
    "This is hyperparameter tuning."
   ]
  },
  {
   "cell_type": "code",
   "execution_count": 20,
   "id": "a15f1848",
   "metadata": {},
   "outputs": [
    {
     "name": "stdout",
     "output_type": "stream",
     "text": [
      "(300, 2)\n",
      "(300, 3)\n"
     ]
    },
    {
     "data": {
      "text/html": [
       "<div>\n",
       "<style scoped>\n",
       "    .dataframe tbody tr th:only-of-type {\n",
       "        vertical-align: middle;\n",
       "    }\n",
       "\n",
       "    .dataframe tbody tr th {\n",
       "        vertical-align: top;\n",
       "    }\n",
       "\n",
       "    .dataframe thead th {\n",
       "        text-align: right;\n",
       "    }\n",
       "</style>\n",
       "<table border=\"1\" class=\"dataframe\">\n",
       "  <thead>\n",
       "    <tr style=\"text-align: right;\">\n",
       "      <th></th>\n",
       "      <th>Actual</th>\n",
       "      <th>Predicted_Classification</th>\n",
       "      <th>Predicted_Probability</th>\n",
       "    </tr>\n",
       "  </thead>\n",
       "  <tbody>\n",
       "    <tr>\n",
       "      <th>0</th>\n",
       "      <td>1</td>\n",
       "      <td>0</td>\n",
       "      <td>0.166667</td>\n",
       "    </tr>\n",
       "    <tr>\n",
       "      <th>1</th>\n",
       "      <td>0</td>\n",
       "      <td>1</td>\n",
       "      <td>0.666667</td>\n",
       "    </tr>\n",
       "    <tr>\n",
       "      <th>2</th>\n",
       "      <td>0</td>\n",
       "      <td>0</td>\n",
       "      <td>0.200000</td>\n",
       "    </tr>\n",
       "    <tr>\n",
       "      <th>3</th>\n",
       "      <td>1</td>\n",
       "      <td>0</td>\n",
       "      <td>0.466667</td>\n",
       "    </tr>\n",
       "    <tr>\n",
       "      <th>4</th>\n",
       "      <td>1</td>\n",
       "      <td>1</td>\n",
       "      <td>0.566667</td>\n",
       "    </tr>\n",
       "  </tbody>\n",
       "</table>\n",
       "</div>"
      ],
      "text/plain": [
       "   Actual  Predicted_Classification  Predicted_Probability\n",
       "0       1                         0               0.166667\n",
       "1       0                         1               0.666667\n",
       "2       0                         0               0.200000\n",
       "3       1                         0               0.466667\n",
       "4       1                         1               0.566667"
      ]
     },
     "execution_count": 20,
     "metadata": {},
     "output_type": "execute_result"
    }
   ],
   "source": [
    "rf_classification = RandomForestClassifier(max_depth = 30,\n",
    "                                             n_estimators = 30,\n",
    "                                             max_features = 'sqrt')\n",
    "rf_classification.fit(train_X,train_Y)\n",
    "\n",
    "predicted_dataframe = pd.DataFrame({'Actual': test_Y}).reset_index()\n",
    "predicted_dataframe['Predicted_Classification'] = rf_classification.predict(test_X)\n",
    "print(rf_classification.predict_proba(test_X).shape)\n",
    "print(predicted_dataframe.shape)\n",
    "predicted_dataframe.head()\n",
    "predicted_probability_df = pd.DataFrame(rf_classification.predict_proba(test_X))\n",
    "predicted_dataframe['Predicted_Probability'] = predicted_probability_df.iloc[:,1]\n",
    "\n",
    "predicted_dataframe.drop('index',inplace = True,axis=1)\n",
    "predicted_dataframe.head()\n",
    "\n"
   ]
  },
  {
   "cell_type": "code",
   "execution_count": 21,
   "id": "966cc8ab",
   "metadata": {},
   "outputs": [
    {
     "data": {
      "image/png": "[encoded data removed]",
      "text/plain": [
       "<Figure size 432x288 with 1 Axes>"
      ]
     },
     "metadata": {
      "needs_background": "light"
     },
     "output_type": "display_data"
    }
   ],
   "source": [
    "FPR, TPR, thresholds = metrics.roc_curve(predicted_dataframe.Actual,predicted_dataframe['Predicted_Probability'],\n",
    "                                        drop_intermediate = False)\n",
    "auc_score = metrics.roc_auc_score(predicted_dataframe.Actual,predicted_dataframe['Predicted_Probability'])\n",
    "plt.plot(FPR,TPR,label = 'ROC Curve Area (area = %0.2f)'%auc_score)\n",
    "plt.plot([0,1],[0,1],'k--')\n",
    "plt.xlim([0.0,1.0])\n",
    "plt.ylim([0.0,1.05])\n",
    "plt.xlabel('False Positive Rate or [1-True Negative Rate]')\n",
    "plt.ylabel('True Positive Rate')\n",
    "plt.legend(loc = 'lower right')\n",
    "plt.show()"
   ]
  },
  {
   "cell_type": "code",
   "execution_count": 22,
   "id": "a3d3db52",
   "metadata": {},
   "outputs": [],
   "source": [
    "precision, recalls,thresholds1 = metrics.precision_recall_curve(predicted_dataframe.Actual,\n",
    "                                                              predicted_dataframe['Predicted_Probability'])\n",
    "def plot_precision_recall_vs_threshold(precisions,recalls,thresholds):\n",
    "    plt.plot(thresholds,precisions[:-1],\"b--\",label = \"Precision\")\n",
    "    plt.plot(thresholds,recalls[:-1],\"g-\",label = \"Recall\")\n",
    "    plt.xlabel(\"Threshold\")\n",
    "    plt.legend(loc = \"center left\")\n",
    "    plt.ylim([0,1])"
   ]
  },
  {
   "cell_type": "code",
   "execution_count": 23,
   "id": "00e4b80a",
   "metadata": {},
   "outputs": [
    {
     "data": {
      "image/png": "[encoded data removed]",
      "text/plain": [
       "<Figure size 432x288 with 1 Axes>"
      ]
     },
     "metadata": {
      "needs_background": "light"
     },
     "output_type": "display_data"
    }
   ],
   "source": [
    "plot_precision_recall_vs_threshold(precision,recalls,thresholds1)\n",
    "plt.show()"
   ]
  },
  {
   "cell_type": "code",
   "execution_count": 24,
   "id": "6b5cbbf2",
   "metadata": {},
   "outputs": [
    {
     "name": "stdout",
     "output_type": "stream",
     "text": [
      "              precision    recall  f1-score   support\n",
      "\n",
      "           0       0.76      0.91      0.83       214\n",
      "           1       0.58      0.30      0.40        86\n",
      "\n",
      "    accuracy                           0.74       300\n",
      "   macro avg       0.67      0.61      0.61       300\n",
      "weighted avg       0.71      0.74      0.71       300\n",
      "\n"
     ]
    }
   ],
   "source": [
    "print(metrics.classification_report(predicted_dataframe.Actual, predicted_dataframe.Predicted_Classification))"
   ]
  },
  {
   "cell_type": "code",
   "execution_count": 25,
   "id": "9de1f1d3",
   "metadata": {},
   "outputs": [
    {
     "data": {
      "text/html": [
       "<div>\n",
       "<style scoped>\n",
       "    .dataframe tbody tr th:only-of-type {\n",
       "        vertical-align: middle;\n",
       "    }\n",
       "\n",
       "    .dataframe tbody tr th {\n",
       "        vertical-align: top;\n",
       "    }\n",
       "\n",
       "    .dataframe thead th {\n",
       "        text-align: right;\n",
       "    }\n",
       "</style>\n",
       "<table border=\"1\" class=\"dataframe\">\n",
       "  <thead>\n",
       "    <tr style=\"text-align: right;\">\n",
       "      <th>Predicted_Classification</th>\n",
       "      <th>0</th>\n",
       "      <th>1</th>\n",
       "      <th>All</th>\n",
       "    </tr>\n",
       "    <tr>\n",
       "      <th>Actual</th>\n",
       "      <th></th>\n",
       "      <th></th>\n",
       "      <th></th>\n",
       "    </tr>\n",
       "  </thead>\n",
       "  <tbody>\n",
       "    <tr>\n",
       "      <th>0</th>\n",
       "      <td>195</td>\n",
       "      <td>19</td>\n",
       "      <td>214</td>\n",
       "    </tr>\n",
       "    <tr>\n",
       "      <th>1</th>\n",
       "      <td>60</td>\n",
       "      <td>26</td>\n",
       "      <td>86</td>\n",
       "    </tr>\n",
       "    <tr>\n",
       "      <th>All</th>\n",
       "      <td>255</td>\n",
       "      <td>45</td>\n",
       "      <td>300</td>\n",
       "    </tr>\n",
       "  </tbody>\n",
       "</table>\n",
       "</div>"
      ],
      "text/plain": [
       "Predicted_Classification    0   1  All\n",
       "Actual                                \n",
       "0                         195  19  214\n",
       "1                          60  26   86\n",
       "All                       255  45  300"
      ]
     },
     "execution_count": 25,
     "metadata": {},
     "output_type": "execute_result"
    }
   ],
   "source": [
    "pd.crosstab(predicted_dataframe.Actual, predicted_dataframe.Predicted_Classification, \n",
    "             normalize = False,margins= True)"
   ]
  },
  {
   "cell_type": "code",
   "execution_count": 26,
   "id": "3b863c96",
   "metadata": {},
   "outputs": [],
   "source": [
    "predicted_dataframe.Predicted_Classification = predicted_dataframe['Predicted_Probability'].map(lambda x: 1\n",
    "                                                                                                if x > 0.2 else 0)"
   ]
  },
  {
   "cell_type": "code",
   "execution_count": 27,
   "id": "420ebf55",
   "metadata": {},
   "outputs": [
    {
     "name": "stdout",
     "output_type": "stream",
     "text": [
      "              precision    recall  f1-score   support\n",
      "\n",
      "           0       0.89      0.53      0.66       214\n",
      "           1       0.42      0.84      0.56        86\n",
      "\n",
      "    accuracy                           0.62       300\n",
      "   macro avg       0.65      0.68      0.61       300\n",
      "weighted avg       0.75      0.62      0.63       300\n",
      "\n"
     ]
    }
   ],
   "source": [
    "print(metrics.classification_report(predicted_dataframe.Actual, predicted_dataframe.Predicted_Classification))"
   ]
  },
  {
   "cell_type": "code",
   "execution_count": 28,
   "id": "d34ca494",
   "metadata": {},
   "outputs": [
    {
     "data": {
      "text/html": [
       "<div>\n",
       "<style scoped>\n",
       "    .dataframe tbody tr th:only-of-type {\n",
       "        vertical-align: middle;\n",
       "    }\n",
       "\n",
       "    .dataframe tbody tr th {\n",
       "        vertical-align: top;\n",
       "    }\n",
       "\n",
       "    .dataframe thead th {\n",
       "        text-align: right;\n",
       "    }\n",
       "</style>\n",
       "<table border=\"1\" class=\"dataframe\">\n",
       "  <thead>\n",
       "    <tr style=\"text-align: right;\">\n",
       "      <th>Predicted_Classification</th>\n",
       "      <th>0</th>\n",
       "      <th>1</th>\n",
       "      <th>All</th>\n",
       "    </tr>\n",
       "    <tr>\n",
       "      <th>Actual</th>\n",
       "      <th></th>\n",
       "      <th></th>\n",
       "      <th></th>\n",
       "    </tr>\n",
       "  </thead>\n",
       "  <tbody>\n",
       "    <tr>\n",
       "      <th>0</th>\n",
       "      <td>113</td>\n",
       "      <td>101</td>\n",
       "      <td>214</td>\n",
       "    </tr>\n",
       "    <tr>\n",
       "      <th>1</th>\n",
       "      <td>14</td>\n",
       "      <td>72</td>\n",
       "      <td>86</td>\n",
       "    </tr>\n",
       "    <tr>\n",
       "      <th>All</th>\n",
       "      <td>127</td>\n",
       "      <td>173</td>\n",
       "      <td>300</td>\n",
       "    </tr>\n",
       "  </tbody>\n",
       "</table>\n",
       "</div>"
      ],
      "text/plain": [
       "Predicted_Classification    0    1  All\n",
       "Actual                                 \n",
       "0                         113  101  214\n",
       "1                          14   72   86\n",
       "All                       127  173  300"
      ]
     },
     "execution_count": 28,
     "metadata": {},
     "output_type": "execute_result"
    }
   ],
   "source": [
    "pd.crosstab(predicted_dataframe.Actual, predicted_dataframe.Predicted_Classification, \n",
    "             normalize = False,margins= True)"
   ]
  },
  {
   "cell_type": "markdown",
   "id": "753611e4",
   "metadata": {},
   "source": [
    "We can see that we have improved the accuracy of bad-credit significantly, there is some loss in terms of predicting good-credit. However, this model performs pretty well against the normal logistic regression model. \n",
    "\n",
    "#### Selection of the best parameters\n",
    "Model's ```feature_importances_``` parameter gives the importance of each feature in the model. We can create a barplot to understand the which features are the most important. Given we have used default value for ```criterion``` therefore the parameters are ordered basis the ```Gini``` index."
   ]
  },
  {
   "cell_type": "code",
   "execution_count": 29,
   "id": "4e6062c6",
   "metadata": {},
   "outputs": [
    {
     "data": {
      "image/png": "[encoded data removed]",
      "text/plain": [
       "<Figure size 576x432 with 1 Axes>"
      ]
     },
     "metadata": {
      "needs_background": "light"
     },
     "output_type": "display_data"
    }
   ],
   "source": [
    "features_rank = pd.DataFrame({'Features':train_X.columns,\n",
    "                             'Importance':rf_classification.feature_importances_})\n",
    "features_rank = features_rank.sort_values('Importance',ascending= False)\n",
    "import seaborn as sns\n",
    "plt.figure(figsize = (8,6))\n",
    "sns.barplot(y='Features',x = 'Importance',data = features_rank)\n",
    "plt.show()"
   ]
  },
  {
   "cell_type": "markdown",
   "id": "aa3fe603",
   "metadata": {},
   "source": [
    "Random forest is a pretty versatile algorithm, which can be used in wide range of tasks like classification or regression. This model works pretty well with high-dimensional data, random forest is able to handle outliers pretty well. \n",
    "\n",
    "I hope you enjoyed reading this. "
   ]
  }
 ],
 "metadata": {
  "kernelspec": {
   "display_name": "Python 3 (ipykernel)",
   "language": "python",
   "name": "python3"
  },
  "language_info": {
   "codemirror_mode": {
    "name": "ipython",
    "version": 3
   },
   "file_extension": ".py",
   "mimetype": "text/x-python",
   "name": "python",
   "nbconvert_exporter": "python",
   "pygments_lexer": "ipython3",
   "version": "3.9.13"
  }
 },
 "nbformat": 4,
 "nbformat_minor": 5
}
