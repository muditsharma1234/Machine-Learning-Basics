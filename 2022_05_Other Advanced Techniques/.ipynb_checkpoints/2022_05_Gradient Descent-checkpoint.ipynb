{
 "cells": [
  {
   "cell_type": "code",
   "execution_count": 1,
   "id": "3faf726e",
   "metadata": {},
   "outputs": [],
   "source": [
    "import pandas as pd\n",
    "import numpy as np"
   ]
  },
  {
   "cell_type": "code",
   "execution_count": 2,
   "id": "9594d85b",
   "metadata": {},
   "outputs": [],
   "source": [
    "advertising = pd.read_csv(\"Datasets/Advertising.csv\")"
   ]
  },
  {
   "cell_type": "code",
   "execution_count": 3,
   "id": "72953bd8",
   "metadata": {},
   "outputs": [
    {
     "data": {
      "text/html": [
       "<div>\n",
       "<style scoped>\n",
       "    .dataframe tbody tr th:only-of-type {\n",
       "        vertical-align: middle;\n",
       "    }\n",
       "\n",
       "    .dataframe tbody tr th {\n",
       "        vertical-align: top;\n",
       "    }\n",
       "\n",
       "    .dataframe thead th {\n",
       "        text-align: right;\n",
       "    }\n",
       "</style>\n",
       "<table border=\"1\" class=\"dataframe\">\n",
       "  <thead>\n",
       "    <tr style=\"text-align: right;\">\n",
       "      <th></th>\n",
       "      <th>Unnamed: 0</th>\n",
       "      <th>TV</th>\n",
       "      <th>Radio</th>\n",
       "      <th>Newspaper</th>\n",
       "      <th>Sales</th>\n",
       "    </tr>\n",
       "  </thead>\n",
       "  <tbody>\n",
       "    <tr>\n",
       "      <th>0</th>\n",
       "      <td>1</td>\n",
       "      <td>230.1</td>\n",
       "      <td>37.8</td>\n",
       "      <td>69.2</td>\n",
       "      <td>22.1</td>\n",
       "    </tr>\n",
       "    <tr>\n",
       "      <th>1</th>\n",
       "      <td>2</td>\n",
       "      <td>44.5</td>\n",
       "      <td>39.3</td>\n",
       "      <td>45.1</td>\n",
       "      <td>10.4</td>\n",
       "    </tr>\n",
       "    <tr>\n",
       "      <th>2</th>\n",
       "      <td>3</td>\n",
       "      <td>17.2</td>\n",
       "      <td>45.9</td>\n",
       "      <td>69.3</td>\n",
       "      <td>9.3</td>\n",
       "    </tr>\n",
       "    <tr>\n",
       "      <th>3</th>\n",
       "      <td>4</td>\n",
       "      <td>151.5</td>\n",
       "      <td>41.3</td>\n",
       "      <td>58.5</td>\n",
       "      <td>18.5</td>\n",
       "    </tr>\n",
       "    <tr>\n",
       "      <th>4</th>\n",
       "      <td>5</td>\n",
       "      <td>180.8</td>\n",
       "      <td>10.8</td>\n",
       "      <td>58.4</td>\n",
       "      <td>12.9</td>\n",
       "    </tr>\n",
       "  </tbody>\n",
       "</table>\n",
       "</div>"
      ],
      "text/plain": [
       "   Unnamed: 0     TV  Radio  Newspaper  Sales\n",
       "0           1  230.1   37.8       69.2   22.1\n",
       "1           2   44.5   39.3       45.1   10.4\n",
       "2           3   17.2   45.9       69.3    9.3\n",
       "3           4  151.5   41.3       58.5   18.5\n",
       "4           5  180.8   10.8       58.4   12.9"
      ]
     },
     "execution_count": 3,
     "metadata": {},
     "output_type": "execute_result"
    }
   ],
   "source": [
    "advertising.head()"
   ]
  },
  {
   "cell_type": "code",
   "execution_count": 4,
   "id": "bdbb82cd",
   "metadata": {},
   "outputs": [],
   "source": [
    "advertising = advertising.iloc[:,1:]"
   ]
  },
  {
   "cell_type": "code",
   "execution_count": 5,
   "id": "229ca297",
   "metadata": {},
   "outputs": [
    {
     "data": {
      "text/html": [
       "<div>\n",
       "<style scoped>\n",
       "    .dataframe tbody tr th:only-of-type {\n",
       "        vertical-align: middle;\n",
       "    }\n",
       "\n",
       "    .dataframe tbody tr th {\n",
       "        vertical-align: top;\n",
       "    }\n",
       "\n",
       "    .dataframe thead th {\n",
       "        text-align: right;\n",
       "    }\n",
       "</style>\n",
       "<table border=\"1\" class=\"dataframe\">\n",
       "  <thead>\n",
       "    <tr style=\"text-align: right;\">\n",
       "      <th></th>\n",
       "      <th>TV</th>\n",
       "      <th>Radio</th>\n",
       "      <th>Newspaper</th>\n",
       "      <th>Sales</th>\n",
       "    </tr>\n",
       "  </thead>\n",
       "  <tbody>\n",
       "    <tr>\n",
       "      <th>0</th>\n",
       "      <td>230.1</td>\n",
       "      <td>37.8</td>\n",
       "      <td>69.2</td>\n",
       "      <td>22.1</td>\n",
       "    </tr>\n",
       "    <tr>\n",
       "      <th>1</th>\n",
       "      <td>44.5</td>\n",
       "      <td>39.3</td>\n",
       "      <td>45.1</td>\n",
       "      <td>10.4</td>\n",
       "    </tr>\n",
       "    <tr>\n",
       "      <th>2</th>\n",
       "      <td>17.2</td>\n",
       "      <td>45.9</td>\n",
       "      <td>69.3</td>\n",
       "      <td>9.3</td>\n",
       "    </tr>\n",
       "    <tr>\n",
       "      <th>3</th>\n",
       "      <td>151.5</td>\n",
       "      <td>41.3</td>\n",
       "      <td>58.5</td>\n",
       "      <td>18.5</td>\n",
       "    </tr>\n",
       "    <tr>\n",
       "      <th>4</th>\n",
       "      <td>180.8</td>\n",
       "      <td>10.8</td>\n",
       "      <td>58.4</td>\n",
       "      <td>12.9</td>\n",
       "    </tr>\n",
       "  </tbody>\n",
       "</table>\n",
       "</div>"
      ],
      "text/plain": [
       "      TV  Radio  Newspaper  Sales\n",
       "0  230.1   37.8       69.2   22.1\n",
       "1   44.5   39.3       45.1   10.4\n",
       "2   17.2   45.9       69.3    9.3\n",
       "3  151.5   41.3       58.5   18.5\n",
       "4  180.8   10.8       58.4   12.9"
      ]
     },
     "execution_count": 5,
     "metadata": {},
     "output_type": "execute_result"
    }
   ],
   "source": [
    "advertising.head()"
   ]
  },
  {
   "cell_type": "code",
   "execution_count": 6,
   "id": "bb51bd61",
   "metadata": {},
   "outputs": [],
   "source": [
    "X_advertising = advertising[['TV','Radio','Newspaper']]\n",
    "Y_advertising = advertising['Sales']"
   ]
  },
  {
   "cell_type": "code",
   "execution_count": 7,
   "id": "0b7b9f5b",
   "metadata": {},
   "outputs": [],
   "source": [
    "Y_std = (Y_advertising-Y_advertising.mean())/Y_advertising.std()"
   ]
  },
  {
   "cell_type": "code",
   "execution_count": 8,
   "id": "e30970eb",
   "metadata": {},
   "outputs": [],
   "source": [
    "X_std = X_advertising.apply(lambda x: (x-x.mean())/x.std())"
   ]
  },
  {
   "cell_type": "code",
   "execution_count": 9,
   "id": "88dee274",
   "metadata": {},
   "outputs": [
    {
     "data": {
      "text/html": [
       "<div>\n",
       "<style scoped>\n",
       "    .dataframe tbody tr th:only-of-type {\n",
       "        vertical-align: middle;\n",
       "    }\n",
       "\n",
       "    .dataframe tbody tr th {\n",
       "        vertical-align: top;\n",
       "    }\n",
       "\n",
       "    .dataframe thead th {\n",
       "        text-align: right;\n",
       "    }\n",
       "</style>\n",
       "<table border=\"1\" class=\"dataframe\">\n",
       "  <thead>\n",
       "    <tr style=\"text-align: right;\">\n",
       "      <th></th>\n",
       "      <th>TV</th>\n",
       "      <th>Radio</th>\n",
       "      <th>Newspaper</th>\n",
       "    </tr>\n",
       "  </thead>\n",
       "  <tbody>\n",
       "    <tr>\n",
       "      <th>0</th>\n",
       "      <td>0.967425</td>\n",
       "      <td>0.979066</td>\n",
       "      <td>1.774493</td>\n",
       "    </tr>\n",
       "    <tr>\n",
       "      <th>1</th>\n",
       "      <td>-1.194379</td>\n",
       "      <td>1.080097</td>\n",
       "      <td>0.667903</td>\n",
       "    </tr>\n",
       "    <tr>\n",
       "      <th>2</th>\n",
       "      <td>-1.512360</td>\n",
       "      <td>1.524637</td>\n",
       "      <td>1.779084</td>\n",
       "    </tr>\n",
       "    <tr>\n",
       "      <th>3</th>\n",
       "      <td>0.051919</td>\n",
       "      <td>1.214806</td>\n",
       "      <td>1.283185</td>\n",
       "    </tr>\n",
       "    <tr>\n",
       "      <th>4</th>\n",
       "      <td>0.393196</td>\n",
       "      <td>-0.839507</td>\n",
       "      <td>1.278593</td>\n",
       "    </tr>\n",
       "  </tbody>\n",
       "</table>\n",
       "</div>"
      ],
      "text/plain": [
       "         TV     Radio  Newspaper\n",
       "0  0.967425  0.979066   1.774493\n",
       "1 -1.194379  1.080097   0.667903\n",
       "2 -1.512360  1.524637   1.779084\n",
       "3  0.051919  1.214806   1.283185\n",
       "4  0.393196 -0.839507   1.278593"
      ]
     },
     "execution_count": 9,
     "metadata": {},
     "output_type": "execute_result"
    }
   ],
   "source": [
    "X_std.head()"
   ]
  },
  {
   "cell_type": "code",
   "execution_count": 10,
   "id": "5cd158eb",
   "metadata": {},
   "outputs": [],
   "source": [
    "import random\n",
    "np.random.seed(seed = 42)\n",
    "random.seed(42)\n",
    "b = random.random()\n",
    "w = np.random.rand(3)"
   ]
  },
  {
   "cell_type": "code",
   "execution_count": 11,
   "id": "7a8fdc70",
   "metadata": {},
   "outputs": [
    {
     "data": {
      "text/plain": [
       "0.6394267984578837"
      ]
     },
     "execution_count": 11,
     "metadata": {},
     "output_type": "execute_result"
    }
   ],
   "source": [
    "b"
   ]
  },
  {
   "cell_type": "code",
   "execution_count": 12,
   "id": "a9142d0d",
   "metadata": {},
   "outputs": [
    {
     "data": {
      "text/plain": [
       "array([0.37454012, 0.95071431, 0.73199394])"
      ]
     },
     "execution_count": 12,
     "metadata": {},
     "output_type": "execute_result"
    }
   ],
   "source": [
    "w"
   ]
  },
  {
   "cell_type": "code",
   "execution_count": 13,
   "id": "912ca381",
   "metadata": {},
   "outputs": [],
   "source": [
    "Y_pred = b + np.matmul(X_std,w)"
   ]
  },
  {
   "cell_type": "code",
   "execution_count": 14,
   "id": "b96a9e8b",
   "metadata": {},
   "outputs": [
    {
     "data": {
      "text/plain": [
       "0    3.231496\n",
       "1    1.707849\n",
       "2    2.824761\n",
       "3    2.753090\n",
       "4    0.924486\n",
       "5    3.171365\n",
       "6    0.622344\n",
       "7   -0.349354\n",
       "8   -2.313095\n",
       "9   -0.768030\n",
       "dtype: float64"
      ]
     },
     "execution_count": 14,
     "metadata": {},
     "output_type": "execute_result"
    }
   ],
   "source": [
    "Y_pred[0:10]"
   ]
  },
  {
   "cell_type": "code",
   "execution_count": 15,
   "id": "7ab8ff33",
   "metadata": {},
   "outputs": [],
   "source": [
    "Y_resid = Y_std - Y_pred\n",
    "MSE = np.matmul(Y_resid.T,Y_resid)/len(Y_resid)"
   ]
  },
  {
   "cell_type": "code",
   "execution_count": 16,
   "id": "06006bdc",
   "metadata": {},
   "outputs": [
    {
     "data": {
      "text/plain": [
       "1.53031001985059"
      ]
     },
     "execution_count": 16,
     "metadata": {},
     "output_type": "execute_result"
    }
   ],
   "source": [
    "MSE"
   ]
  },
  {
   "cell_type": "code",
   "execution_count": 17,
   "id": "4a94bd87",
   "metadata": {},
   "outputs": [],
   "source": [
    "##Function for initialization of the weights and biases\n",
    "def initiate_bw(size):\n",
    "    np.random.seed(seed = 42)\n",
    "    b = np.random.random()\n",
    "    w = np.random.rand(size)\n",
    "    return b,w"
   ]
  },
  {
   "cell_type": "code",
   "execution_count": 18,
   "id": "85766c8e",
   "metadata": {},
   "outputs": [],
   "source": [
    "##Function for computing the final value\n",
    "def comp_y_hat(b,w,X):\n",
    "    return b + np.matmul(X,w)"
   ]
  },
  {
   "cell_type": "code",
   "execution_count": 19,
   "id": "92b63810",
   "metadata": {},
   "outputs": [],
   "source": [
    "def MSE(Y,Y_Hat):\n",
    "    Y_resid = Y - Y_Hat\n",
    "    return np.sum(np.matmul(Y_resid.T,Y_resid))/len(Y_resid)"
   ]
  },
  {
   "cell_type": "code",
   "execution_count": 20,
   "id": "eac3e252",
   "metadata": {},
   "outputs": [
    {
     "data": {
      "text/plain": [
       "1.53031001985059"
      ]
     },
     "execution_count": 20,
     "metadata": {},
     "output_type": "execute_result"
    }
   ],
   "source": [
    "MSE(Y_std,Y_pred)"
   ]
  },
  {
   "cell_type": "code",
   "execution_count": 21,
   "id": "25cd2976",
   "metadata": {},
   "outputs": [],
   "source": [
    "def grad_desc(Y,Y_hat,b_in,w_in,LR,X):\n",
    "    #gradient of bias\n",
    "    db = (np.sum(Y_hat - Y)*2)/len(Y)\n",
    "    \n",
    "    #gradient of weights\n",
    "    dw = (np.dot((Y_hat - Y),X)*2)/len(Y)\n",
    "    \n",
    "    b_1 = b_in - LR*db\n",
    "    w_1 = w_in - LR*dw\n",
    "    return b_1,w_1"
   ]
  },
  {
   "cell_type": "code",
   "execution_count": 22,
   "id": "4ea619f8",
   "metadata": {},
   "outputs": [],
   "source": [
    "b,w = grad_desc(Y_std,Y_pred,b,w,0.01,X_std)"
   ]
  },
  {
   "cell_type": "code",
   "execution_count": 23,
   "id": "d84b93f0",
   "metadata": {},
   "outputs": [
    {
     "data": {
      "text/plain": [
       "0.6266382624887261"
      ]
     },
     "execution_count": 23,
     "metadata": {},
     "output_type": "execute_result"
    }
   ],
   "source": [
    "b"
   ]
  },
  {
   "cell_type": "code",
   "execution_count": 24,
   "id": "c179fdf6",
   "metadata": {},
   "outputs": [
    {
     "data": {
      "text/plain": [
       "array([0.38079093, 0.9376953 , 0.71484883])"
      ]
     },
     "execution_count": 24,
     "metadata": {},
     "output_type": "execute_result"
    }
   ],
   "source": [
    "w"
   ]
  },
  {
   "cell_type": "code",
   "execution_count": 25,
   "id": "82fb2cd5",
   "metadata": {},
   "outputs": [
    {
     "data": {
      "text/plain": [
       "1.4645030412559266"
      ]
     },
     "execution_count": 25,
     "metadata": {},
     "output_type": "execute_result"
    }
   ],
   "source": [
    "MSE(Y_std,comp_y_hat(0.6266382624887261,[0.38079093, 0.9376953 , 0.71484883],X_std))"
   ]
  },
  {
   "cell_type": "code",
   "execution_count": 26,
   "id": "41e6f121",
   "metadata": {},
   "outputs": [],
   "source": [
    "def run_gradient_descent(X,Y,LR = 0.01,num_iter = 1000):\n",
    "    ##Initializing the initial biases and values \n",
    "    np.random.seed(seed = 42)\n",
    "    random.seed(42)\n",
    "    b = random.random()\n",
    "    w = np.random.rand(X.shape[1])\n",
    "    iteration_data = pd.DataFrame(columns = ['ITERATION','COST','BIAS','WEIGHT_1','WEIGHT_2','WEIGHT_3'])\n",
    "    diff_b = 0\n",
    "    diff_w = 0\n",
    "    ##Computing the revised bias and weights \n",
    "    count_index = 0\n",
    "    while (count_index <= num_iter):\n",
    "        #print(count_index<=num_iter)\n",
    "        #print(diff_b > 10e-5)\n",
    "        #print(diff_w>10e-5)\n",
    "        b_rev = b - LR*(np.sum(b + np.matmul(X,w)-Y)*2/len(Y))\n",
    "        w_rev = w - LR*(np.dot((b+np.matmul(X,w)-Y),X)*2)/len(Y)\n",
    "        \n",
    "        \n",
    "        if (count_index % 10 == 0):\n",
    "            Y_resid = b + np.matmul(X,w) - Y\n",
    "            MSE = np.sum(np.matmul(Y_resid.T,Y_resid))/len(Y_resid)\n",
    "            iteration_data.loc[count_index] = [count_index,MSE,b,w[0],w[1],w[2]]\n",
    "        count_index+=1\n",
    "        diff_b = abs(b-b_rev)\n",
    "        diff_w = np.linalg.norm(w - w_rev)\n",
    "        if (diff_b < 10e-9) and (diff_w < 10e-9):\n",
    "            print(diff_b)\n",
    "            print(diff_w)\n",
    "            count_index = num_iter + 1\n",
    "        b = b_rev\n",
    "        w = w_rev\n",
    "    return iteration_data,b,w"
   ]
  },
  {
   "cell_type": "code",
   "execution_count": 27,
   "id": "9b459f2d",
   "metadata": {},
   "outputs": [],
   "source": [
    "gd_iterations, b, w = run_gradient_descent(X_std,Y_std,LR = 0.001,num_iter = 200)"
   ]
  },
  {
   "cell_type": "code",
   "execution_count": 28,
   "id": "e8aa41ac",
   "metadata": {},
   "outputs": [
    {
     "data": {
      "text/html": [
       "<div>\n",
       "<style scoped>\n",
       "    .dataframe tbody tr th:only-of-type {\n",
       "        vertical-align: middle;\n",
       "    }\n",
       "\n",
       "    .dataframe tbody tr th {\n",
       "        vertical-align: top;\n",
       "    }\n",
       "\n",
       "    .dataframe thead th {\n",
       "        text-align: right;\n",
       "    }\n",
       "</style>\n",
       "<table border=\"1\" class=\"dataframe\">\n",
       "  <thead>\n",
       "    <tr style=\"text-align: right;\">\n",
       "      <th></th>\n",
       "      <th>ITERATION</th>\n",
       "      <th>COST</th>\n",
       "      <th>BIAS</th>\n",
       "      <th>WEIGHT_1</th>\n",
       "      <th>WEIGHT_2</th>\n",
       "      <th>WEIGHT_3</th>\n",
       "    </tr>\n",
       "  </thead>\n",
       "  <tbody>\n",
       "    <tr>\n",
       "      <th>0</th>\n",
       "      <td>0.0</td>\n",
       "      <td>1.530310</td>\n",
       "      <td>0.639427</td>\n",
       "      <td>0.374540</td>\n",
       "      <td>0.950714</td>\n",
       "      <td>0.731994</td>\n",
       "    </tr>\n",
       "    <tr>\n",
       "      <th>10</th>\n",
       "      <td>10.0</td>\n",
       "      <td>1.465201</td>\n",
       "      <td>0.626753</td>\n",
       "      <td>0.380750</td>\n",
       "      <td>0.937862</td>\n",
       "      <td>0.715039</td>\n",
       "    </tr>\n",
       "    <tr>\n",
       "      <th>20</th>\n",
       "      <td>20.0</td>\n",
       "      <td>1.403145</td>\n",
       "      <td>0.614330</td>\n",
       "      <td>0.386870</td>\n",
       "      <td>0.925373</td>\n",
       "      <td>0.698500</td>\n",
       "    </tr>\n",
       "    <tr>\n",
       "      <th>30</th>\n",
       "      <td>30.0</td>\n",
       "      <td>1.343996</td>\n",
       "      <td>0.602153</td>\n",
       "      <td>0.392901</td>\n",
       "      <td>0.913239</td>\n",
       "      <td>0.682367</td>\n",
       "    </tr>\n",
       "    <tr>\n",
       "      <th>40</th>\n",
       "      <td>40.0</td>\n",
       "      <td>1.287615</td>\n",
       "      <td>0.590218</td>\n",
       "      <td>0.398844</td>\n",
       "      <td>0.901449</td>\n",
       "      <td>0.666629</td>\n",
       "    </tr>\n",
       "    <tr>\n",
       "      <th>50</th>\n",
       "      <td>50.0</td>\n",
       "      <td>1.233868</td>\n",
       "      <td>0.578519</td>\n",
       "      <td>0.404699</td>\n",
       "      <td>0.889993</td>\n",
       "      <td>0.651276</td>\n",
       "    </tr>\n",
       "    <tr>\n",
       "      <th>60</th>\n",
       "      <td>60.0</td>\n",
       "      <td>1.182630</td>\n",
       "      <td>0.567053</td>\n",
       "      <td>0.410468</td>\n",
       "      <td>0.878864</td>\n",
       "      <td>0.636299</td>\n",
       "    </tr>\n",
       "    <tr>\n",
       "      <th>70</th>\n",
       "      <td>70.0</td>\n",
       "      <td>1.133780</td>\n",
       "      <td>0.555813</td>\n",
       "      <td>0.416152</td>\n",
       "      <td>0.868051</td>\n",
       "      <td>0.621687</td>\n",
       "    </tr>\n",
       "    <tr>\n",
       "      <th>80</th>\n",
       "      <td>80.0</td>\n",
       "      <td>1.087203</td>\n",
       "      <td>0.544796</td>\n",
       "      <td>0.421752</td>\n",
       "      <td>0.857546</td>\n",
       "      <td>0.607431</td>\n",
       "    </tr>\n",
       "    <tr>\n",
       "      <th>90</th>\n",
       "      <td>90.0</td>\n",
       "      <td>1.042793</td>\n",
       "      <td>0.533998</td>\n",
       "      <td>0.427268</td>\n",
       "      <td>0.847341</td>\n",
       "      <td>0.593523</td>\n",
       "    </tr>\n",
       "  </tbody>\n",
       "</table>\n",
       "</div>"
      ],
      "text/plain": [
       "    ITERATION      COST      BIAS  WEIGHT_1  WEIGHT_2  WEIGHT_3\n",
       "0         0.0  1.530310  0.639427  0.374540  0.950714  0.731994\n",
       "10       10.0  1.465201  0.626753  0.380750  0.937862  0.715039\n",
       "20       20.0  1.403145  0.614330  0.386870  0.925373  0.698500\n",
       "30       30.0  1.343996  0.602153  0.392901  0.913239  0.682367\n",
       "40       40.0  1.287615  0.590218  0.398844  0.901449  0.666629\n",
       "50       50.0  1.233868  0.578519  0.404699  0.889993  0.651276\n",
       "60       60.0  1.182630  0.567053  0.410468  0.878864  0.636299\n",
       "70       70.0  1.133780  0.555813  0.416152  0.868051  0.621687\n",
       "80       80.0  1.087203  0.544796  0.421752  0.857546  0.607431\n",
       "90       90.0  1.042793  0.533998  0.427268  0.847341  0.593523"
      ]
     },
     "execution_count": 28,
     "metadata": {},
     "output_type": "execute_result"
    }
   ],
   "source": [
    "gd_iterations[0:10]"
   ]
  },
  {
   "cell_type": "code",
   "execution_count": 29,
   "id": "45786403",
   "metadata": {},
   "outputs": [],
   "source": [
    "import matplotlib.pyplot as plt\n",
    "import seaborn as sns"
   ]
  },
  {
   "cell_type": "code",
   "execution_count": 30,
   "id": "db2634c5",
   "metadata": {},
   "outputs": [
    {
     "data": {
      "image/png": "[encoded data removed]",
      "text/plain": [
       "<Figure size 432x288 with 1 Axes>"
      ]
     },
     "metadata": {
      "needs_background": "light"
     },
     "output_type": "display_data"
    }
   ],
   "source": [
    "plt.plot(gd_iterations['ITERATION'],gd_iterations['COST'])\n",
    "plt.xlabel(\"Number of Iterations\")\n",
    "plt.ylabel(\"Cost of MSE\")\n",
    "plt.show()"
   ]
  },
  {
   "cell_type": "code",
   "execution_count": 31,
   "id": "8c4b75f2",
   "metadata": {},
   "outputs": [
    {
     "name": "stdout",
     "output_type": "stream",
     "text": [
      "3.639305825586807e-11\n",
      "9.945685878769946e-09\n"
     ]
    }
   ],
   "source": [
    "alpha_df_1,b,w = run_gradient_descent(X_std,Y_std,LR = 0.01,num_iter = 20000)\n",
    "alpha_df_2,b,w = run_gradient_descent(X_std,Y_std,LR = 0.001,num_iter = 2000)"
   ]
  },
  {
   "cell_type": "code",
   "execution_count": 32,
   "id": "9000a462",
   "metadata": {},
   "outputs": [
    {
     "data": {
      "text/plain": [
       "Text(0.5, 1.0, 'Cost vs Number of iterations for different LR')"
      ]
     },
     "execution_count": 32,
     "metadata": {},
     "output_type": "execute_result"
    },
    {
     "data": {
      "image/png": "[encoded data removed]",
      "text/plain": [
       "<Figure size 432x288 with 1 Axes>"
      ]
     },
     "metadata": {
      "needs_background": "light"
     },
     "output_type": "display_data"
    }
   ],
   "source": [
    "plt.plot(alpha_df_1['ITERATION'],alpha_df_1['COST'],label = 'alpha = 0.01')\n",
    "plt.plot(alpha_df_2['ITERATION'],alpha_df_2['COST'],label = 'alpha = 0.001')\n",
    "plt.legend()\n",
    "plt.ylabel('Cost MSE')\n",
    "plt.xlabel('Number of Iterations')\n",
    "plt.title('Cost vs Number of iterations for different LR')"
   ]
  },
  {
   "cell_type": "code",
   "execution_count": 33,
   "id": "70411d76",
   "metadata": {},
   "outputs": [
    {
     "name": "stdout",
     "output_type": "stream",
     "text": [
      "Intercept: 0.011641366165816357 and Weights are [0.74317012 0.52780664 0.01169233]\n"
     ]
    }
   ],
   "source": [
    "print(f\"Intercept: {b} and Weights are {w}\")"
   ]
  },
  {
   "cell_type": "code",
   "execution_count": 34,
   "id": "e80062aa",
   "metadata": {},
   "outputs": [
    {
     "data": {
      "text/plain": [
       "(201, 6)"
      ]
     },
     "execution_count": 34,
     "metadata": {},
     "output_type": "execute_result"
    }
   ],
   "source": [
    "alpha_df_2.shape"
   ]
  },
  {
   "cell_type": "code",
   "execution_count": 35,
   "id": "59ac2d9e",
   "metadata": {},
   "outputs": [],
   "source": [
    "from sklearn.model_selection import train_test_split\n",
    "X_train, X_test, y_train, y_test = train_test_split(X_advertising,Y_advertising,test_size = 0.3, random_state = 42)"
   ]
  },
  {
   "cell_type": "code",
   "execution_count": 36,
   "id": "43fb4eaa",
   "metadata": {},
   "outputs": [
    {
     "data": {
      "text/plain": [
       "140"
      ]
     },
     "execution_count": 36,
     "metadata": {},
     "output_type": "execute_result"
    }
   ],
   "source": [
    "len(X_train)"
   ]
  },
  {
   "cell_type": "code",
   "execution_count": 37,
   "id": "775e3728",
   "metadata": {},
   "outputs": [
    {
     "data": {
      "text/html": [
       "<style>#sk-container-id-1 {color: black;background-color: white;}#sk-container-id-1 pre{padding: 0;}#sk-container-id-1 div.sk-toggleable {background-color: white;}#sk-container-id-1 label.sk-toggleable__label {cursor: pointer;display: block;width: 100%;margin-bottom: 0;padding: 0.3em;box-sizing: border-box;text-align: center;}#sk-container-id-1 label.sk-toggleable__label-arrow:before {content: \"▸\";float: left;margin-right: 0.25em;color: #696969;}#sk-container-id-1 label.sk-toggleable__label-arrow:hover:before {color: black;}#sk-container-id-1 div.sk-estimator:hover label.sk-toggleable__label-arrow:before {color: black;}#sk-container-id-1 div.sk-toggleable__content {max-height: 0;max-width: 0;overflow: hidden;text-align: left;background-color: #f0f8ff;}#sk-container-id-1 div.sk-toggleable__content pre {margin: 0.2em;color: black;border-radius: 0.25em;background-color: #f0f8ff;}#sk-container-id-1 input.sk-toggleable__control:checked~div.sk-toggleable__content {max-height: 200px;max-width: 100%;overflow: auto;}#sk-container-id-1 input.sk-toggleable__control:checked~label.sk-toggleable__label-arrow:before {content: \"▾\";}#sk-container-id-1 div.sk-estimator input.sk-toggleable__control:checked~label.sk-toggleable__label {background-color: #d4ebff;}#sk-container-id-1 div.sk-label input.sk-toggleable__control:checked~label.sk-toggleable__label {background-color: #d4ebff;}#sk-container-id-1 input.sk-hidden--visually {border: 0;clip: rect(1px 1px 1px 1px);clip: rect(1px, 1px, 1px, 1px);height: 1px;margin: -1px;overflow: hidden;padding: 0;position: absolute;width: 1px;}#sk-container-id-1 div.sk-estimator {font-family: monospace;background-color: #f0f8ff;border: 1px dotted black;border-radius: 0.25em;box-sizing: border-box;margin-bottom: 0.5em;}#sk-container-id-1 div.sk-estimator:hover {background-color: #d4ebff;}#sk-container-id-1 div.sk-parallel-item::after {content: \"\";width: 100%;border-bottom: 1px solid gray;flex-grow: 1;}#sk-container-id-1 div.sk-label:hover label.sk-toggleable__label {background-color: #d4ebff;}#sk-container-id-1 div.sk-serial::before {content: \"\";position: absolute;border-left: 1px solid gray;box-sizing: border-box;top: 0;bottom: 0;left: 50%;z-index: 0;}#sk-container-id-1 div.sk-serial {display: flex;flex-direction: column;align-items: center;background-color: white;padding-right: 0.2em;padding-left: 0.2em;position: relative;}#sk-container-id-1 div.sk-item {position: relative;z-index: 1;}#sk-container-id-1 div.sk-parallel {display: flex;align-items: stretch;justify-content: center;background-color: white;position: relative;}#sk-container-id-1 div.sk-item::before, #sk-container-id-1 div.sk-parallel-item::before {content: \"\";position: absolute;border-left: 1px solid gray;box-sizing: border-box;top: 0;bottom: 0;left: 50%;z-index: -1;}#sk-container-id-1 div.sk-parallel-item {display: flex;flex-direction: column;z-index: 1;position: relative;background-color: white;}#sk-container-id-1 div.sk-parallel-item:first-child::after {align-self: flex-end;width: 50%;}#sk-container-id-1 div.sk-parallel-item:last-child::after {align-self: flex-start;width: 50%;}#sk-container-id-1 div.sk-parallel-item:only-child::after {width: 0;}#sk-container-id-1 div.sk-dashed-wrapped {border: 1px dashed gray;margin: 0 0.4em 0.5em 0.4em;box-sizing: border-box;padding-bottom: 0.4em;background-color: white;}#sk-container-id-1 div.sk-label label {font-family: monospace;font-weight: bold;display: inline-block;line-height: 1.2em;}#sk-container-id-1 div.sk-label-container {text-align: center;}#sk-container-id-1 div.sk-container {/* jupyter's `normalize.less` sets `[hidden] { display: none; }` but bootstrap.min.css set `[hidden] { display: none !important; }` so we also need the `!important` here to be able to override the default hidden behavior on the sphinx rendered scikit-learn.org. See: https://github.com/scikit-learn/scikit-learn/issues/21755 */display: inline-block !important;position: relative;}#sk-container-id-1 div.sk-text-repr-fallback {display: none;}</style><div id=\"sk-container-id-1\" class=\"sk-top-container\"><div class=\"sk-text-repr-fallback\"><pre>LinearRegression()</pre><b>In a Jupyter environment, please rerun this cell to show the HTML representation or trust the notebook. <br />On GitHub, the HTML representation is unable to render, please try loading this page with nbviewer.org.</b></div><div class=\"sk-container\" hidden><div class=\"sk-item\"><div class=\"sk-estimator sk-toggleable\"><input class=\"sk-toggleable__control sk-hidden--visually\" id=\"sk-estimator-id-1\" type=\"checkbox\" checked><label for=\"sk-estimator-id-1\" class=\"sk-toggleable__label sk-toggleable__label-arrow\">LinearRegression</label><div class=\"sk-toggleable__content\"><pre>LinearRegression()</pre></div></div></div></div></div>"
      ],
      "text/plain": [
       "LinearRegression()"
      ]
     },
     "execution_count": 37,
     "metadata": {},
     "output_type": "execute_result"
    }
   ],
   "source": [
    "from sklearn.linear_model import LinearRegression\n",
    "linreg = LinearRegression()\n",
    "linreg.fit(X_train, y_train)"
   ]
  },
  {
   "cell_type": "code",
   "execution_count": 38,
   "id": "28bce04a",
   "metadata": {},
   "outputs": [
    {
     "data": {
      "text/plain": [
       "2.70894909251591"
      ]
     },
     "execution_count": 38,
     "metadata": {},
     "output_type": "execute_result"
    }
   ],
   "source": [
    "linreg.intercept_"
   ]
  },
  {
   "cell_type": "code",
   "execution_count": 39,
   "id": "e2ad430f",
   "metadata": {},
   "outputs": [
    {
     "data": {
      "text/plain": [
       "array([0.04405928, 0.1992875 , 0.00688245])"
      ]
     },
     "execution_count": 39,
     "metadata": {},
     "output_type": "execute_result"
    }
   ],
   "source": [
    "linreg.coef_"
   ]
  },
  {
   "cell_type": "code",
   "execution_count": 41,
   "id": "b1d0bc19",
   "metadata": {},
   "outputs": [],
   "source": [
    "curve = pd.read_csv(\"Datasets/curve.csv\")"
   ]
  },
  {
   "cell_type": "code",
   "execution_count": 42,
   "id": "8d4e9d61",
   "metadata": {},
   "outputs": [
    {
     "data": {
      "text/html": [
       "<div>\n",
       "<style scoped>\n",
       "    .dataframe tbody tr th:only-of-type {\n",
       "        vertical-align: middle;\n",
       "    }\n",
       "\n",
       "    .dataframe tbody tr th {\n",
       "        vertical-align: top;\n",
       "    }\n",
       "\n",
       "    .dataframe thead th {\n",
       "        text-align: right;\n",
       "    }\n",
       "</style>\n",
       "<table border=\"1\" class=\"dataframe\">\n",
       "  <thead>\n",
       "    <tr style=\"text-align: right;\">\n",
       "      <th></th>\n",
       "      <th>x</th>\n",
       "      <th>y</th>\n",
       "    </tr>\n",
       "  </thead>\n",
       "  <tbody>\n",
       "    <tr>\n",
       "      <th>0</th>\n",
       "      <td>2</td>\n",
       "      <td>-1.999618</td>\n",
       "    </tr>\n",
       "    <tr>\n",
       "      <th>1</th>\n",
       "      <td>2</td>\n",
       "      <td>-1.999618</td>\n",
       "    </tr>\n",
       "    <tr>\n",
       "      <th>2</th>\n",
       "      <td>8</td>\n",
       "      <td>-3.978312</td>\n",
       "    </tr>\n",
       "    <tr>\n",
       "      <th>3</th>\n",
       "      <td>9</td>\n",
       "      <td>-1.969175</td>\n",
       "    </tr>\n",
       "    <tr>\n",
       "      <th>4</th>\n",
       "      <td>10</td>\n",
       "      <td>-0.957770</td>\n",
       "    </tr>\n",
       "  </tbody>\n",
       "</table>\n",
       "</div>"
      ],
      "text/plain": [
       "    x         y\n",
       "0   2 -1.999618\n",
       "1   2 -1.999618\n",
       "2   8 -3.978312\n",
       "3   9 -1.969175\n",
       "4  10 -0.957770"
      ]
     },
     "execution_count": 42,
     "metadata": {},
     "output_type": "execute_result"
    }
   ],
   "source": [
    "curve.head()"
   ]
  },
  {
   "cell_type": "code",
   "execution_count": 46,
   "id": "31ef1f55",
   "metadata": {},
   "outputs": [
    {
     "data": {
      "text/plain": [
       "Text(0, 0.5, 'Y Values')"
      ]
     },
     "execution_count": 46,
     "metadata": {},
     "output_type": "execute_result"
    },
    {
     "data": {
      "image/png": "[encoded data removed]",
      "text/plain": [
       "<Figure size 432x288 with 1 Axes>"
      ]
     },
     "metadata": {
      "needs_background": "light"
     },
     "output_type": "display_data"
    }
   ],
   "source": [
    "plt.scatter(curve.x,curve.y,color='grey')\n",
    "plt.xlabel(\"X Values\")\n",
    "plt.ylabel(\"Y Values\")"
   ]
  },
  {
   "cell_type": "code",
   "execution_count": 55,
   "id": "975c4a58",
   "metadata": {},
   "outputs": [],
   "source": [
    "p = np.polyfit(curve.x,curve.y,deg = 2)"
   ]
  },
  {
   "cell_type": "code",
   "execution_count": 56,
   "id": "9903c0b3",
   "metadata": {},
   "outputs": [],
   "source": [
    "curve['fit'] = np.polyval(p,curve.x)"
   ]
  },
  {
   "cell_type": "code",
   "execution_count": 57,
   "id": "4b6ed981",
   "metadata": {},
   "outputs": [
    {
     "data": {
      "text/plain": [
       "[<matplotlib.lines.Line2D at 0x15d3ec2b0>]"
      ]
     },
     "execution_count": 57,
     "metadata": {},
     "output_type": "execute_result"
    },
    {
     "data": {
      "image/png": "[encoded data removed]",
      "text/plain": [
       "<Figure size 432x288 with 1 Axes>"
      ]
     },
     "metadata": {
      "needs_background": "light"
     },
     "output_type": "display_data"
    }
   ],
   "source": [
    "sns.regplot(x=curve.x,y=curve.y,fit_reg = False)\n",
    "plt.plot(curve.x,curve.fit,label = 'fit')"
   ]
  },
  {
   "cell_type": "code",
   "execution_count": null,
   "id": "0310b42c",
   "metadata": {},
   "outputs": [],
   "source": []
  }
 ],
 "metadata": {
  "kernelspec": {
   "display_name": "Python 3 (ipykernel)",
   "language": "python",
   "name": "python3"
  },
  "language_info": {
   "codemirror_mode": {
    "name": "ipython",
    "version": 3
   },
   "file_extension": ".py",
   "mimetype": "text/x-python",
   "name": "python",
   "nbconvert_exporter": "python",
   "pygments_lexer": "ipython3",
   "version": "3.9.12"
  }
 },
 "nbformat": 4,
 "nbformat_minor": 5
}
