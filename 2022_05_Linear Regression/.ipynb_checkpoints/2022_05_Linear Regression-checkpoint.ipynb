{
 "cells": [
  {
   "cell_type": "markdown",
   "id": "b927cae7",
   "metadata": {},
   "source": [
    "### Introduction to Linear Regression\n",
    "Linear Regression can be treated as one of the basic algorithms which has been used on paper for a long time before it started getting coded on the computers. A lot of econometrics student encounter this algorithm in their studies. This is an example of a **Supervised Machine Learning** algorithm. \n",
    "\n",
    "<br>**SUPERVISED LEARNING ALGORITHM**\n",
    "<br>Supervised Learning algorithms are type of algorithms where we have the features as well as outcome of the train dataset and we use the features of the test data-set to generate the outcome variables for test datasets. \n",
    "\n",
    "<br>You could be interested in multiple problems which can be solved by the linear regression:\n",
    "- How far the ball go up if you throw the ball with an initial velocity of v m/s (might have been required prior to Newton)\n",
    "- How much insurance premium may be required based on the age of a customer\n",
    "- What will be the profit generated if you add feature #1, 2, 3 ... n for a particular app\n",
    "\n",
    "**MATHEMATICS BEHIND REGRESSION**\n",
    "<br>We will come to the steps required for the regression mode but before that let us understand some mathematics behind the regression models.\n",
    "<br><center> Y = $\\beta_0 + \\beta_1X + \\epsilon$</center>\n",
    "\n",
    "<br>We generally have n data-points associated, for which we want to predict. (Remember we are trying to estimate the values of these parameters $\\beta_0, \\beta_1$ statistically) and not trying to solve these equations for exact values (remember there are 2 variables and n equations and there is very low probability for these equations to agree to a single solution).\n",
    "\n",
    "Therefore we have:\n",
    "<br><center> $Y_i = \\beta_0 + \\beta_1X_i + \\epsilon_i$</center> \n",
    "\n",
    "If we re-write this equation we arrive at an equation:\n",
    "<br><center> $\\epsilon_i = Y_i - \\beta_0 - \\beta_1X_i$</center> "
   ]
  },
  {
   "cell_type": "markdown",
   "id": "434a0a41",
   "metadata": {},
   "source": [
    "Now we try to find values of $\\beta_1$ and $\\beta_0$ which minimize the value of the $\\epsilon$ parameter in general (statistically). \n",
    "<br>For the same we compute value of **Squared Sum Errors** (or sum of squared errors) also known as SSE. \n",
    "<br><center>SSE = $\\large \\sum_{i=1}^{i=n} \\epsilon_i$ = $\\large \\sum_{i=1}^{i=n} Y_i - \\beta_0 - \\beta_1X_i$</center>"
   ]
  },
  {
   "cell_type": "markdown",
   "id": "5b93db81",
   "metadata": {},
   "source": [
    "Same equation can be extrapolated to multiple variables. As\n",
    "<center>$Y_i = \\beta_0 + \\beta_1X_i + \\beta_2X_i + \\beta_3X_i + ... + \\beta_nX_i$ </center>\n",
    "\n",
    "**COLLECTING THE DATA**\n",
    "<br>First step of Linear Regression Model and any model for that matter is collection of the data. Here we will be using the Insurance Cost Data set which is available on Kaggle. "
   ]
  },
  {
   "cell_type": "code",
   "execution_count": 2,
   "id": "3469e7d6",
   "metadata": {},
   "outputs": [],
   "source": [
    "import pandas as pd\n",
    "insurance_cost = pd.read_csv(\"Insurance_Cost.csv\")"
   ]
  },
  {
   "cell_type": "code",
   "execution_count": 3,
   "id": "8191562d",
   "metadata": {},
   "outputs": [
    {
     "name": "stdout",
     "output_type": "stream",
     "text": [
      "<class 'pandas.core.frame.DataFrame'>\n",
      "RangeIndex: 1338 entries, 0 to 1337\n",
      "Data columns (total 7 columns):\n",
      " #   Column    Non-Null Count  Dtype  \n",
      "---  ------    --------------  -----  \n",
      " 0   age       1338 non-null   int64  \n",
      " 1   sex       1338 non-null   object \n",
      " 2   bmi       1338 non-null   float64\n",
      " 3   children  1338 non-null   int64  \n",
      " 4   smoker    1338 non-null   object \n",
      " 5   region    1338 non-null   object \n",
      " 6   charges   1338 non-null   float64\n",
      "dtypes: float64(2), int64(2), object(3)\n",
      "memory usage: 73.3+ KB\n"
     ]
    }
   ],
   "source": [
    "insurance_cost.info()"
   ]
  },
  {
   "cell_type": "markdown",
   "id": "7568a23f",
   "metadata": {},
   "source": [
    "Following can be inferred from the above table:\n",
    "- All the data points are complete (Otherwise at-least one of the variable will have different non-null count)\n",
    "- There are 4 Numerical Variables: Age, BMI, Children, Charges\n",
    "- There are 3 Categorical Variables: Sex, Smoker, Region\n",
    "<br>We can do some preprocessing in the data, which we will come to now. \n",
    "<br>Also, there is a detailed EDA required on this data set which we will cover separately. "
   ]
  },
  {
   "cell_type": "markdown",
   "id": "9219c9d5",
   "metadata": {},
   "source": [
    "**DEALING WITH CATEGORICAL VARIABLES**\n",
    "<br>As you saw above the equation for Linear Regression cannot take categorical variables and it expects only numerical variable. However, we can convert categorical variables into numerical variables by encoding them. \n",
    "<br>Encoding is nothing but defining 0 or 1 for each level of categorical variables. \n",
    "<br>Let us take examples from our data sets:\n",
    "- Sex will have two levels - M and F we can encode this as binary variable 0 for Male and 1 for Female\n",
    "- Smoker again will have two levels - Y or N which can be converted into binary variable\n",
    "- Region is a little bit more complicated for Region we will deploy 0/1 for each region\n",
    "<br>Let us understand it in a bit more detail."
   ]
  },
  {
   "cell_type": "code",
   "execution_count": 4,
   "id": "f9928f9e",
   "metadata": {},
   "outputs": [
    {
     "data": {
      "text/plain": [
       "array(['yes', 'no'], dtype=object)"
      ]
     },
     "execution_count": 4,
     "metadata": {},
     "output_type": "execute_result"
    }
   ],
   "source": [
    "insurance_cost['smoker'].unique() ##Giving two levels of unique points"
   ]
  },
  {
   "cell_type": "code",
   "execution_count": 5,
   "id": "c365e07b",
   "metadata": {},
   "outputs": [
    {
     "data": {
      "text/plain": [
       "array(['female', 'male'], dtype=object)"
      ]
     },
     "execution_count": 5,
     "metadata": {},
     "output_type": "execute_result"
    }
   ],
   "source": [
    "insurance_cost['sex'].unique() ##Giving two levels of unique points"
   ]
  },
  {
   "cell_type": "code",
   "execution_count": 6,
   "id": "238e0f4e",
   "metadata": {},
   "outputs": [
    {
     "data": {
      "text/plain": [
       "array(['southwest', 'southeast', 'northwest', 'northeast'], dtype=object)"
      ]
     },
     "execution_count": 6,
     "metadata": {},
     "output_type": "execute_result"
    }
   ],
   "source": [
    "insurance_cost['region'].unique() ##Giving 4 levels of unique points"
   ]
  },
  {
   "cell_type": "code",
   "execution_count": 7,
   "id": "4ce224f5",
   "metadata": {},
   "outputs": [
    {
     "data": {
      "text/html": [
       "<div>\n",
       "<style scoped>\n",
       "    .dataframe tbody tr th:only-of-type {\n",
       "        vertical-align: middle;\n",
       "    }\n",
       "\n",
       "    .dataframe tbody tr th {\n",
       "        vertical-align: top;\n",
       "    }\n",
       "\n",
       "    .dataframe thead th {\n",
       "        text-align: right;\n",
       "    }\n",
       "</style>\n",
       "<table border=\"1\" class=\"dataframe\">\n",
       "  <thead>\n",
       "    <tr style=\"text-align: right;\">\n",
       "      <th></th>\n",
       "      <th>northeast</th>\n",
       "      <th>northwest</th>\n",
       "      <th>southeast</th>\n",
       "      <th>southwest</th>\n",
       "    </tr>\n",
       "  </thead>\n",
       "  <tbody>\n",
       "    <tr>\n",
       "      <th>0</th>\n",
       "      <td>0</td>\n",
       "      <td>0</td>\n",
       "      <td>0</td>\n",
       "      <td>1</td>\n",
       "    </tr>\n",
       "    <tr>\n",
       "      <th>1</th>\n",
       "      <td>0</td>\n",
       "      <td>0</td>\n",
       "      <td>1</td>\n",
       "      <td>0</td>\n",
       "    </tr>\n",
       "    <tr>\n",
       "      <th>2</th>\n",
       "      <td>0</td>\n",
       "      <td>0</td>\n",
       "      <td>1</td>\n",
       "      <td>0</td>\n",
       "    </tr>\n",
       "    <tr>\n",
       "      <th>3</th>\n",
       "      <td>0</td>\n",
       "      <td>1</td>\n",
       "      <td>0</td>\n",
       "      <td>0</td>\n",
       "    </tr>\n",
       "    <tr>\n",
       "      <th>4</th>\n",
       "      <td>0</td>\n",
       "      <td>1</td>\n",
       "      <td>0</td>\n",
       "      <td>0</td>\n",
       "    </tr>\n",
       "    <tr>\n",
       "      <th>...</th>\n",
       "      <td>...</td>\n",
       "      <td>...</td>\n",
       "      <td>...</td>\n",
       "      <td>...</td>\n",
       "    </tr>\n",
       "    <tr>\n",
       "      <th>1333</th>\n",
       "      <td>0</td>\n",
       "      <td>1</td>\n",
       "      <td>0</td>\n",
       "      <td>0</td>\n",
       "    </tr>\n",
       "    <tr>\n",
       "      <th>1334</th>\n",
       "      <td>1</td>\n",
       "      <td>0</td>\n",
       "      <td>0</td>\n",
       "      <td>0</td>\n",
       "    </tr>\n",
       "    <tr>\n",
       "      <th>1335</th>\n",
       "      <td>0</td>\n",
       "      <td>0</td>\n",
       "      <td>1</td>\n",
       "      <td>0</td>\n",
       "    </tr>\n",
       "    <tr>\n",
       "      <th>1336</th>\n",
       "      <td>0</td>\n",
       "      <td>0</td>\n",
       "      <td>0</td>\n",
       "      <td>1</td>\n",
       "    </tr>\n",
       "    <tr>\n",
       "      <th>1337</th>\n",
       "      <td>0</td>\n",
       "      <td>1</td>\n",
       "      <td>0</td>\n",
       "      <td>0</td>\n",
       "    </tr>\n",
       "  </tbody>\n",
       "</table>\n",
       "<p>1338 rows × 4 columns</p>\n",
       "</div>"
      ],
      "text/plain": [
       "      northeast  northwest  southeast  southwest\n",
       "0             0          0          0          1\n",
       "1             0          0          1          0\n",
       "2             0          0          1          0\n",
       "3             0          1          0          0\n",
       "4             0          1          0          0\n",
       "...         ...        ...        ...        ...\n",
       "1333          0          1          0          0\n",
       "1334          1          0          0          0\n",
       "1335          0          0          1          0\n",
       "1336          0          0          0          1\n",
       "1337          0          1          0          0\n",
       "\n",
       "[1338 rows x 4 columns]"
      ]
     },
     "execution_count": 7,
     "metadata": {},
     "output_type": "execute_result"
    }
   ],
   "source": [
    "pd.get_dummies(insurance_cost['region'])"
   ]
  },
  {
   "cell_type": "markdown",
   "id": "1c3c06e5",
   "metadata": {},
   "source": [
    "For other variables there is a lot more easier (and faster method). We can use ```np.where``` function."
   ]
  },
  {
   "cell_type": "code",
   "execution_count": 8,
   "id": "4aad7fd0",
   "metadata": {},
   "outputs": [],
   "source": [
    "import numpy as np\n",
    "insurance_cost['smoker']=np.where(insurance_cost['smoker']== 'yes',1,0)\n",
    "insurance_cost['sex'] = np.where(insurance_cost['sex']=='female',1,0)\n",
    "#Works very similar to the if-else condition in excel"
   ]
  },
  {
   "cell_type": "markdown",
   "id": "6920587b",
   "metadata": {},
   "source": [
    "Let us list down the predictor variables in our data (X-Variables) to understand list of variables which will be impacting our result."
   ]
  },
  {
   "cell_type": "code",
   "execution_count": 9,
   "id": "5647b9e0",
   "metadata": {},
   "outputs": [],
   "source": [
    "insurance_cost_revised= pd.get_dummies(insurance_cost,columns = ['region'],drop_first = True)"
   ]
  },
  {
   "cell_type": "markdown",
   "id": "d45c0bac",
   "metadata": {},
   "source": [
    "Here we are using ```drop_first = True``` because for K variables we want to create K-1 dummy variables.\n",
    "<br>So essentially we reduce number of categorical variables from K = K-1 \n",
    "<br>Because for the model it is understood if none of these variables are true then the other value will be true. One of the fundamental requirement of the a linear regression model is that the variables should be independent of each other. \n",
    "\n",
    "<br>We can cover the proof of the linear regression models as well, if required. Before that let us extract the features (predictor variables or x variables) first. "
   ]
  },
  {
   "cell_type": "code",
   "execution_count": 10,
   "id": "67f5e69c",
   "metadata": {},
   "outputs": [],
   "source": [
    "Charges = pd.DataFrame(insurance_cost_revised['charges'],columns = ['charges'])"
   ]
  },
  {
   "cell_type": "markdown",
   "id": "c04ae54a",
   "metadata": {},
   "source": [
    "We have created the Y variable data set now we need to choose X variable dataset."
   ]
  },
  {
   "cell_type": "code",
   "execution_count": 11,
   "id": "12846fdf",
   "metadata": {},
   "outputs": [],
   "source": [
    "insurance_cost_revised.columns\n",
    "X_variables = insurance_cost_revised.loc[:,insurance_cost_revised.columns != 'charges']"
   ]
  },
  {
   "cell_type": "code",
   "execution_count": 12,
   "id": "6f49bddf",
   "metadata": {},
   "outputs": [],
   "source": [
    "##You might have to install statsmodels package using !pip install statsmodels\n",
    "import statsmodels.api as sm"
   ]
  },
  {
   "cell_type": "code",
   "execution_count": 13,
   "id": "f63391cc",
   "metadata": {},
   "outputs": [],
   "source": [
    "Y_var = pd.DataFrame(insurance_cost_revised['charges'],columns = ['charges'])"
   ]
  },
  {
   "cell_type": "code",
   "execution_count": 14,
   "id": "507e9782",
   "metadata": {},
   "outputs": [
    {
     "data": {
      "text/plain": [
       "pandas.core.frame.DataFrame"
      ]
     },
     "execution_count": 14,
     "metadata": {},
     "output_type": "execute_result"
    }
   ],
   "source": [
    "type(Y_var)"
   ]
  },
  {
   "cell_type": "code",
   "execution_count": 15,
   "id": "a4dd75cd",
   "metadata": {},
   "outputs": [
    {
     "data": {
      "text/html": [
       "<div>\n",
       "<style scoped>\n",
       "    .dataframe tbody tr th:only-of-type {\n",
       "        vertical-align: middle;\n",
       "    }\n",
       "\n",
       "    .dataframe tbody tr th {\n",
       "        vertical-align: top;\n",
       "    }\n",
       "\n",
       "    .dataframe thead th {\n",
       "        text-align: right;\n",
       "    }\n",
       "</style>\n",
       "<table border=\"1\" class=\"dataframe\">\n",
       "  <thead>\n",
       "    <tr style=\"text-align: right;\">\n",
       "      <th></th>\n",
       "      <th>age</th>\n",
       "      <th>sex</th>\n",
       "      <th>bmi</th>\n",
       "      <th>children</th>\n",
       "      <th>smoker</th>\n",
       "      <th>region_northwest</th>\n",
       "      <th>region_southeast</th>\n",
       "      <th>region_southwest</th>\n",
       "    </tr>\n",
       "  </thead>\n",
       "  <tbody>\n",
       "    <tr>\n",
       "      <th>0</th>\n",
       "      <td>19</td>\n",
       "      <td>1</td>\n",
       "      <td>27.900</td>\n",
       "      <td>0</td>\n",
       "      <td>1</td>\n",
       "      <td>0</td>\n",
       "      <td>0</td>\n",
       "      <td>1</td>\n",
       "    </tr>\n",
       "    <tr>\n",
       "      <th>1</th>\n",
       "      <td>18</td>\n",
       "      <td>0</td>\n",
       "      <td>33.770</td>\n",
       "      <td>1</td>\n",
       "      <td>0</td>\n",
       "      <td>0</td>\n",
       "      <td>1</td>\n",
       "      <td>0</td>\n",
       "    </tr>\n",
       "    <tr>\n",
       "      <th>2</th>\n",
       "      <td>28</td>\n",
       "      <td>0</td>\n",
       "      <td>33.000</td>\n",
       "      <td>3</td>\n",
       "      <td>0</td>\n",
       "      <td>0</td>\n",
       "      <td>1</td>\n",
       "      <td>0</td>\n",
       "    </tr>\n",
       "    <tr>\n",
       "      <th>3</th>\n",
       "      <td>33</td>\n",
       "      <td>0</td>\n",
       "      <td>22.705</td>\n",
       "      <td>0</td>\n",
       "      <td>0</td>\n",
       "      <td>1</td>\n",
       "      <td>0</td>\n",
       "      <td>0</td>\n",
       "    </tr>\n",
       "    <tr>\n",
       "      <th>4</th>\n",
       "      <td>32</td>\n",
       "      <td>0</td>\n",
       "      <td>28.880</td>\n",
       "      <td>0</td>\n",
       "      <td>0</td>\n",
       "      <td>1</td>\n",
       "      <td>0</td>\n",
       "      <td>0</td>\n",
       "    </tr>\n",
       "  </tbody>\n",
       "</table>\n",
       "</div>"
      ],
      "text/plain": [
       "   age  sex     bmi  children  smoker  region_northwest  region_southeast  \\\n",
       "0   19    1  27.900         0       1                 0                 0   \n",
       "1   18    0  33.770         1       0                 0                 1   \n",
       "2   28    0  33.000         3       0                 0                 1   \n",
       "3   33    0  22.705         0       0                 1                 0   \n",
       "4   32    0  28.880         0       0                 1                 0   \n",
       "\n",
       "   region_southwest  \n",
       "0                 1  \n",
       "1                 0  \n",
       "2                 0  \n",
       "3                 0  \n",
       "4                 0  "
      ]
     },
     "execution_count": 15,
     "metadata": {},
     "output_type": "execute_result"
    }
   ],
   "source": [
    "X_variables.head()"
   ]
  },
  {
   "cell_type": "code",
   "execution_count": 16,
   "id": "1e9c7fe2",
   "metadata": {},
   "outputs": [
    {
     "data": {
      "text/html": [
       "<div>\n",
       "<style scoped>\n",
       "    .dataframe tbody tr th:only-of-type {\n",
       "        vertical-align: middle;\n",
       "    }\n",
       "\n",
       "    .dataframe tbody tr th {\n",
       "        vertical-align: top;\n",
       "    }\n",
       "\n",
       "    .dataframe thead th {\n",
       "        text-align: right;\n",
       "    }\n",
       "</style>\n",
       "<table border=\"1\" class=\"dataframe\">\n",
       "  <thead>\n",
       "    <tr style=\"text-align: right;\">\n",
       "      <th></th>\n",
       "      <th>charges</th>\n",
       "    </tr>\n",
       "  </thead>\n",
       "  <tbody>\n",
       "    <tr>\n",
       "      <th>0</th>\n",
       "      <td>16884.92400</td>\n",
       "    </tr>\n",
       "    <tr>\n",
       "      <th>1</th>\n",
       "      <td>1725.55230</td>\n",
       "    </tr>\n",
       "    <tr>\n",
       "      <th>2</th>\n",
       "      <td>4449.46200</td>\n",
       "    </tr>\n",
       "    <tr>\n",
       "      <th>3</th>\n",
       "      <td>21984.47061</td>\n",
       "    </tr>\n",
       "    <tr>\n",
       "      <th>4</th>\n",
       "      <td>3866.85520</td>\n",
       "    </tr>\n",
       "    <tr>\n",
       "      <th>...</th>\n",
       "      <td>...</td>\n",
       "    </tr>\n",
       "    <tr>\n",
       "      <th>1333</th>\n",
       "      <td>10600.54830</td>\n",
       "    </tr>\n",
       "    <tr>\n",
       "      <th>1334</th>\n",
       "      <td>2205.98080</td>\n",
       "    </tr>\n",
       "    <tr>\n",
       "      <th>1335</th>\n",
       "      <td>1629.83350</td>\n",
       "    </tr>\n",
       "    <tr>\n",
       "      <th>1336</th>\n",
       "      <td>2007.94500</td>\n",
       "    </tr>\n",
       "    <tr>\n",
       "      <th>1337</th>\n",
       "      <td>29141.36030</td>\n",
       "    </tr>\n",
       "  </tbody>\n",
       "</table>\n",
       "<p>1338 rows × 1 columns</p>\n",
       "</div>"
      ],
      "text/plain": [
       "          charges\n",
       "0     16884.92400\n",
       "1      1725.55230\n",
       "2      4449.46200\n",
       "3     21984.47061\n",
       "4      3866.85520\n",
       "...           ...\n",
       "1333  10600.54830\n",
       "1334   2205.98080\n",
       "1335   1629.83350\n",
       "1336   2007.94500\n",
       "1337  29141.36030\n",
       "\n",
       "[1338 rows x 1 columns]"
      ]
     },
     "execution_count": 16,
     "metadata": {},
     "output_type": "execute_result"
    }
   ],
   "source": [
    "Y_var"
   ]
  },
  {
   "cell_type": "markdown",
   "id": "9e9e46ed",
   "metadata": {},
   "source": [
    "Now let us split our data into test and train set for that we will import ```train_test_split``` package from ```sklearn.model_selection``` library. \n",
    "<br>```sklearn``` is probably the most famous package for machine learning.\n",
    "<br>We also add a constant for .... ```CHECK WHY DO YOU ADD CONSTANT```"
   ]
  },
  {
   "cell_type": "code",
   "execution_count": 17,
   "id": "41e69bfb",
   "metadata": {},
   "outputs": [],
   "source": [
    "from sklearn.model_selection import train_test_split\n",
    "import statsmodels.api as sm\n",
    "X_variables = sm.add_constant(X_variables)"
   ]
  },
  {
   "cell_type": "code",
   "execution_count": 18,
   "id": "24dbd875",
   "metadata": {},
   "outputs": [],
   "source": [
    "train_X, test_X, train_y, test_y = train_test_split(X_variables,Y_var,\n",
    "                                                   train_size = 0.80,\n",
    "                                                   random_state = 121)"
   ]
  },
  {
   "cell_type": "code",
   "execution_count": 19,
   "id": "6a951f24",
   "metadata": {},
   "outputs": [],
   "source": [
    "model_1 = sm.OLS(train_y,train_X).fit()"
   ]
  },
  {
   "cell_type": "code",
   "execution_count": 20,
   "id": "2aed41da",
   "metadata": {},
   "outputs": [
    {
     "data": {
      "text/html": [
       "<table class=\"simpletable\">\n",
       "<tr>\n",
       "        <td>Model:</td>               <td>OLS</td>         <td>Adj. R-squared:</td>      <td>0.745</td>  \n",
       "</tr>\n",
       "<tr>\n",
       "  <td>Dependent Variable:</td>      <td>charges</td>            <td>AIC:</td>         <td>21699.6385</td>\n",
       "</tr>\n",
       "<tr>\n",
       "         <td>Date:</td>        <td>2022-05-13 14:46</td>        <td>BIC:</td>         <td>21744.4172</td>\n",
       "</tr>\n",
       "<tr>\n",
       "   <td>No. Observations:</td>        <td>1070</td>         <td>Log-Likelihood:</td>     <td>-10841.</td> \n",
       "</tr>\n",
       "<tr>\n",
       "       <td>Df Model:</td>              <td>8</td>           <td>F-statistic:</td>        <td>391.7</td>  \n",
       "</tr>\n",
       "<tr>\n",
       "     <td>Df Residuals:</td>          <td>1061</td>       <td>Prob (F-statistic):</td>  <td>2.11e-310</td>\n",
       "</tr>\n",
       "<tr>\n",
       "      <td>R-squared:</td>            <td>0.747</td>            <td>Scale:</td>        <td>3.7273e+07</td>\n",
       "</tr>\n",
       "</table>\n",
       "<table class=\"simpletable\">\n",
       "<tr>\n",
       "          <td></td>            <th>Coef.</th>    <th>Std.Err.</th>      <th>t</th>     <th>P>|t|</th>   <th>[0.025</th>      <th>0.975]</th>  \n",
       "</tr>\n",
       "<tr>\n",
       "  <th>const</th>            <td>-11313.7596</td> <td>1127.9646</td> <td>-10.0302</td> <td>0.0000</td> <td>-13527.0544</td> <td>-9100.4648</td>\n",
       "</tr>\n",
       "<tr>\n",
       "  <th>age</th>               <td>254.5564</td>    <td>13.3684</td>   <td>19.0416</td> <td>0.0000</td>  <td>228.3248</td>    <td>280.7879</td> \n",
       "</tr>\n",
       "<tr>\n",
       "  <th>sex</th>                <td>70.1087</td>   <td>376.7069</td>   <td>0.1861</td>  <td>0.8524</td>  <td>-669.0666</td>   <td>809.2839</td> \n",
       "</tr>\n",
       "<tr>\n",
       "  <th>bmi</th>               <td>313.2344</td>    <td>32.3448</td>   <td>9.6842</td>  <td>0.0000</td>  <td>249.7674</td>    <td>376.7014</td> \n",
       "</tr>\n",
       "<tr>\n",
       "  <th>children</th>          <td>432.1599</td>   <td>154.0986</td>   <td>2.8044</td>  <td>0.0051</td>  <td>129.7873</td>    <td>734.5326</td> \n",
       "</tr>\n",
       "<tr>\n",
       "  <th>smoker</th>           <td>23984.5162</td>  <td>470.2144</td>   <td>51.0076</td> <td>0.0000</td> <td>23061.8605</td>  <td>24907.1720</td>\n",
       "</tr>\n",
       "<tr>\n",
       "  <th>region_northwest</th>  <td>-42.4843</td>   <td>530.2868</td>   <td>-0.0801</td> <td>0.9362</td> <td>-1083.0144</td>   <td>998.0458</td> \n",
       "</tr>\n",
       "<tr>\n",
       "  <th>region_southeast</th>  <td>-914.7633</td>  <td>540.3832</td>   <td>-1.6928</td> <td>0.0908</td> <td>-1975.1044</td>   <td>145.5779</td> \n",
       "</tr>\n",
       "<tr>\n",
       "  <th>region_southwest</th>  <td>-623.4325</td>  <td>537.3545</td>   <td>-1.1602</td> <td>0.2462</td> <td>-1677.8308</td>   <td>430.9657</td> \n",
       "</tr>\n",
       "</table>\n",
       "<table class=\"simpletable\">\n",
       "<tr>\n",
       "     <td>Omnibus:</td>    <td>269.759</td>  <td>Durbin-Watson:</td>    <td>2.006</td> \n",
       "</tr>\n",
       "<tr>\n",
       "  <td>Prob(Omnibus):</td>  <td>0.000</td>  <td>Jarque-Bera (JB):</td> <td>710.565</td>\n",
       "</tr>\n",
       "<tr>\n",
       "       <td>Skew:</td>      <td>1.303</td>      <td>Prob(JB):</td>      <td>0.000</td> \n",
       "</tr>\n",
       "<tr>\n",
       "     <td>Kurtosis:</td>    <td>6.024</td>   <td>Condition No.:</td>     <td>316</td>  \n",
       "</tr>\n",
       "</table>"
      ],
      "text/plain": [
       "<class 'statsmodels.iolib.summary2.Summary'>\n",
       "\"\"\"\n",
       "                       Results: Ordinary least squares\n",
       "=============================================================================\n",
       "Model:                  OLS                 Adj. R-squared:        0.745     \n",
       "Dependent Variable:     charges             AIC:                   21699.6385\n",
       "Date:                   2022-05-13 14:46    BIC:                   21744.4172\n",
       "No. Observations:       1070                Log-Likelihood:        -10841.   \n",
       "Df Model:               8                   F-statistic:           391.7     \n",
       "Df Residuals:           1061                Prob (F-statistic):    2.11e-310 \n",
       "R-squared:              0.747               Scale:                 3.7273e+07\n",
       "-----------------------------------------------------------------------------\n",
       "                    Coef.     Std.Err.    t     P>|t|     [0.025     0.975]  \n",
       "-----------------------------------------------------------------------------\n",
       "const            -11313.7596 1127.9646 -10.0302 0.0000 -13527.0544 -9100.4648\n",
       "age                 254.5564   13.3684  19.0416 0.0000    228.3248   280.7879\n",
       "sex                  70.1087  376.7069   0.1861 0.8524   -669.0666   809.2839\n",
       "bmi                 313.2344   32.3448   9.6842 0.0000    249.7674   376.7014\n",
       "children            432.1599  154.0986   2.8044 0.0051    129.7873   734.5326\n",
       "smoker            23984.5162  470.2144  51.0076 0.0000  23061.8605 24907.1720\n",
       "region_northwest    -42.4843  530.2868  -0.0801 0.9362  -1083.0144   998.0458\n",
       "region_southeast   -914.7633  540.3832  -1.6928 0.0908  -1975.1044   145.5779\n",
       "region_southwest   -623.4325  537.3545  -1.1602 0.2462  -1677.8308   430.9657\n",
       "-----------------------------------------------------------------------------\n",
       "Omnibus:                  269.759          Durbin-Watson:             2.006  \n",
       "Prob(Omnibus):            0.000            Jarque-Bera (JB):          710.565\n",
       "Skew:                     1.303            Prob(JB):                  0.000  \n",
       "Kurtosis:                 6.024            Condition No.:             316    \n",
       "=============================================================================\n",
       "\n",
       "\"\"\""
      ]
     },
     "execution_count": 20,
     "metadata": {},
     "output_type": "execute_result"
    }
   ],
   "source": [
    "model_1.summary2()"
   ]
  },
  {
   "cell_type": "markdown",
   "id": "429ff9ec",
   "metadata": {},
   "source": [
    "**FIRST STEPS IN THE MODEL VALIDATION**\n",
    "<br>We have created our first model. Now we need to understand the results let us see what each of these results mean and what will be our first steps.\n",
    "\n",
    "<img src=\"Images/Linear_Regression Result.jpeg\" width=\"800\">"
   ]
  },
  {
   "cell_type": "markdown",
   "id": "10fd66aa",
   "metadata": {},
   "source": [
    "Our primary focus here will be the middle table (elements in Purple Color). Remaining elements are as follows:\n",
    "- Yellow & Blue Elements: These are the discription of the model\n",
    "- Red Elements: Most critical and are used for the goodness of the model. How well the model predicts\n",
    "- Black Elements: Are used to test how well the model follows statistical assumptions of OLS (Ordinary Least Square)\n",
    "- Purple Elements: Used to decide the Independent Variables which are used for the model\n",
    "\n",
    "**Selection of most important features**:\n",
    "While selecting the features of the models we perform a simple Hypothesis Test:\n",
    "<br><center>$H_0: \\beta_i = 0$</center>\n",
    "<br><center>$H_1: \\beta_i \\neq 0$</center>\n",
    "\n",
    "<br>If you remember the premise of hypothesis testing when p-value < 0.05 then we reject the null hypothesis at a significance level of 5%. Now this means if any of the variable has P-Value < 0.05 means as per above test its cooeficient is **NOT EQUAL** to Zero and therefore should feature in our testing framework. Similarly if any variable has P-Value > 0.05 we can conclude that the coefficient for that variable is Zero and therefore can be excluded. \n",
    "\n",
    "We choose the variable with highest P-value remove it and then see the impact on the model and then choose the next highest P-Value variable (in the new Model) and contiue doing it till all the variables have P-Value < 0.05. \n",
    "\n",
    "This is called **BACKWARD ELIMINATION**\n",
    "\n",
    "Here we see P-Value associated with ```region North-west``` is the highest we remove that variable and run the model again. "
   ]
  },
  {
   "cell_type": "code",
   "execution_count": 21,
   "id": "2d5353e5",
   "metadata": {},
   "outputs": [
    {
     "data": {
      "text/html": [
       "<div>\n",
       "<style scoped>\n",
       "    .dataframe tbody tr th:only-of-type {\n",
       "        vertical-align: middle;\n",
       "    }\n",
       "\n",
       "    .dataframe tbody tr th {\n",
       "        vertical-align: top;\n",
       "    }\n",
       "\n",
       "    .dataframe thead th {\n",
       "        text-align: right;\n",
       "    }\n",
       "</style>\n",
       "<table border=\"1\" class=\"dataframe\">\n",
       "  <thead>\n",
       "    <tr style=\"text-align: right;\">\n",
       "      <th></th>\n",
       "      <th>age</th>\n",
       "      <th>sex</th>\n",
       "      <th>bmi</th>\n",
       "      <th>children</th>\n",
       "      <th>smoker</th>\n",
       "      <th>charges</th>\n",
       "      <th>region_southeast</th>\n",
       "      <th>region_southwest</th>\n",
       "    </tr>\n",
       "  </thead>\n",
       "  <tbody>\n",
       "    <tr>\n",
       "      <th>0</th>\n",
       "      <td>19</td>\n",
       "      <td>1</td>\n",
       "      <td>27.900</td>\n",
       "      <td>0</td>\n",
       "      <td>1</td>\n",
       "      <td>16884.92400</td>\n",
       "      <td>0</td>\n",
       "      <td>1</td>\n",
       "    </tr>\n",
       "    <tr>\n",
       "      <th>1</th>\n",
       "      <td>18</td>\n",
       "      <td>0</td>\n",
       "      <td>33.770</td>\n",
       "      <td>1</td>\n",
       "      <td>0</td>\n",
       "      <td>1725.55230</td>\n",
       "      <td>1</td>\n",
       "      <td>0</td>\n",
       "    </tr>\n",
       "    <tr>\n",
       "      <th>2</th>\n",
       "      <td>28</td>\n",
       "      <td>0</td>\n",
       "      <td>33.000</td>\n",
       "      <td>3</td>\n",
       "      <td>0</td>\n",
       "      <td>4449.46200</td>\n",
       "      <td>1</td>\n",
       "      <td>0</td>\n",
       "    </tr>\n",
       "    <tr>\n",
       "      <th>3</th>\n",
       "      <td>33</td>\n",
       "      <td>0</td>\n",
       "      <td>22.705</td>\n",
       "      <td>0</td>\n",
       "      <td>0</td>\n",
       "      <td>21984.47061</td>\n",
       "      <td>0</td>\n",
       "      <td>0</td>\n",
       "    </tr>\n",
       "    <tr>\n",
       "      <th>4</th>\n",
       "      <td>32</td>\n",
       "      <td>0</td>\n",
       "      <td>28.880</td>\n",
       "      <td>0</td>\n",
       "      <td>0</td>\n",
       "      <td>3866.85520</td>\n",
       "      <td>0</td>\n",
       "      <td>0</td>\n",
       "    </tr>\n",
       "  </tbody>\n",
       "</table>\n",
       "</div>"
      ],
      "text/plain": [
       "   age  sex     bmi  children  smoker      charges  region_southeast  \\\n",
       "0   19    1  27.900         0       1  16884.92400                 0   \n",
       "1   18    0  33.770         1       0   1725.55230                 1   \n",
       "2   28    0  33.000         3       0   4449.46200                 1   \n",
       "3   33    0  22.705         0       0  21984.47061                 0   \n",
       "4   32    0  28.880         0       0   3866.85520                 0   \n",
       "\n",
       "   region_southwest  \n",
       "0                 1  \n",
       "1                 0  \n",
       "2                 0  \n",
       "3                 0  \n",
       "4                 0  "
      ]
     },
     "execution_count": 21,
     "metadata": {},
     "output_type": "execute_result"
    }
   ],
   "source": [
    "insurance_cost_revised = insurance_cost_revised.loc[:,insurance_cost_revised.columns != 'region_northwest']\n",
    "insurance_cost_revised.head()"
   ]
  },
  {
   "cell_type": "markdown",
   "id": "0e73a787",
   "metadata": {},
   "source": [
    "Let us do the ordeal of:\n",
    "- Splitting of X_Variables and Y_variables (You can avoid this step by running below steps on X and Y variables but I am intentionally not doing this will explain the same soon)\n",
    "- Adding the constant term\n",
    "- Splitting the data in Test and Train\n",
    "- Running the OLS model \n",
    "\n",
    "<br>AGAIN !!!"
   ]
  },
  {
   "cell_type": "code",
   "execution_count": 22,
   "id": "91b7bf7a",
   "metadata": {},
   "outputs": [
    {
     "name": "stdout",
     "output_type": "stream",
     "text": [
      "       charges\n",
      "0  16884.92400\n",
      "1   1725.55230\n",
      "2   4449.46200\n",
      "3  21984.47061\n",
      "4   3866.85520\n",
      "   const  age  sex     bmi  children  smoker  region_southeast  \\\n",
      "0    1.0   19    1  27.900         0       1                 0   \n",
      "1    1.0   18    0  33.770         1       0                 1   \n",
      "2    1.0   28    0  33.000         3       0                 1   \n",
      "3    1.0   33    0  22.705         0       0                 0   \n",
      "4    1.0   32    0  28.880         0       0                 0   \n",
      "\n",
      "   region_southwest  \n",
      "0                 1  \n",
      "1                 0  \n",
      "2                 0  \n",
      "3                 0  \n",
      "4                 0  \n"
     ]
    }
   ],
   "source": [
    "X_variables = insurance_cost_revised.loc[:,insurance_cost_revised.columns != 'charges']\n",
    "Y_var = pd.DataFrame(insurance_cost_revised['charges'],columns = ['charges'])\n",
    "from sklearn.model_selection import train_test_split\n",
    "import statsmodels.api as sm\n",
    "X_variables = sm.add_constant(X_variables)\n",
    "print(Y_var.head())\n",
    "print(X_variables.head())"
   ]
  },
  {
   "cell_type": "code",
   "execution_count": 23,
   "id": "8e3e6a86",
   "metadata": {},
   "outputs": [],
   "source": [
    "train_X, test_X, train_y, test_y = train_test_split(X_variables,Y_var,\n",
    "                                                   train_size = 0.80,\n",
    "                                                   random_state = 121)"
   ]
  },
  {
   "cell_type": "code",
   "execution_count": 24,
   "id": "b178e394",
   "metadata": {},
   "outputs": [
    {
     "data": {
      "text/html": [
       "<table class=\"simpletable\">\n",
       "<tr>\n",
       "        <td>Model:</td>               <td>OLS</td>         <td>Adj. R-squared:</td>      <td>0.745</td>  \n",
       "</tr>\n",
       "<tr>\n",
       "  <td>Dependent Variable:</td>      <td>charges</td>            <td>AIC:</td>         <td>21697.6449</td>\n",
       "</tr>\n",
       "<tr>\n",
       "         <td>Date:</td>        <td>2022-05-13 14:46</td>        <td>BIC:</td>         <td>21737.4482</td>\n",
       "</tr>\n",
       "<tr>\n",
       "   <td>No. Observations:</td>        <td>1070</td>         <td>Log-Likelihood:</td>     <td>-10841.</td> \n",
       "</tr>\n",
       "<tr>\n",
       "       <td>Df Model:</td>              <td>7</td>           <td>F-statistic:</td>        <td>448.1</td>  \n",
       "</tr>\n",
       "<tr>\n",
       "     <td>Df Residuals:</td>          <td>1062</td>       <td>Prob (F-statistic):</td>  <td>9.64e-312</td>\n",
       "</tr>\n",
       "<tr>\n",
       "      <td>R-squared:</td>            <td>0.747</td>            <td>Scale:</td>        <td>3.7238e+07</td>\n",
       "</tr>\n",
       "</table>\n",
       "<table class=\"simpletable\">\n",
       "<tr>\n",
       "          <td></td>            <th>Coef.</th>    <th>Std.Err.</th>      <th>t</th>     <th>P>|t|</th>   <th>[0.025</th>      <th>0.975]</th>  \n",
       "</tr>\n",
       "<tr>\n",
       "  <th>const</th>            <td>-11334.0130</td> <td>1098.7561</td> <td>-10.3153</td> <td>0.0000</td> <td>-13489.9924</td> <td>-9178.0336</td>\n",
       "</tr>\n",
       "<tr>\n",
       "  <th>age</th>               <td>254.5494</td>    <td>13.3619</td>   <td>19.0504</td> <td>0.0000</td>  <td>228.3307</td>    <td>280.7680</td> \n",
       "</tr>\n",
       "<tr>\n",
       "  <th>sex</th>                <td>69.0839</td>   <td>376.3135</td>   <td>0.1836</td>  <td>0.8544</td>  <td>-669.3187</td>   <td>807.4864</td> \n",
       "</tr>\n",
       "<tr>\n",
       "  <th>bmi</th>               <td>313.2487</td>    <td>32.3292</td>   <td>9.6894</td>  <td>0.0000</td>  <td>249.8124</td>    <td>376.6850</td> \n",
       "</tr>\n",
       "<tr>\n",
       "  <th>children</th>          <td>431.4552</td>   <td>153.7753</td>   <td>2.8058</td>  <td>0.0051</td>  <td>129.7172</td>    <td>733.1932</td> \n",
       "</tr>\n",
       "<tr>\n",
       "  <th>smoker</th>           <td>23985.5171</td>  <td>469.8285</td>   <td>51.0516</td> <td>0.0000</td> <td>23063.6196</td>  <td>24907.4146</td>\n",
       "</tr>\n",
       "<tr>\n",
       "  <th>region_southeast</th>  <td>-893.7392</td>  <td>472.1656</td>   <td>-1.8929</td> <td>0.0586</td> <td>-1820.2227</td>    <td>32.7443</td> \n",
       "</tr>\n",
       "<tr>\n",
       "  <th>region_southwest</th>  <td>-602.1868</td>  <td>467.1408</td>   <td>-1.2891</td> <td>0.1976</td> <td>-1518.8107</td>   <td>314.4371</td> \n",
       "</tr>\n",
       "</table>\n",
       "<table class=\"simpletable\">\n",
       "<tr>\n",
       "     <td>Omnibus:</td>    <td>269.667</td>  <td>Durbin-Watson:</td>    <td>2.006</td> \n",
       "</tr>\n",
       "<tr>\n",
       "  <td>Prob(Omnibus):</td>  <td>0.000</td>  <td>Jarque-Bera (JB):</td> <td>710.009</td>\n",
       "</tr>\n",
       "<tr>\n",
       "       <td>Skew:</td>      <td>1.303</td>      <td>Prob(JB):</td>      <td>0.000</td> \n",
       "</tr>\n",
       "<tr>\n",
       "     <td>Kurtosis:</td>    <td>6.023</td>   <td>Condition No.:</td>     <td>305</td>  \n",
       "</tr>\n",
       "</table>"
      ],
      "text/plain": [
       "<class 'statsmodels.iolib.summary2.Summary'>\n",
       "\"\"\"\n",
       "                       Results: Ordinary least squares\n",
       "=============================================================================\n",
       "Model:                  OLS                 Adj. R-squared:        0.745     \n",
       "Dependent Variable:     charges             AIC:                   21697.6449\n",
       "Date:                   2022-05-13 14:46    BIC:                   21737.4482\n",
       "No. Observations:       1070                Log-Likelihood:        -10841.   \n",
       "Df Model:               7                   F-statistic:           448.1     \n",
       "Df Residuals:           1062                Prob (F-statistic):    9.64e-312 \n",
       "R-squared:              0.747               Scale:                 3.7238e+07\n",
       "-----------------------------------------------------------------------------\n",
       "                    Coef.     Std.Err.    t     P>|t|     [0.025     0.975]  \n",
       "-----------------------------------------------------------------------------\n",
       "const            -11334.0130 1098.7561 -10.3153 0.0000 -13489.9924 -9178.0336\n",
       "age                 254.5494   13.3619  19.0504 0.0000    228.3307   280.7680\n",
       "sex                  69.0839  376.3135   0.1836 0.8544   -669.3187   807.4864\n",
       "bmi                 313.2487   32.3292   9.6894 0.0000    249.8124   376.6850\n",
       "children            431.4552  153.7753   2.8058 0.0051    129.7172   733.1932\n",
       "smoker            23985.5171  469.8285  51.0516 0.0000  23063.6196 24907.4146\n",
       "region_southeast   -893.7392  472.1656  -1.8929 0.0586  -1820.2227    32.7443\n",
       "region_southwest   -602.1868  467.1408  -1.2891 0.1976  -1518.8107   314.4371\n",
       "-----------------------------------------------------------------------------\n",
       "Omnibus:                  269.667          Durbin-Watson:             2.006  \n",
       "Prob(Omnibus):            0.000            Jarque-Bera (JB):          710.009\n",
       "Skew:                     1.303            Prob(JB):                  0.000  \n",
       "Kurtosis:                 6.023            Condition No.:             305    \n",
       "=============================================================================\n",
       "\n",
       "\"\"\""
      ]
     },
     "execution_count": 24,
     "metadata": {},
     "output_type": "execute_result"
    }
   ],
   "source": [
    "model_2 = sm.OLS(train_y,train_X).fit()\n",
    "model_2.summary2()"
   ]
  },
  {
   "cell_type": "markdown",
   "id": "39a773cb",
   "metadata": {},
   "source": [
    "There is a very little change in the model now let us run the model with removal of ```sex``` variable as that has the highest P-value. We will do the entire thing in one go instead of separate segments of the codes. Remember our ```insurance_cost_revised``` doesn't have ```region_northwest``` anymore as we had removed it in the first step. "
   ]
  },
  {
   "cell_type": "code",
   "execution_count": 25,
   "id": "bd0cda05",
   "metadata": {},
   "outputs": [
    {
     "name": "stdout",
     "output_type": "stream",
     "text": [
      "   age     bmi  children  smoker      charges  region_southeast  \\\n",
      "0   19  27.900         0       1  16884.92400                 0   \n",
      "1   18  33.770         1       0   1725.55230                 1   \n",
      "2   28  33.000         3       0   4449.46200                 1   \n",
      "3   33  22.705         0       0  21984.47061                 0   \n",
      "4   32  28.880         0       0   3866.85520                 0   \n",
      "\n",
      "   region_southwest  \n",
      "0                 1  \n",
      "1                 0  \n",
      "2                 0  \n",
      "3                 0  \n",
      "4                 0  \n",
      "       charges\n",
      "0  16884.92400\n",
      "1   1725.55230\n",
      "2   4449.46200\n",
      "3  21984.47061\n",
      "4   3866.85520\n",
      "   const  age     bmi  children  smoker  region_southeast  region_southwest\n",
      "0    1.0   19  27.900         0       1                 0                 1\n",
      "1    1.0   18  33.770         1       0                 1                 0\n",
      "2    1.0   28  33.000         3       0                 1                 0\n",
      "3    1.0   33  22.705         0       0                 0                 0\n",
      "4    1.0   32  28.880         0       0                 0                 0\n"
     ]
    },
    {
     "data": {
      "text/html": [
       "<table class=\"simpletable\">\n",
       "<tr>\n",
       "        <td>Model:</td>               <td>OLS</td>         <td>Adj. R-squared:</td>      <td>0.746</td>  \n",
       "</tr>\n",
       "<tr>\n",
       "  <td>Dependent Variable:</td>      <td>charges</td>            <td>AIC:</td>         <td>21695.6789</td>\n",
       "</tr>\n",
       "<tr>\n",
       "         <td>Date:</td>        <td>2022-05-13 14:46</td>        <td>BIC:</td>         <td>21730.5068</td>\n",
       "</tr>\n",
       "<tr>\n",
       "   <td>No. Observations:</td>        <td>1070</td>         <td>Log-Likelihood:</td>     <td>-10841.</td> \n",
       "</tr>\n",
       "<tr>\n",
       "       <td>Df Model:</td>              <td>6</td>           <td>F-statistic:</td>        <td>523.2</td>  \n",
       "</tr>\n",
       "<tr>\n",
       "     <td>Df Residuals:</td>          <td>1063</td>       <td>Prob (F-statistic):</td>  <td>4.11e-313</td>\n",
       "</tr>\n",
       "<tr>\n",
       "      <td>R-squared:</td>            <td>0.747</td>            <td>Scale:</td>        <td>3.7204e+07</td>\n",
       "</tr>\n",
       "</table>\n",
       "<table class=\"simpletable\">\n",
       "<tr>\n",
       "          <td></td>            <th>Coef.</th>    <th>Std.Err.</th>      <th>t</th>     <th>P>|t|</th>   <th>[0.025</th>      <th>0.975]</th>  \n",
       "</tr>\n",
       "<tr>\n",
       "  <th>const</th>            <td>-11288.2285</td> <td>1069.5911</td> <td>-10.5538</td> <td>0.0000</td> <td>-13386.9782</td> <td>-9189.4789</td>\n",
       "</tr>\n",
       "<tr>\n",
       "  <th>age</th>               <td>254.6333</td>    <td>13.3480</td>   <td>19.0765</td> <td>0.0000</td>  <td>228.4419</td>    <td>280.8247</td> \n",
       "</tr>\n",
       "<tr>\n",
       "  <th>bmi</th>               <td>312.8154</td>    <td>32.2282</td>   <td>9.7063</td>  <td>0.0000</td>  <td>249.5772</td>    <td>376.0536</td> \n",
       "</tr>\n",
       "<tr>\n",
       "  <th>children</th>          <td>430.7366</td>   <td>153.6556</td>   <td>2.8033</td>  <td>0.0052</td>  <td>129.2338</td>    <td>732.2393</td> \n",
       "</tr>\n",
       "<tr>\n",
       "  <th>smoker</th>           <td>23976.8888</td>  <td>467.2592</td>   <td>51.3139</td> <td>0.0000</td> <td>23060.0337</td>  <td>24893.7439</td>\n",
       "</tr>\n",
       "<tr>\n",
       "  <th>region_southeast</th>  <td>-891.8638</td>  <td>471.8405</td>   <td>-1.8902</td> <td>0.0590</td> <td>-1817.7083</td>    <td>33.9808</td> \n",
       "</tr>\n",
       "<tr>\n",
       "  <th>region_southwest</th>  <td>-601.9816</td>  <td>466.9271</td>   <td>-1.2892</td> <td>0.1976</td> <td>-1518.1852</td>   <td>314.2220</td> \n",
       "</tr>\n",
       "</table>\n",
       "<table class=\"simpletable\">\n",
       "<tr>\n",
       "     <td>Omnibus:</td>    <td>269.727</td>  <td>Durbin-Watson:</td>    <td>2.006</td> \n",
       "</tr>\n",
       "<tr>\n",
       "  <td>Prob(Omnibus):</td>  <td>0.000</td>  <td>Jarque-Bera (JB):</td> <td>710.349</td>\n",
       "</tr>\n",
       "<tr>\n",
       "       <td>Skew:</td>      <td>1.303</td>      <td>Prob(JB):</td>      <td>0.000</td> \n",
       "</tr>\n",
       "<tr>\n",
       "     <td>Kurtosis:</td>    <td>6.024</td>   <td>Condition No.:</td>     <td>296</td>  \n",
       "</tr>\n",
       "</table>"
      ],
      "text/plain": [
       "<class 'statsmodels.iolib.summary2.Summary'>\n",
       "\"\"\"\n",
       "                       Results: Ordinary least squares\n",
       "=============================================================================\n",
       "Model:                  OLS                 Adj. R-squared:        0.746     \n",
       "Dependent Variable:     charges             AIC:                   21695.6789\n",
       "Date:                   2022-05-13 14:46    BIC:                   21730.5068\n",
       "No. Observations:       1070                Log-Likelihood:        -10841.   \n",
       "Df Model:               6                   F-statistic:           523.2     \n",
       "Df Residuals:           1063                Prob (F-statistic):    4.11e-313 \n",
       "R-squared:              0.747               Scale:                 3.7204e+07\n",
       "-----------------------------------------------------------------------------\n",
       "                    Coef.     Std.Err.    t     P>|t|     [0.025     0.975]  \n",
       "-----------------------------------------------------------------------------\n",
       "const            -11288.2285 1069.5911 -10.5538 0.0000 -13386.9782 -9189.4789\n",
       "age                 254.6333   13.3480  19.0765 0.0000    228.4419   280.8247\n",
       "bmi                 312.8154   32.2282   9.7063 0.0000    249.5772   376.0536\n",
       "children            430.7366  153.6556   2.8033 0.0052    129.2338   732.2393\n",
       "smoker            23976.8888  467.2592  51.3139 0.0000  23060.0337 24893.7439\n",
       "region_southeast   -891.8638  471.8405  -1.8902 0.0590  -1817.7083    33.9808\n",
       "region_southwest   -601.9816  466.9271  -1.2892 0.1976  -1518.1852   314.2220\n",
       "-----------------------------------------------------------------------------\n",
       "Omnibus:                  269.727          Durbin-Watson:             2.006  \n",
       "Prob(Omnibus):            0.000            Jarque-Bera (JB):          710.349\n",
       "Skew:                     1.303            Prob(JB):                  0.000  \n",
       "Kurtosis:                 6.024            Condition No.:             296    \n",
       "=============================================================================\n",
       "\n",
       "\"\"\""
      ]
     },
     "execution_count": 25,
     "metadata": {},
     "output_type": "execute_result"
    }
   ],
   "source": [
    "#Removing the sex variable\n",
    "insurance_cost_revised = insurance_cost_revised.loc[:,insurance_cost_revised.columns != 'sex']\n",
    "print(insurance_cost_revised.head())\n",
    "\n",
    "#Splitting of X and Y variables\n",
    "X_variables = insurance_cost_revised.loc[:,insurance_cost_revised.columns != 'charges']\n",
    "Y_var = pd.DataFrame(insurance_cost_revised['charges'],columns = ['charges'])\n",
    "from sklearn.model_selection import train_test_split\n",
    "import statsmodels.api as sm\n",
    "X_variables = sm.add_constant(X_variables)\n",
    "print(Y_var.head())\n",
    "print(X_variables.head())\n",
    "\n",
    "#Splitting of test and train cases\n",
    "train_X, test_X, train_y, test_y = train_test_split(X_variables,Y_var,\n",
    "                                                   train_size = 0.80,\n",
    "                                                   random_state = 121)\n",
    "#Running the model\n",
    "model_3 = sm.OLS(train_y,train_X).fit()\n",
    "model_3.summary2()"
   ]
  },
  {
   "cell_type": "markdown",
   "id": "2b50a928",
   "metadata": {},
   "source": [
    "We see a small improvement in ```adjusted R-squared``` from 0.745 to 0.746. Let us repeat the above steps for the last variable with P > 0.05 which is ```region_southwest``` and run the model"
   ]
  },
  {
   "cell_type": "code",
   "execution_count": 26,
   "id": "ab228e46",
   "metadata": {},
   "outputs": [
    {
     "name": "stdout",
     "output_type": "stream",
     "text": [
      "   age     bmi  children  smoker      charges  region_southeast\n",
      "0   19  27.900         0       1  16884.92400                 0\n",
      "1   18  33.770         1       0   1725.55230                 1\n",
      "2   28  33.000         3       0   4449.46200                 1\n",
      "3   33  22.705         0       0  21984.47061                 0\n",
      "4   32  28.880         0       0   3866.85520                 0\n",
      "       charges\n",
      "0  16884.92400\n",
      "1   1725.55230\n",
      "2   4449.46200\n",
      "3  21984.47061\n",
      "4   3866.85520\n",
      "   const  age     bmi  children  smoker  region_southeast\n",
      "0    1.0   19  27.900         0       1                 0\n",
      "1    1.0   18  33.770         1       0                 1\n",
      "2    1.0   28  33.000         3       0                 1\n",
      "3    1.0   33  22.705         0       0                 0\n",
      "4    1.0   32  28.880         0       0                 0\n"
     ]
    },
    {
     "data": {
      "text/html": [
       "<table class=\"simpletable\">\n",
       "<tr>\n",
       "        <td>Model:</td>               <td>OLS</td>         <td>Adj. R-squared:</td>      <td>0.745</td>  \n",
       "</tr>\n",
       "<tr>\n",
       "  <td>Dependent Variable:</td>      <td>charges</td>            <td>AIC:</td>         <td>21695.3507</td>\n",
       "</tr>\n",
       "<tr>\n",
       "         <td>Date:</td>        <td>2022-05-13 14:46</td>        <td>BIC:</td>         <td>21725.2031</td>\n",
       "</tr>\n",
       "<tr>\n",
       "   <td>No. Observations:</td>        <td>1070</td>         <td>Log-Likelihood:</td>     <td>-10842.</td> \n",
       "</tr>\n",
       "<tr>\n",
       "       <td>Df Model:</td>              <td>5</td>           <td>F-statistic:</td>        <td>627.2</td>  \n",
       "</tr>\n",
       "<tr>\n",
       "     <td>Df Residuals:</td>          <td>1064</td>       <td>Prob (F-statistic):</td>  <td>3.57e-314</td>\n",
       "</tr>\n",
       "<tr>\n",
       "      <td>R-squared:</td>            <td>0.747</td>            <td>Scale:</td>        <td>3.7228e+07</td>\n",
       "</tr>\n",
       "</table>\n",
       "<table class=\"simpletable\">\n",
       "<tr>\n",
       "          <td></td>            <th>Coef.</th>    <th>Std.Err.</th>      <th>t</th>     <th>P>|t|</th>   <th>[0.025</th>      <th>0.975]</th>  \n",
       "</tr>\n",
       "<tr>\n",
       "  <th>const</th>            <td>-11383.4991</td> <td>1067.3673</td> <td>-10.6650</td> <td>0.0000</td> <td>-13477.8830</td> <td>-9289.1152</td>\n",
       "</tr>\n",
       "<tr>\n",
       "  <th>age</th>               <td>254.8892</td>    <td>13.3507</td>   <td>19.0919</td> <td>0.0000</td>  <td>228.6926</td>    <td>281.0858</td> \n",
       "</tr>\n",
       "<tr>\n",
       "  <th>bmi</th>               <td>309.3159</td>    <td>32.1237</td>   <td>9.6289</td>  <td>0.0000</td>  <td>246.2829</td>    <td>372.3489</td> \n",
       "</tr>\n",
       "<tr>\n",
       "  <th>children</th>          <td>425.4367</td>   <td>153.6484</td>   <td>2.7689</td>  <td>0.0057</td>  <td>123.9484</td>    <td>726.9250</td> \n",
       "</tr>\n",
       "<tr>\n",
       "  <th>smoker</th>           <td>23979.1108</td>  <td>467.4014</td>   <td>51.3030</td> <td>0.0000</td> <td>23061.9777</td>  <td>24896.2439</td>\n",
       "</tr>\n",
       "<tr>\n",
       "  <th>region_southeast</th>  <td>-684.2384</td>  <td>443.6445</td>   <td>-1.5423</td> <td>0.1233</td> <td>-1554.7559</td>   <td>186.2791</td> \n",
       "</tr>\n",
       "</table>\n",
       "<table class=\"simpletable\">\n",
       "<tr>\n",
       "     <td>Omnibus:</td>    <td>271.435</td>  <td>Durbin-Watson:</td>    <td>2.008</td> \n",
       "</tr>\n",
       "<tr>\n",
       "  <td>Prob(Omnibus):</td>  <td>0.000</td>  <td>Jarque-Bera (JB):</td> <td>717.527</td>\n",
       "</tr>\n",
       "<tr>\n",
       "       <td>Skew:</td>      <td>1.310</td>      <td>Prob(JB):</td>      <td>0.000</td> \n",
       "</tr>\n",
       "<tr>\n",
       "     <td>Kurtosis:</td>    <td>6.039</td>   <td>Condition No.:</td>     <td>295</td>  \n",
       "</tr>\n",
       "</table>"
      ],
      "text/plain": [
       "<class 'statsmodels.iolib.summary2.Summary'>\n",
       "\"\"\"\n",
       "                       Results: Ordinary least squares\n",
       "=============================================================================\n",
       "Model:                  OLS                 Adj. R-squared:        0.745     \n",
       "Dependent Variable:     charges             AIC:                   21695.3507\n",
       "Date:                   2022-05-13 14:46    BIC:                   21725.2031\n",
       "No. Observations:       1070                Log-Likelihood:        -10842.   \n",
       "Df Model:               5                   F-statistic:           627.2     \n",
       "Df Residuals:           1064                Prob (F-statistic):    3.57e-314 \n",
       "R-squared:              0.747               Scale:                 3.7228e+07\n",
       "-----------------------------------------------------------------------------\n",
       "                    Coef.     Std.Err.    t     P>|t|     [0.025     0.975]  \n",
       "-----------------------------------------------------------------------------\n",
       "const            -11383.4991 1067.3673 -10.6650 0.0000 -13477.8830 -9289.1152\n",
       "age                 254.8892   13.3507  19.0919 0.0000    228.6926   281.0858\n",
       "bmi                 309.3159   32.1237   9.6289 0.0000    246.2829   372.3489\n",
       "children            425.4367  153.6484   2.7689 0.0057    123.9484   726.9250\n",
       "smoker            23979.1108  467.4014  51.3030 0.0000  23061.9777 24896.2439\n",
       "region_southeast   -684.2384  443.6445  -1.5423 0.1233  -1554.7559   186.2791\n",
       "-----------------------------------------------------------------------------\n",
       "Omnibus:                  271.435          Durbin-Watson:             2.008  \n",
       "Prob(Omnibus):            0.000            Jarque-Bera (JB):          717.527\n",
       "Skew:                     1.310            Prob(JB):                  0.000  \n",
       "Kurtosis:                 6.039            Condition No.:             295    \n",
       "=============================================================================\n",
       "\n",
       "\"\"\""
      ]
     },
     "execution_count": 26,
     "metadata": {},
     "output_type": "execute_result"
    }
   ],
   "source": [
    "#Removing the region_southwest variable\n",
    "insurance_cost_revised = insurance_cost_revised.loc[:,insurance_cost_revised.columns != 'region_southwest']\n",
    "print(insurance_cost_revised.head())\n",
    "\n",
    "#Splitting of X and Y variables\n",
    "X_variables = insurance_cost_revised.loc[:,insurance_cost_revised.columns != 'charges']\n",
    "Y_var = pd.DataFrame(insurance_cost_revised['charges'],columns = ['charges'])\n",
    "from sklearn.model_selection import train_test_split\n",
    "import statsmodels.api as sm\n",
    "X_variables = sm.add_constant(X_variables)\n",
    "print(Y_var.head())\n",
    "print(X_variables.head())\n",
    "\n",
    "#Splitting of test and train cases\n",
    "train_X, test_X, train_y, test_y = train_test_split(X_variables,Y_var,\n",
    "                                                   train_size = 0.80,\n",
    "                                                   random_state = 121)\n",
    "#Running the model\n",
    "model_4 = sm.OLS(train_y,train_X).fit()\n",
    "model_4.summary2()"
   ]
  },
  {
   "cell_type": "markdown",
   "id": "d3ee7e52",
   "metadata": {},
   "source": [
    "Now we see an interesting issue our ```adjusted R-squared``` has dropped and we get one more variable ```region_southeast``` as a variable with P > 0.05. Let us do all the steps again. Post removal of variable ```region_southeast```"
   ]
  },
  {
   "cell_type": "code",
   "execution_count": 27,
   "id": "90881a79",
   "metadata": {},
   "outputs": [
    {
     "name": "stdout",
     "output_type": "stream",
     "text": [
      "   age     bmi  children  smoker      charges\n",
      "0   19  27.900         0       1  16884.92400\n",
      "1   18  33.770         1       0   1725.55230\n",
      "2   28  33.000         3       0   4449.46200\n",
      "3   33  22.705         0       0  21984.47061\n",
      "4   32  28.880         0       0   3866.85520\n",
      "       charges\n",
      "0  16884.92400\n",
      "1   1725.55230\n",
      "2   4449.46200\n",
      "3  21984.47061\n",
      "4   3866.85520\n",
      "   const  age     bmi  children  smoker\n",
      "0    1.0   19  27.900         0       1\n",
      "1    1.0   18  33.770         1       0\n",
      "2    1.0   28  33.000         3       0\n",
      "3    1.0   33  22.705         0       0\n",
      "4    1.0   32  28.880         0       0\n"
     ]
    },
    {
     "data": {
      "text/html": [
       "<table class=\"simpletable\">\n",
       "<tr>\n",
       "        <td>Model:</td>               <td>OLS</td>         <td>Adj. R-squared:</td>      <td>0.745</td>  \n",
       "</tr>\n",
       "<tr>\n",
       "  <td>Dependent Variable:</td>      <td>charges</td>            <td>AIC:</td>         <td>21695.7401</td>\n",
       "</tr>\n",
       "<tr>\n",
       "         <td>Date:</td>        <td>2022-05-13 14:46</td>        <td>BIC:</td>         <td>21720.6172</td>\n",
       "</tr>\n",
       "<tr>\n",
       "   <td>No. Observations:</td>        <td>1070</td>         <td>Log-Likelihood:</td>     <td>-10843.</td> \n",
       "</tr>\n",
       "<tr>\n",
       "       <td>Df Model:</td>              <td>4</td>           <td>F-statistic:</td>        <td>782.3</td>  \n",
       "</tr>\n",
       "<tr>\n",
       "     <td>Df Residuals:</td>          <td>1065</td>       <td>Prob (F-statistic):</td>  <td>3.93e-315</td>\n",
       "</tr>\n",
       "<tr>\n",
       "      <td>R-squared:</td>            <td>0.746</td>            <td>Scale:</td>        <td>3.7276e+07</td>\n",
       "</tr>\n",
       "</table>\n",
       "<table class=\"simpletable\">\n",
       "<tr>\n",
       "      <td></td>        <th>Coef.</th>    <th>Std.Err.</th>      <th>t</th>     <th>P>|t|</th>   <th>[0.025</th>      <th>0.975]</th>  \n",
       "</tr>\n",
       "<tr>\n",
       "  <th>const</th>    <td>-11146.3650</td> <td>1056.9188</td> <td>-10.5461</td> <td>0.0000</td> <td>-13220.2447</td> <td>-9072.4852</td>\n",
       "</tr>\n",
       "<tr>\n",
       "  <th>age</th>       <td>255.5331</td>    <td>13.3528</td>   <td>19.1371</td> <td>0.0000</td>  <td>229.3324</td>    <td>281.7338</td> \n",
       "</tr>\n",
       "<tr>\n",
       "  <th>bmi</th>       <td>294.9581</td>    <td>30.7651</td>   <td>9.5874</td>  <td>0.0000</td>  <td>234.5909</td>    <td>355.3253</td> \n",
       "</tr>\n",
       "<tr>\n",
       "  <th>children</th>  <td>433.8549</td>   <td>153.6508</td>   <td>2.8236</td>  <td>0.0048</td>  <td>132.3622</td>    <td>735.3475</td> \n",
       "</tr>\n",
       "<tr>\n",
       "  <th>smoker</th>   <td>23915.9110</td>  <td>465.9029</td>   <td>51.3324</td> <td>0.0000</td> <td>23001.7191</td>  <td>24830.1029</td>\n",
       "</tr>\n",
       "</table>\n",
       "<table class=\"simpletable\">\n",
       "<tr>\n",
       "     <td>Omnibus:</td>    <td>270.853</td>  <td>Durbin-Watson:</td>    <td>2.006</td> \n",
       "</tr>\n",
       "<tr>\n",
       "  <td>Prob(Omnibus):</td>  <td>0.000</td>  <td>Jarque-Bera (JB):</td> <td>714.539</td>\n",
       "</tr>\n",
       "<tr>\n",
       "       <td>Skew:</td>      <td>1.308</td>      <td>Prob(JB):</td>      <td>0.000</td> \n",
       "</tr>\n",
       "<tr>\n",
       "     <td>Kurtosis:</td>    <td>6.031</td>   <td>Condition No.:</td>     <td>291</td>  \n",
       "</tr>\n",
       "</table>"
      ],
      "text/plain": [
       "<class 'statsmodels.iolib.summary2.Summary'>\n",
       "\"\"\"\n",
       "                   Results: Ordinary least squares\n",
       "=====================================================================\n",
       "Model:                OLS              Adj. R-squared:     0.745     \n",
       "Dependent Variable:   charges          AIC:                21695.7401\n",
       "Date:                 2022-05-13 14:46 BIC:                21720.6172\n",
       "No. Observations:     1070             Log-Likelihood:     -10843.   \n",
       "Df Model:             4                F-statistic:        782.3     \n",
       "Df Residuals:         1065             Prob (F-statistic): 3.93e-315 \n",
       "R-squared:            0.746            Scale:              3.7276e+07\n",
       "---------------------------------------------------------------------\n",
       "            Coef.     Std.Err.    t     P>|t|     [0.025     0.975]  \n",
       "---------------------------------------------------------------------\n",
       "const    -11146.3650 1056.9188 -10.5461 0.0000 -13220.2447 -9072.4852\n",
       "age         255.5331   13.3528  19.1371 0.0000    229.3324   281.7338\n",
       "bmi         294.9581   30.7651   9.5874 0.0000    234.5909   355.3253\n",
       "children    433.8549  153.6508   2.8236 0.0048    132.3622   735.3475\n",
       "smoker    23915.9110  465.9029  51.3324 0.0000  23001.7191 24830.1029\n",
       "---------------------------------------------------------------------\n",
       "Omnibus:              270.853        Durbin-Watson:           2.006  \n",
       "Prob(Omnibus):        0.000          Jarque-Bera (JB):        714.539\n",
       "Skew:                 1.308          Prob(JB):                0.000  \n",
       "Kurtosis:             6.031          Condition No.:           291    \n",
       "=====================================================================\n",
       "\n",
       "\"\"\""
      ]
     },
     "execution_count": 27,
     "metadata": {},
     "output_type": "execute_result"
    }
   ],
   "source": [
    "insurance_cost_revised = insurance_cost_revised.loc[:,insurance_cost_revised.columns != 'region_southeast']\n",
    "print(insurance_cost_revised.head())\n",
    "\n",
    "\n",
    "X_variables = insurance_cost_revised.loc[:,insurance_cost_revised.columns != 'charges']\n",
    "X_variables = sm.add_constant(X_variables)\n",
    "Y_var = pd.DataFrame(insurance_cost_revised['charges'],columns = ['charges'])\n",
    "print(Y_var.head())\n",
    "print(X_variables.head())\n",
    "\n",
    "train_X,test_X,train_y,test_y = train_test_split(X_variables,\n",
    "                                                Y_var,\n",
    "                                                train_size = 0.80,\n",
    "                                                random_state = 121)\n",
    "\n",
    "model_5 = sm.OLS(train_y,train_X).fit()\n",
    "model_5.summary2()"
   ]
  },
  {
   "cell_type": "markdown",
   "id": "24312bac",
   "metadata": {},
   "source": [
    "Now that we have resolved all the issues pertaining to the P-values of the model and have selected the most important features:\n",
    "- Age\n",
    "- BMI\n",
    "- Children\n",
    "- Smoker\n",
    "\n",
    "#### Evaluation and betterment of the Model from statistical assumption perspective\n",
    "We need to evaluate our model from the perspective of the accuracy of mathematical assumptions of OLS (Ordinary Least Square) method. Some of the checks we will do are:\n",
    "- Normal Distribution of the Residuals (Residuals i.e. Predicted Value - Actual Values should be normally distributed)\n",
    "- Outlier Analysis (How much the dependent variable changes when a particular observation is removed)\n",
    "- Auto Correlation (There is no correlation between independent variables)\n",
    "- Homoscedasticity (Means the variance of error terms is same)\n",
    "\n",
    "We will perform some tests and alter our model as per the results of the test. This will be the final step in our model fine-tuning. "
   ]
  },
  {
   "cell_type": "markdown",
   "id": "bc53e670",
   "metadata": {},
   "source": [
    "##### Normal Distribution of Residuals\n",
    "<br>In the OLS framework it is assumed that the residuals are normally distributed. This emanates from the theory of Central Limit theorem and Hypothesis testing. If the residuals are not normally distributed means the sample taken is **NOT** Random and therefore we cannot use the Hypothesis testing framework to ascertain which variables are important which are not. \n",
    "<br>However, this assumption of Non-Normality need not be very strong an approximate normal distribution of residual variables works in real-world.\n",
    "\n",
    "To check for Normality we do a PP plot of our residuals against a perfect Normal Distribution if the residuals lie along the line of perfect normal plot we can say our residuals are Normal (or near Normal)."
   ]
  },
  {
   "cell_type": "code",
   "execution_count": 28,
   "id": "14c03d49",
   "metadata": {},
   "outputs": [
    {
     "data": {
      "text/plain": [
       "<Figure size 576x432 with 0 Axes>"
      ]
     },
     "metadata": {},
     "output_type": "display_data"
    },
    {
     "data": {
      "image/png": "[encoded data removed]",
      "text/plain": [
       "<Figure size 432x288 with 1 Axes>"
      ]
     },
     "metadata": {
      "needs_background": "light"
     },
     "output_type": "display_data"
    }
   ],
   "source": [
    "import matplotlib.pyplot as plt\n",
    "import seaborn as sns\n",
    "insurance_data_resid = model_5.resid\n",
    "probplot = sm.ProbPlot(insurance_data_resid)\n",
    "plt.figure(figsize = (8,6))\n",
    "probplot.ppplot(line = '45')\n",
    "plt.title('Normal PP Plot of Regression Standardized Residuals')\n",
    "plt.show()"
   ]
  },
  {
   "cell_type": "code",
   "execution_count": 29,
   "id": "f3d4a462",
   "metadata": {},
   "outputs": [
    {
     "data": {
      "image/png": "[encoded data removed]",
      "text/plain": [
       "<Figure size 432x288 with 1 Axes>"
      ]
     },
     "metadata": {
      "needs_background": "light"
     },
     "output_type": "display_data"
    }
   ],
   "source": [
    "insurance_cost_revised['charges'].hist()\n",
    "plt.show()"
   ]
  },
  {
   "cell_type": "markdown",
   "id": "2f877544",
   "metadata": {},
   "source": [
    "We see that the charges variable is pretty skewed so we can convert the variable into log and then try once more."
   ]
  },
  {
   "cell_type": "code",
   "execution_count": 30,
   "id": "d662ac9e",
   "metadata": {},
   "outputs": [
    {
     "data": {
      "image/png": "[encoded data removed]",
      "text/plain": [
       "<Figure size 432x288 with 1 Axes>"
      ]
     },
     "metadata": {
      "needs_background": "light"
     },
     "output_type": "display_data"
    }
   ],
   "source": [
    "Y_var = np.log(Y_var)\n",
    "Y_var.hist()\n",
    "plt.show()"
   ]
  },
  {
   "cell_type": "code",
   "execution_count": 31,
   "id": "7b570172",
   "metadata": {},
   "outputs": [
    {
     "data": {
      "text/html": [
       "<table class=\"simpletable\">\n",
       "<tr>\n",
       "        <td>Model:</td>               <td>OLS</td>         <td>Adj. R-squared:</td>     <td>0.758</td>  \n",
       "</tr>\n",
       "<tr>\n",
       "  <td>Dependent Variable:</td>      <td>charges</td>            <td>AIC:</td>         <td>1334.7357</td>\n",
       "</tr>\n",
       "<tr>\n",
       "         <td>Date:</td>        <td>2022-05-13 14:46</td>        <td>BIC:</td>         <td>1359.6128</td>\n",
       "</tr>\n",
       "<tr>\n",
       "   <td>No. Observations:</td>        <td>1070</td>         <td>Log-Likelihood:</td>    <td>-662.37</td> \n",
       "</tr>\n",
       "<tr>\n",
       "       <td>Df Model:</td>              <td>4</td>           <td>F-statistic:</td>       <td>838.5</td>  \n",
       "</tr>\n",
       "<tr>\n",
       "     <td>Df Residuals:</td>          <td>1065</td>       <td>Prob (F-statistic):</td>   <td>0.00</td>   \n",
       "</tr>\n",
       "<tr>\n",
       "      <td>R-squared:</td>            <td>0.759</td>            <td>Scale:</td>         <td>0.20288</td> \n",
       "</tr>\n",
       "</table>\n",
       "<table class=\"simpletable\">\n",
       "<tr>\n",
       "      <td></td>      <th>Coef.</th> <th>Std.Err.</th>    <th>t</th>     <th>P>|t|</th> <th>[0.025</th> <th>0.975]</th>\n",
       "</tr>\n",
       "<tr>\n",
       "  <th>const</th>    <td>7.0359</td>  <td>0.0780</td>  <td>90.2337</td> <td>0.0000</td> <td>6.8829</td> <td>7.1889</td>\n",
       "</tr>\n",
       "<tr>\n",
       "  <th>age</th>      <td>0.0348</td>  <td>0.0010</td>  <td>35.3491</td> <td>0.0000</td> <td>0.0329</td> <td>0.0368</td>\n",
       "</tr>\n",
       "<tr>\n",
       "  <th>bmi</th>      <td>0.0090</td>  <td>0.0023</td>  <td>3.9727</td>  <td>0.0001</td> <td>0.0046</td> <td>0.0135</td>\n",
       "</tr>\n",
       "<tr>\n",
       "  <th>children</th> <td>0.0968</td>  <td>0.0113</td>  <td>8.5389</td>  <td>0.0000</td> <td>0.0746</td> <td>0.1190</td>\n",
       "</tr>\n",
       "<tr>\n",
       "  <th>smoker</th>   <td>1.5346</td>  <td>0.0344</td>  <td>44.6469</td> <td>0.0000</td> <td>1.4672</td> <td>1.6020</td>\n",
       "</tr>\n",
       "</table>\n",
       "<table class=\"simpletable\">\n",
       "<tr>\n",
       "     <td>Omnibus:</td>    <td>377.945</td>  <td>Durbin-Watson:</td>     <td>1.945</td> \n",
       "</tr>\n",
       "<tr>\n",
       "  <td>Prob(Omnibus):</td>  <td>0.000</td>  <td>Jarque-Bera (JB):</td> <td>1445.955</td>\n",
       "</tr>\n",
       "<tr>\n",
       "       <td>Skew:</td>      <td>1.671</td>      <td>Prob(JB):</td>       <td>0.000</td> \n",
       "</tr>\n",
       "<tr>\n",
       "     <td>Kurtosis:</td>    <td>7.611</td>   <td>Condition No.:</td>      <td>291</td>  \n",
       "</tr>\n",
       "</table>"
      ],
      "text/plain": [
       "<class 'statsmodels.iolib.summary2.Summary'>\n",
       "\"\"\"\n",
       "                 Results: Ordinary least squares\n",
       "==================================================================\n",
       "Model:              OLS              Adj. R-squared:     0.758    \n",
       "Dependent Variable: charges          AIC:                1334.7357\n",
       "Date:               2022-05-13 14:46 BIC:                1359.6128\n",
       "No. Observations:   1070             Log-Likelihood:     -662.37  \n",
       "Df Model:           4                F-statistic:        838.5    \n",
       "Df Residuals:       1065             Prob (F-statistic): 0.00     \n",
       "R-squared:          0.759            Scale:              0.20288  \n",
       "--------------------------------------------------------------------\n",
       "              Coef.    Std.Err.      t      P>|t|    [0.025   0.975]\n",
       "--------------------------------------------------------------------\n",
       "const         7.0359     0.0780   90.2337   0.0000   6.8829   7.1889\n",
       "age           0.0348     0.0010   35.3491   0.0000   0.0329   0.0368\n",
       "bmi           0.0090     0.0023    3.9727   0.0001   0.0046   0.0135\n",
       "children      0.0968     0.0113    8.5389   0.0000   0.0746   0.1190\n",
       "smoker        1.5346     0.0344   44.6469   0.0000   1.4672   1.6020\n",
       "------------------------------------------------------------------\n",
       "Omnibus:              377.945      Durbin-Watson:         1.945   \n",
       "Prob(Omnibus):        0.000        Jarque-Bera (JB):      1445.955\n",
       "Skew:                 1.671        Prob(JB):              0.000   \n",
       "Kurtosis:             7.611        Condition No.:         291     \n",
       "==================================================================\n",
       "\n",
       "\"\"\""
      ]
     },
     "execution_count": 31,
     "metadata": {},
     "output_type": "execute_result"
    }
   ],
   "source": [
    "train_X,test_X,train_y,test_y = train_test_split(X_variables,\n",
    "                                                Y_var,\n",
    "                                                train_size = 0.80,\n",
    "                                                random_state = 121)\n",
    "\n",
    "model_6 = sm.OLS(train_y,train_X).fit()\n",
    "model_6.summary2()"
   ]
  },
  {
   "cell_type": "markdown",
   "id": "0417ae46",
   "metadata": {},
   "source": [
    "This run has not only removed the problem of non-normal residual but has induced following benefits:\n",
    "- Has reduced values of AIC and BIC meaning prediction power of model has improved\n",
    "- Has increased adjusted R-Square from 0.745 in first model to 0.758\n",
    "- Has reduced value of Condition Number which reduced colinearity (although there are other better tests for the same)"
   ]
  },
  {
   "cell_type": "code",
   "execution_count": 32,
   "id": "11062a13",
   "metadata": {},
   "outputs": [
    {
     "data": {
      "text/plain": [
       "<Figure size 576x432 with 0 Axes>"
      ]
     },
     "metadata": {},
     "output_type": "display_data"
    },
    {
     "data": {
      "image/png": "[encoded data removed]",
      "text/plain": [
       "<Figure size 432x288 with 1 Axes>"
      ]
     },
     "metadata": {
      "needs_background": "light"
     },
     "output_type": "display_data"
    }
   ],
   "source": [
    "import matplotlib.pyplot as plt\n",
    "import seaborn as sns\n",
    "insurance_data_resid = model_6.resid\n",
    "probplot = sm.ProbPlot(insurance_data_resid)\n",
    "plt.figure(figsize = (8,6))\n",
    "probplot.ppplot(line = '45')\n",
    "plt.title('Normal PP Plot of Regression Standardized Residuals')\n",
    "plt.show()"
   ]
  },
  {
   "cell_type": "markdown",
   "id": "b8addbbe",
   "metadata": {},
   "source": [
    "We have this a lot better than the original model the residual are almost normally distributed and the adjusted R-squared has improved to 0.758 from 0.745"
   ]
  },
  {
   "cell_type": "code",
   "execution_count": 33,
   "id": "ad169d04",
   "metadata": {},
   "outputs": [
    {
     "data": {
      "text/plain": [
       "<AxesSubplot:>"
      ]
     },
     "execution_count": 33,
     "metadata": {},
     "output_type": "execute_result"
    },
    {
     "data": {
      "image/png": "[encoded data removed]",
      "text/plain": [
       "<Figure size 720x504 with 2 Axes>"
      ]
     },
     "metadata": {
      "needs_background": "light"
     },
     "output_type": "display_data"
    }
   ],
   "source": [
    "plt.figure(figsize = (10,7))\n",
    "sns.heatmap(insurance_cost_revised.corr(),annot = True)"
   ]
  },
  {
   "cell_type": "markdown",
   "id": "5bf253f8",
   "metadata": {},
   "source": [
    "Above chart is to display the correlation with the charges and other numerical variables. As is predicted by our model (highest $\\beta$ value) smoking has the higest correlation with the insurance charges. "
   ]
  },
  {
   "cell_type": "code",
   "execution_count": 34,
   "id": "a25ef4f2",
   "metadata": {},
   "outputs": [
    {
     "name": "stdout",
     "output_type": "stream",
     "text": [
      "R2 Score 0.7735003467233176\n"
     ]
    }
   ],
   "source": [
    "pred = model_6.predict(test_X)\n",
    "from sklearn.metrics import r2_score\n",
    "print(\"R2 Score\",r2_score(test_y,pred))"
   ]
  },
  {
   "cell_type": "markdown",
   "id": "9b95e492",
   "metadata": {},
   "source": [
    "#### Test for Homoscedasticity\n",
    "Homoscedasticity measures the distribution of the residual variables, which means that the variance in residual variables doesn't increase much with the increase in the value of Dependent Variable. This can be done by checking the plot of residuals with fitted variable, if the shape is an inverted funnel means that the variance increases (Hetroscedasticity). \n",
    "<br>Another test for the same is **Durbin Watson** which should be between 1 & 2, we can see the same in the result of summary of our model its value is 1.945. \n",
    "\n",
    "<br>We can remove Hetroscedasticity (opposite of Homoscedasticity) by altering the Independent Variables (taking log or standardizing the variables). We would want the Durbin Watson to be close to Zero and no appearance of inverted funnel.\n",
    "\n",
    "<br>Another test for performing test for Homoscedasticity is the ```white's``` test. "
   ]
  },
  {
   "cell_type": "code",
   "execution_count": 35,
   "id": "cb77ebb0",
   "metadata": {},
   "outputs": [
    {
     "data": {
      "image/png": "[encoded data removed]",
      "text/plain": [
       "<Figure size 432x288 with 1 Axes>"
      ]
     },
     "metadata": {
      "needs_background": "light"
     },
     "output_type": "display_data"
    }
   ],
   "source": [
    "def standardized(vals):\n",
    "    return((vals-vals.mean())/vals.std())\n",
    "\n",
    "plt.scatter(standardized(model_6.fittedvalues),standardized(model_6.resid))\n",
    "plt.xlabel('Fitted Values')\n",
    "plt.ylabel('Residual')\n",
    "plt.show()"
   ]
  },
  {
   "cell_type": "markdown",
   "id": "41953096",
   "metadata": {},
   "source": [
    "We see that there is a clear sign of Hetroscedasticity.However, if we need to further improve we can take following approaches:\n",
    "- Transform the x variable\n",
    "- Transform the y variable (we have already done this when we took the log)\n",
    "\n",
    "<br>We will confirm our assumption of Hetroscedasticity using white's test."
   ]
  },
  {
   "cell_type": "code",
   "execution_count": 38,
   "id": "6d53e7e9",
   "metadata": {},
   "outputs": [
    {
     "name": "stdout",
     "output_type": "stream",
     "text": [
      "                Test Label    Test Value\n",
      "0          Test Statistics  1.149814e+02\n",
      "1  Test Statistics p-Value  1.965648e-18\n",
      "2             F-Statistics  9.779939e+00\n",
      "3           F-Test p-value  1.485640e-19\n"
     ]
    }
   ],
   "source": [
    "from statsmodels.stats.diagnostic import het_white\n",
    "white_test = het_white(model_6.resid,model_6.model.exog)\n",
    "labels = ['Test Statistics','Test Statistics p-Value','F-Statistics','F-Test p-value']\n",
    "#print(dict(zip(labels,white_test)))\n",
    "print(pd.DataFrame(dict(zip(labels,white_test)).items(),columns = ['Test Label','Test Value']))"
   ]
  },
  {
   "cell_type": "markdown",
   "id": "e02f9ba5",
   "metadata": {},
   "source": [
    "In above test both the P-Values are < 0.05 means that we have to reject null hypothesis of Homoscedasticity and therefore there is a presence of Hetroscedasticity. We can attempt to transfer the input variables and see if it causes any benefit. \n",
    "\n",
    "<br>Meanwhile we will also plot our Prediction against the actual Y Values to see the distribution. Also, we can see the value of R-Square from the prediction is 0.773 which is close to the actual model means our model is doing a good work on the actual prediction as well. "
   ]
  },
  {
   "cell_type": "code",
   "execution_count": 40,
   "id": "0a31e1e7",
   "metadata": {},
   "outputs": [
    {
     "name": "stdout",
     "output_type": "stream",
     "text": [
      "R2 Score 0.7735003467233176\n"
     ]
    },
    {
     "data": {
      "image/png": "[encoded data removed]",
      "text/plain": [
       "<Figure size 432x288 with 1 Axes>"
      ]
     },
     "metadata": {
      "needs_background": "light"
     },
     "output_type": "display_data"
    }
   ],
   "source": [
    "pred = model_6.predict(test_X)\n",
    "from sklearn.metrics import r2_score\n",
    "print(\"R2 Score\",r2_score(test_y,pred))\n",
    "plt.scatter(test_y,pred)\n",
    "plt.xlabel('Y_Test')\n",
    "plt.ylabel('Y_Predicted')\n",
    "plt.show()"
   ]
  },
  {
   "cell_type": "markdown",
   "id": "894c4e66",
   "metadata": {},
   "source": [
    "##### Attempt to remove Hetroscedasticity by altering independent variables\n",
    "We will try to change variables one-by-one and see if there is any impact in the hetroscadesticity. "
   ]
  },
  {
   "cell_type": "code",
   "execution_count": 38,
   "id": "56c311a0",
   "metadata": {},
   "outputs": [
    {
     "data": {
      "text/plain": [
       "array([[<AxesSubplot:title={'center':'bmi'}>,\n",
       "        <AxesSubplot:title={'center':'age'}>]], dtype=object)"
      ]
     },
     "execution_count": 38,
     "metadata": {},
     "output_type": "execute_result"
    },
    {
     "data": {
      "image/png": "[encoded data removed]",
      "text/plain": [
       "<Figure size 432x288 with 2 Axes>"
      ]
     },
     "metadata": {
      "needs_background": "light"
     },
     "output_type": "display_data"
    }
   ],
   "source": [
    "insurance_cost_revised[['bmi','age']].hist()"
   ]
  },
  {
   "cell_type": "markdown",
   "id": "404f398c",
   "metadata": {},
   "source": [
    "Let us standardize age variable or all of the input variables. You can comment the relevant section to see the output. "
   ]
  },
  {
   "cell_type": "code",
   "execution_count": 42,
   "id": "85b1e642",
   "metadata": {},
   "outputs": [
    {
     "name": "stdout",
     "output_type": "stream",
     "text": [
      "    charges\n",
      "0  9.734176\n",
      "1  7.453302\n",
      "2  8.400538\n",
      "3  9.998092\n",
      "4  8.260197\n",
      "   const       age       bmi  children    smoker\n",
      "0    1.0  2.944439  3.328627 -0.908274  1.969850\n",
      "1    1.0  2.890372  3.519573 -0.078738 -0.507273\n",
      "2    1.0  3.332205  3.496508  1.580335 -0.507273\n",
      "3    1.0  3.496508  3.122585 -0.908274 -0.507273\n",
      "4    1.0  3.465736  3.363149 -0.908274 -0.507273\n"
     ]
    },
    {
     "data": {
      "text/html": [
       "<table class=\"simpletable\">\n",
       "<tr>\n",
       "        <td>Model:</td>               <td>OLS</td>         <td>Adj. R-squared:</td>     <td>0.761</td>  \n",
       "</tr>\n",
       "<tr>\n",
       "  <td>Dependent Variable:</td>      <td>charges</td>            <td>AIC:</td>         <td>1323.5895</td>\n",
       "</tr>\n",
       "<tr>\n",
       "         <td>Date:</td>        <td>2022-05-13 15:07</td>        <td>BIC:</td>         <td>1348.4665</td>\n",
       "</tr>\n",
       "<tr>\n",
       "   <td>No. Observations:</td>        <td>1070</td>         <td>Log-Likelihood:</td>    <td>-656.79</td> \n",
       "</tr>\n",
       "<tr>\n",
       "       <td>Df Model:</td>              <td>4</td>           <td>F-statistic:</td>       <td>850.1</td>  \n",
       "</tr>\n",
       "<tr>\n",
       "     <td>Df Residuals:</td>          <td>1065</td>       <td>Prob (F-statistic):</td>   <td>0.00</td>   \n",
       "</tr>\n",
       "<tr>\n",
       "      <td>R-squared:</td>            <td>0.761</td>            <td>Scale:</td>         <td>0.20078</td> \n",
       "</tr>\n",
       "</table>\n",
       "<table class=\"simpletable\">\n",
       "<tr>\n",
       "      <td></td>      <th>Coef.</th> <th>Std.Err.</th>    <th>t</th>     <th>P>|t|</th> <th>[0.025</th> <th>0.975]</th>\n",
       "</tr>\n",
       "<tr>\n",
       "  <th>const</th>    <td>3.5274</td>  <td>0.2512</td>  <td>14.0424</td> <td>0.0000</td> <td>3.0345</td> <td>4.0204</td>\n",
       "</tr>\n",
       "<tr>\n",
       "  <th>age</th>      <td>1.2612</td>  <td>0.0354</td>  <td>35.5842</td> <td>0.0000</td> <td>1.1916</td> <td>1.3307</td>\n",
       "</tr>\n",
       "<tr>\n",
       "  <th>bmi</th>      <td>0.3039</td>  <td>0.0677</td>  <td>4.4884</td>  <td>0.0000</td> <td>0.1710</td> <td>0.4367</td>\n",
       "</tr>\n",
       "<tr>\n",
       "  <th>children</th> <td>0.0916</td>  <td>0.0136</td>  <td>6.7229</td>  <td>0.0000</td> <td>0.0649</td> <td>0.1183</td>\n",
       "</tr>\n",
       "<tr>\n",
       "  <th>smoker</th>   <td>0.6194</td>  <td>0.0138</td>  <td>44.8728</td> <td>0.0000</td> <td>0.5923</td> <td>0.6465</td>\n",
       "</tr>\n",
       "</table>\n",
       "<table class=\"simpletable\">\n",
       "<tr>\n",
       "     <td>Omnibus:</td>    <td>423.829</td>  <td>Durbin-Watson:</td>     <td>1.930</td> \n",
       "</tr>\n",
       "<tr>\n",
       "  <td>Prob(Omnibus):</td>  <td>0.000</td>  <td>Jarque-Bera (JB):</td> <td>1759.764</td>\n",
       "</tr>\n",
       "<tr>\n",
       "       <td>Skew:</td>      <td>1.867</td>      <td>Prob(JB):</td>       <td>0.000</td> \n",
       "</tr>\n",
       "<tr>\n",
       "     <td>Kurtosis:</td>    <td>8.053</td>   <td>Condition No.:</td>      <td>96</td>   \n",
       "</tr>\n",
       "</table>"
      ],
      "text/plain": [
       "<class 'statsmodels.iolib.summary2.Summary'>\n",
       "\"\"\"\n",
       "                 Results: Ordinary least squares\n",
       "==================================================================\n",
       "Model:              OLS              Adj. R-squared:     0.761    \n",
       "Dependent Variable: charges          AIC:                1323.5895\n",
       "Date:               2022-05-13 15:07 BIC:                1348.4665\n",
       "No. Observations:   1070             Log-Likelihood:     -656.79  \n",
       "Df Model:           4                F-statistic:        850.1    \n",
       "Df Residuals:       1065             Prob (F-statistic): 0.00     \n",
       "R-squared:          0.761            Scale:              0.20078  \n",
       "--------------------------------------------------------------------\n",
       "              Coef.    Std.Err.      t      P>|t|    [0.025   0.975]\n",
       "--------------------------------------------------------------------\n",
       "const         3.5274     0.2512   14.0424   0.0000   3.0345   4.0204\n",
       "age           1.2612     0.0354   35.5842   0.0000   1.1916   1.3307\n",
       "bmi           0.3039     0.0677    4.4884   0.0000   0.1710   0.4367\n",
       "children      0.0916     0.0136    6.7229   0.0000   0.0649   0.1183\n",
       "smoker        0.6194     0.0138   44.8728   0.0000   0.5923   0.6465\n",
       "------------------------------------------------------------------\n",
       "Omnibus:              423.829      Durbin-Watson:         1.930   \n",
       "Prob(Omnibus):        0.000        Jarque-Bera (JB):      1759.764\n",
       "Skew:                 1.867        Prob(JB):              0.000   \n",
       "Kurtosis:             8.053        Condition No.:         96      \n",
       "==================================================================\n",
       "\n",
       "\"\"\""
      ]
     },
     "execution_count": 42,
     "metadata": {},
     "output_type": "execute_result"
    }
   ],
   "source": [
    "X_variables = insurance_cost_revised.loc[:,insurance_cost_revised.columns != 'charges']\n",
    "X_variables = sm.add_constant(X_variables)\n",
    "X_variables['bmi'] = np.log(X_variables['bmi'])\n",
    "X_variables['age'] = np.log(X_variables['age'])\n",
    "X_variables['children'] = standardized(X_variables['children'])\n",
    "X_variables['smoker'] = standardized(X_variables['smoker'])\n",
    "\n",
    "Y_var = pd.DataFrame(insurance_cost_revised['charges'],columns = ['charges'])\n",
    "Y_var = np.log(Y_var)\n",
    "print(Y_var.head())\n",
    "print(X_variables.head())\n",
    "\n",
    "train_X,test_X,train_y,test_y = train_test_split(X_variables,\n",
    "                                                Y_var,\n",
    "                                                train_size = 0.80,\n",
    "                                                random_state = 121)\n",
    "\n",
    "model_7 = sm.OLS(train_y,train_X).fit()\n",
    "model_7.summary2()"
   ]
  },
  {
   "cell_type": "markdown",
   "id": "6e05bc20",
   "metadata": {},
   "source": [
    "We have achieved the highest value of R-Squared yet let us do the test for Homoscadisticity and normality of residuals again.\n",
    "<br>While the homoscedasticity is yet to be evaluated we have achieved a higher value of R-Squared as 0.761 which is a good thing. "
   ]
  },
  {
   "cell_type": "code",
   "execution_count": 43,
   "id": "831ae5af",
   "metadata": {},
   "outputs": [
    {
     "data": {
      "text/plain": [
       "<Figure size 576x432 with 0 Axes>"
      ]
     },
     "metadata": {},
     "output_type": "display_data"
    },
    {
     "data": {
      "image/png": "[encoded data removed]",
      "text/plain": [
       "<Figure size 432x288 with 1 Axes>"
      ]
     },
     "metadata": {
      "needs_background": "light"
     },
     "output_type": "display_data"
    }
   ],
   "source": [
    "import matplotlib.pyplot as plt\n",
    "import seaborn as sns\n",
    "insurance_data_resid = model_7.resid\n",
    "probplot = sm.ProbPlot(insurance_data_resid)\n",
    "plt.figure(figsize = (8,6))\n",
    "probplot.ppplot(line = '45')\n",
    "plt.title('Normal PP Plot of Regression Standardized Residuals')\n",
    "plt.show()"
   ]
  },
  {
   "cell_type": "code",
   "execution_count": 44,
   "id": "ca672eae",
   "metadata": {},
   "outputs": [
    {
     "data": {
      "image/png": "[encoded data removed]",
      "text/plain": [
       "<Figure size 432x288 with 1 Axes>"
      ]
     },
     "metadata": {
      "needs_background": "light"
     },
     "output_type": "display_data"
    }
   ],
   "source": [
    "plt.scatter(standardized(model_7.fittedvalues),standardized(model_7.resid))\n",
    "plt.xlabel('Fitted Values')\n",
    "plt.ylabel('Residual')\n",
    "plt.show()"
   ]
  },
  {
   "cell_type": "code",
   "execution_count": 45,
   "id": "915b24b2",
   "metadata": {},
   "outputs": [
    {
     "name": "stdout",
     "output_type": "stream",
     "text": [
      "                Test Label    Test Value\n",
      "0          Test Statistics  1.048361e+02\n",
      "1  Test Statistics p-Value  1.906163e-16\n",
      "2             F-Statistics  8.823286e+00\n",
      "3           F-Test p-value  2.391576e-17\n"
     ]
    }
   ],
   "source": [
    "from statsmodels.stats.diagnostic import het_white\n",
    "white_test = het_white(model_7.resid,model_7.model.exog)\n",
    "labels = ['Test Statistics','Test Statistics p-Value','F-Statistics','F-Test p-value']\n",
    "#print(dict(zip(labels,white_test)))\n",
    "print(pd.DataFrame(dict(zip(labels,white_test)).items(),columns = ['Test Label','Test Value']))"
   ]
  },
  {
   "cell_type": "markdown",
   "id": "4bb97fd1",
   "metadata": {},
   "source": [
    "As we can see in the above table the p-values are less than 0.05, which means we have to reject Null hypothesis which is Homoscedasticity is present. Which means that there is presence of hetroscedasticity. So we are unable to remove the Hetroscedasticity from the data. So we will run with Model_7 with improved R-Squared value.\n",
    "\n",
    "Let us test the values of the predicted Y-Values to understand the accuracy of the model. "
   ]
  },
  {
   "cell_type": "code",
   "execution_count": 46,
   "id": "a88808fe",
   "metadata": {},
   "outputs": [
    {
     "name": "stdout",
     "output_type": "stream",
     "text": [
      "R2 Score 0.7682519851617251\n"
     ]
    },
    {
     "data": {
      "image/png": "[encoded data removed]",
      "text/plain": [
       "<Figure size 432x288 with 1 Axes>"
      ]
     },
     "metadata": {
      "needs_background": "light"
     },
     "output_type": "display_data"
    }
   ],
   "source": [
    "pred = model_7.predict(test_X)\n",
    "from sklearn.metrics import r2_score\n",
    "print(\"R2 Score\",r2_score(test_y,pred))\n",
    "plt.scatter(test_y,pred)\n",
    "plt.xlabel('Y_Test')\n",
    "plt.ylabel('Y_Predicted')\n",
    "plt.show()"
   ]
  },
  {
   "cell_type": "markdown",
   "id": "45678911",
   "metadata": {},
   "source": [
    "This has reduced the value of R-Square for prediction values, so we can go ahead with the Model_6 as the final model. We will run the revised model so Train and Test variables take the correct form. "
   ]
  },
  {
   "cell_type": "code",
   "execution_count": 47,
   "id": "fac77521",
   "metadata": {},
   "outputs": [
    {
     "name": "stdout",
     "output_type": "stream",
     "text": [
      "   age     bmi  children  smoker      charges\n",
      "0   19  27.900         0       1  16884.92400\n",
      "1   18  33.770         1       0   1725.55230\n",
      "2   28  33.000         3       0   4449.46200\n",
      "3   33  22.705         0       0  21984.47061\n",
      "4   32  28.880         0       0   3866.85520\n",
      "       charges\n",
      "0  16884.92400\n",
      "1   1725.55230\n",
      "2   4449.46200\n",
      "3  21984.47061\n",
      "4   3866.85520\n",
      "   const  age     bmi  children  smoker\n",
      "0    1.0   19  27.900         0       1\n",
      "1    1.0   18  33.770         1       0\n",
      "2    1.0   28  33.000         3       0\n",
      "3    1.0   33  22.705         0       0\n",
      "4    1.0   32  28.880         0       0\n"
     ]
    },
    {
     "data": {
      "text/html": [
       "<table class=\"simpletable\">\n",
       "<tr>\n",
       "        <td>Model:</td>               <td>OLS</td>         <td>Adj. R-squared:</td>      <td>0.745</td>  \n",
       "</tr>\n",
       "<tr>\n",
       "  <td>Dependent Variable:</td>      <td>charges</td>            <td>AIC:</td>         <td>21695.7401</td>\n",
       "</tr>\n",
       "<tr>\n",
       "         <td>Date:</td>        <td>2022-05-13 15:14</td>        <td>BIC:</td>         <td>21720.6172</td>\n",
       "</tr>\n",
       "<tr>\n",
       "   <td>No. Observations:</td>        <td>1070</td>         <td>Log-Likelihood:</td>     <td>-10843.</td> \n",
       "</tr>\n",
       "<tr>\n",
       "       <td>Df Model:</td>              <td>4</td>           <td>F-statistic:</td>        <td>782.3</td>  \n",
       "</tr>\n",
       "<tr>\n",
       "     <td>Df Residuals:</td>          <td>1065</td>       <td>Prob (F-statistic):</td>  <td>3.93e-315</td>\n",
       "</tr>\n",
       "<tr>\n",
       "      <td>R-squared:</td>            <td>0.746</td>            <td>Scale:</td>        <td>3.7276e+07</td>\n",
       "</tr>\n",
       "</table>\n",
       "<table class=\"simpletable\">\n",
       "<tr>\n",
       "      <td></td>        <th>Coef.</th>    <th>Std.Err.</th>      <th>t</th>     <th>P>|t|</th>   <th>[0.025</th>      <th>0.975]</th>  \n",
       "</tr>\n",
       "<tr>\n",
       "  <th>const</th>    <td>-11146.3650</td> <td>1056.9188</td> <td>-10.5461</td> <td>0.0000</td> <td>-13220.2447</td> <td>-9072.4852</td>\n",
       "</tr>\n",
       "<tr>\n",
       "  <th>age</th>       <td>255.5331</td>    <td>13.3528</td>   <td>19.1371</td> <td>0.0000</td>  <td>229.3324</td>    <td>281.7338</td> \n",
       "</tr>\n",
       "<tr>\n",
       "  <th>bmi</th>       <td>294.9581</td>    <td>30.7651</td>   <td>9.5874</td>  <td>0.0000</td>  <td>234.5909</td>    <td>355.3253</td> \n",
       "</tr>\n",
       "<tr>\n",
       "  <th>children</th>  <td>433.8549</td>   <td>153.6508</td>   <td>2.8236</td>  <td>0.0048</td>  <td>132.3622</td>    <td>735.3475</td> \n",
       "</tr>\n",
       "<tr>\n",
       "  <th>smoker</th>   <td>23915.9110</td>  <td>465.9029</td>   <td>51.3324</td> <td>0.0000</td> <td>23001.7191</td>  <td>24830.1029</td>\n",
       "</tr>\n",
       "</table>\n",
       "<table class=\"simpletable\">\n",
       "<tr>\n",
       "     <td>Omnibus:</td>    <td>270.853</td>  <td>Durbin-Watson:</td>    <td>2.006</td> \n",
       "</tr>\n",
       "<tr>\n",
       "  <td>Prob(Omnibus):</td>  <td>0.000</td>  <td>Jarque-Bera (JB):</td> <td>714.539</td>\n",
       "</tr>\n",
       "<tr>\n",
       "       <td>Skew:</td>      <td>1.308</td>      <td>Prob(JB):</td>      <td>0.000</td> \n",
       "</tr>\n",
       "<tr>\n",
       "     <td>Kurtosis:</td>    <td>6.031</td>   <td>Condition No.:</td>     <td>291</td>  \n",
       "</tr>\n",
       "</table>"
      ],
      "text/plain": [
       "<class 'statsmodels.iolib.summary2.Summary'>\n",
       "\"\"\"\n",
       "                   Results: Ordinary least squares\n",
       "=====================================================================\n",
       "Model:                OLS              Adj. R-squared:     0.745     \n",
       "Dependent Variable:   charges          AIC:                21695.7401\n",
       "Date:                 2022-05-13 15:14 BIC:                21720.6172\n",
       "No. Observations:     1070             Log-Likelihood:     -10843.   \n",
       "Df Model:             4                F-statistic:        782.3     \n",
       "Df Residuals:         1065             Prob (F-statistic): 3.93e-315 \n",
       "R-squared:            0.746            Scale:              3.7276e+07\n",
       "---------------------------------------------------------------------\n",
       "            Coef.     Std.Err.    t     P>|t|     [0.025     0.975]  \n",
       "---------------------------------------------------------------------\n",
       "const    -11146.3650 1056.9188 -10.5461 0.0000 -13220.2447 -9072.4852\n",
       "age         255.5331   13.3528  19.1371 0.0000    229.3324   281.7338\n",
       "bmi         294.9581   30.7651   9.5874 0.0000    234.5909   355.3253\n",
       "children    433.8549  153.6508   2.8236 0.0048    132.3622   735.3475\n",
       "smoker    23915.9110  465.9029  51.3324 0.0000  23001.7191 24830.1029\n",
       "---------------------------------------------------------------------\n",
       "Omnibus:              270.853        Durbin-Watson:           2.006  \n",
       "Prob(Omnibus):        0.000          Jarque-Bera (JB):        714.539\n",
       "Skew:                 1.308          Prob(JB):                0.000  \n",
       "Kurtosis:             6.031          Condition No.:           291    \n",
       "=====================================================================\n",
       "\n",
       "\"\"\""
      ]
     },
     "execution_count": 47,
     "metadata": {},
     "output_type": "execute_result"
    }
   ],
   "source": [
    "insurance_cost_revised = insurance_cost_revised.loc[:,insurance_cost_revised.columns != 'region_southeast']\n",
    "print(insurance_cost_revised.head())\n",
    "\n",
    "\n",
    "X_variables = insurance_cost_revised.loc[:,insurance_cost_revised.columns != 'charges']\n",
    "X_variables = sm.add_constant(X_variables)\n",
    "Y_var = pd.DataFrame(insurance_cost_revised['charges'],columns = ['charges'])\n",
    "print(Y_var.head())\n",
    "print(X_variables.head())\n",
    "train_X,test_X,train_y,test_y = train_test_split(X_variables,\n",
    "                                                Y_var,\n",
    "                                                train_size = 0.80,\n",
    "                                                random_state = 121)\n",
    "\n",
    "model_6 = sm.OLS(train_y,train_X).fit()\n",
    "model_6.summary2()"
   ]
  },
  {
   "cell_type": "markdown",
   "id": "5a3a3dc1",
   "metadata": {},
   "source": [
    "##### Testing for Multi-colinearity\n",
    "To test for multi-coliearity we can check for VIF to check for multi-colinearity the VIF value > 4 means multi-coliniearity. \n",
    "<br>Also, condition number is showing in model 6 above that the multi-colinearity has reduced from contition number = 316. "
   ]
  },
  {
   "cell_type": "code",
   "execution_count": 44,
   "id": "c4162c92",
   "metadata": {},
   "outputs": [],
   "source": [
    "from statsmodels.stats.outliers_influence import variance_inflation_factor\n",
    "def get_vif_factors(X):\n",
    "    X_matrix = np.matrix(X_variables)\n",
    "    vif = [variance_inflation_factor(X_matrix,i) for i in range(X_matrix.shape[1])]\n",
    "    vif_factors = pd.DataFrame()\n",
    "    vif_factors['column'] = X_variables.columns\n",
    "    vif_factors['VIF'] = vif\n",
    "    return vif_factors"
   ]
  },
  {
   "cell_type": "code",
   "execution_count": 45,
   "id": "edb3ce7e",
   "metadata": {},
   "outputs": [
    {
     "data": {
      "text/html": [
       "<div>\n",
       "<style scoped>\n",
       "    .dataframe tbody tr th:only-of-type {\n",
       "        vertical-align: middle;\n",
       "    }\n",
       "\n",
       "    .dataframe tbody tr th {\n",
       "        vertical-align: top;\n",
       "    }\n",
       "\n",
       "    .dataframe thead th {\n",
       "        text-align: right;\n",
       "    }\n",
       "</style>\n",
       "<table border=\"1\" class=\"dataframe\">\n",
       "  <thead>\n",
       "    <tr style=\"text-align: right;\">\n",
       "      <th></th>\n",
       "      <th>column</th>\n",
       "      <th>VIF</th>\n",
       "    </tr>\n",
       "  </thead>\n",
       "  <tbody>\n",
       "    <tr>\n",
       "      <th>0</th>\n",
       "      <td>const</td>\n",
       "      <td>339.464829</td>\n",
       "    </tr>\n",
       "    <tr>\n",
       "      <th>1</th>\n",
       "      <td>age</td>\n",
       "      <td>1.020902</td>\n",
       "    </tr>\n",
       "    <tr>\n",
       "      <th>2</th>\n",
       "      <td>bmi</td>\n",
       "      <td>1.012139</td>\n",
       "    </tr>\n",
       "    <tr>\n",
       "      <th>3</th>\n",
       "      <td>children</td>\n",
       "      <td>1.008383</td>\n",
       "    </tr>\n",
       "    <tr>\n",
       "      <th>4</th>\n",
       "      <td>smoker</td>\n",
       "      <td>1.000615</td>\n",
       "    </tr>\n",
       "  </tbody>\n",
       "</table>\n",
       "</div>"
      ],
      "text/plain": [
       "     column         VIF\n",
       "0     const  339.464829\n",
       "1       age    1.020902\n",
       "2       bmi    1.012139\n",
       "3  children    1.008383\n",
       "4    smoker    1.000615"
      ]
     },
     "execution_count": 45,
     "metadata": {},
     "output_type": "execute_result"
    }
   ],
   "source": [
    "vif_factors  = get_vif_factors(X_variables)\n",
    "vif_factors"
   ]
  },
  {
   "cell_type": "markdown",
   "id": "d30e5d0e",
   "metadata": {},
   "source": [
    "##### Identification of any critical line item\n",
    "If there is any highly influential observation our model may get skewed by that data point. We check this by:\n",
    "- Leverage Plot\n",
    "- Cooks Distance\n",
    "\n",
    "Very large circles on leverage plot means highly influential data point (and we might have to remove them).\n",
    "Similarly, cooks distance > 1 means there are influential data points. We do both these tests in following segments."
   ]
  },
  {
   "cell_type": "code",
   "execution_count": 46,
   "id": "d71a2e5c",
   "metadata": {},
   "outputs": [
    {
     "data": {
      "image/png": "[encoded data removed]",
      "text/plain": [
       "<Figure size 720x720 with 1 Axes>"
      ]
     },
     "metadata": {
      "needs_background": "light"
     },
     "output_type": "display_data"
    }
   ],
   "source": [
    "from statsmodels.graphics.regressionplots import influence_plot\n",
    "fig,ax = plt.subplots(figsize = (10,10))\n",
    "influence_plot(model_7,ax = ax)\n",
    "plt.title(\"Figure - Leverage Values vs Residual\")\n",
    "plt.show()"
   ]
  },
  {
   "cell_type": "markdown",
   "id": "c5e786fa",
   "metadata": {},
   "source": [
    "Computing the cook's distance"
   ]
  },
  {
   "cell_type": "code",
   "execution_count": 50,
   "id": "1e6c23f3",
   "metadata": {},
   "outputs": [
    {
     "data": {
      "image/png": "[encoded data removed]",
      "text/plain": [
       "<Figure size 432x288 with 1 Axes>"
      ]
     },
     "metadata": {
      "needs_background": "light"
     },
     "output_type": "display_data"
    }
   ],
   "source": [
    "insurance_influence = model_7.get_influence()\n",
    "(c,p) = insurance_influence.cooks_distance\n",
    "plt.stem(np.arange(len(train_X)),\n",
    "        np.round(c,3),\n",
    "        markerfmt = ',')\n",
    "plt.title('Cooks Distance for Insurance Data')\n",
    "plt.xlabel('Row Index')\n",
    "plt.ylabel('Cooks Distance')\n",
    "plt.show()"
   ]
  },
  {
   "cell_type": "markdown",
   "id": "6b49adf3",
   "metadata": {},
   "source": [
    "#### Summarizing\n",
    "To summarize we follow following steps to create a linear regression model:\n",
    "- Download the data\n",
    "- Perform EDA on the data (not covered in this notebook)\n",
    "- Prepare the data\n",
    "    - Convert categorical variables into dummy variables (K-1 for K levels of categories in each categorical variables)\n",
    "- Run the model and try to remove non important variables using Backward Elimination\n",
    "- Test the models basis the R-Squared of the model on test variables and train variables\n",
    "- Test for the assumption of statistical model\n",
    "    - Distribution of Residuals\n",
    "    - Homoscedasticity\n",
    "    - Multi-Colinearity\n",
    "    - Identification and elimination of critical observations\n",
    "\n",
    "While creation of the model is the first step, arriving at the correct model via testing assumptions is very critical. \n",
    "\n",
    "Hope this helps if there is any errata in the above steps/ obervations please do let me know via comments. \n",
    "Images are from the python data and remaining images created by hand. "
   ]
  },
  {
   "cell_type": "code",
   "execution_count": null,
   "id": "30ac2881",
   "metadata": {},
   "outputs": [],
   "source": []
  }
 ],
 "metadata": {
  "kernelspec": {
   "display_name": "Python 3 (ipykernel)",
   "language": "python",
   "name": "python3"
  },
  "language_info": {
   "codemirror_mode": {
    "name": "ipython",
    "version": 3
   },
   "file_extension": ".py",
   "mimetype": "text/x-python",
   "name": "python",
   "nbconvert_exporter": "python",
   "pygments_lexer": "ipython3",
   "version": "3.8.13"
  }
 },
 "nbformat": 4,
 "nbformat_minor": 5
}
